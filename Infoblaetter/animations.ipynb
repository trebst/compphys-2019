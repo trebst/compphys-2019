{
 "cells": [
  {
   "cell_type": "markdown",
   "metadata": {},
   "source": [
    "<table style=\"width: 100%; border-style: none;\">\n",
    "<tr style=\"border-style: none\">\n",
    "<td style=\"border-style: none; width: 1%; text-align: left; font-size: 16px\">Institut f&uuml;r Theoretische Physik<br /> Universit&auml;t zu K&ouml;ln</td>\n",
    "<td style=\"border-style: none; width: 1%; font-size: 16px\">&nbsp;</td>\n",
    "<td style=\"border-style: none; width: 1%; text-align: right; font-size: 16px\">Prof. Dr. Simon Trebst<br />Jan Attig</td>\n",
    "</tr>\n",
    "</table>\n",
    "<hr>\n",
    "<h1 style=\"font-weight:bold; text-align: center; margin: 0px; padding:0px;\">Computerphysik</h1>\n",
    "<h1 style=\"font-weight:bold; text-align: center; margin: 0px; padding:0px;\">Infoblatt Animationen</h1>\n",
    "<hr>\n",
    "<h3 style=\"font-weight:bold; text-align: center; margin: 0px; padding:0px; margin-bottom: 20px;\">Sommersemester 2019</h3>\n",
    "\n",
    "**Website:** [http://www.thp.uni-koeln.de/trebst/Lectures/2019-CompPhys.shtml](http://www.thp.uni-koeln.de/trebst/Lectures/2019-CompPhys.shtml)"
   ]
  },
  {
   "cell_type": "markdown",
   "metadata": {},
   "source": [
    "<table style=\"border-style: none; width: 100%\"><tr style=\"border-style: none;\">\n",
    "<td style=\"border-style: none; width: 1%; font-size: 24px; font-weight: bold; text-align: left\">Inhaltsverzeichnis</td>\n",
    "<td style=\"border-style: none; width: 1%; font-size: 15px; text-align: right\"></td></tr></table>\n",
    "\n",
    "1. Einleitung / benutzte Pakete\n",
    "2. Animationen\n",
    "    1. Reminder: Plotten\n",
    "    2. Einfache Animationen einer Linie\n",
    "    3. Animationen speichern\n",
    "    4. PyPlot animation interface\n",
    "3. FAQ / Häufige Fragen"
   ]
  },
  {
   "cell_type": "markdown",
   "metadata": {},
   "source": [
    "<table style=\"border-style: none; width: 100%\"><tr style=\"border-style: none;\">\n",
    "<td style=\"border-style: none; width: 1%; font-size: 24px; font-weight: bold; text-align: left\">1. Einleitung und benutzte Pakete</td>\n",
    "<td style=\"border-style: none; width: 1%; font-size: 15px; text-align: right\"></td></tr></table>\n",
    "\n",
    "Im Folgenden Infoblatt wollen wir Ihnen eine Einführung in das Thema Animationen mit PyPlot bieten. Am Besten arbeiten Sie wie folgt: \n",
    "1.  Installieren Sie die nötigen Pakete\n",
    "2.  Lesen Sie Abschnitt 2 von oben bis unten durch\n",
    "3.  Versuchen Sie Ihre eigenen Animationen zu erzeugen. Dafür können Sie sich am Code von Abschnitt 2 orientieren und das FAQ aus Abschnitt 3 benutzen.\n",
    "\n",
    "Die Bibliotheken, die Sie für das Plotten und Animieren von Daten benötigen sind nur `PyCall` und `PyPlot`. Zum Installieren, führen Sie bitte folgende Zelle aus:"
   ]
  },
  {
   "cell_type": "code",
   "execution_count": null,
   "metadata": {},
   "outputs": [],
   "source": [
    "]add PyCall PyPlot"
   ]
  },
  {
   "cell_type": "markdown",
   "metadata": {},
   "source": [
    "Bevor Sie die Bibliotheken zum Plotten oder Animieren verwenden können, müssen Sie diese in Ihren Code einbinden:"
   ]
  },
  {
   "cell_type": "code",
   "execution_count": null,
   "metadata": {},
   "outputs": [],
   "source": [
    "using PyPlot\n",
    "using PyCall\n",
    "anim = pyimport(\"matplotlib.animation\")\n",
    "pygui(true); # Dieser Befehl sorgt dafür, dass beim Plotten ein extra Fenster geöffnet wird, hier unbedingt nötig!"
   ]
  },
  {
   "cell_type": "markdown",
   "metadata": {},
   "source": [
    "<table style=\"border-style: none; width: 100%\"><tr style=\"border-style: none;\">\n",
    "<td style=\"border-style: none; width: 1%; font-size: 24px; font-weight: bold; text-align: left\">2. Animationen</td>\n",
    "<td style=\"border-style: none; width: 1%; font-size: 15px; text-align: right\"></td></tr></table>\n",
    "\n",
    "Im Folgenden wollen wir Ihnen eine Einführung in das Thema Animationen geben. Wir beginnen mit einem kurzen Reminder zum Thema Plotten und werden die nötigen Konzepte einer Animation aus dem Inhalt dieses Reminders entwickeln.\n",
    "\n",
    "\n",
    "## 2.A. Reminder Plotten\n",
    "\n",
    "Zuerst möchten wir noch einmal rekapitulieren, wie Sie mittels PyPlot Daten plotten können. Wir nehmen als Beispiel eine Funktion $f(x) = (x-a)^2$, die mittels des Parameters $a$ auf der x-Achse verschoben werden kann.\n",
    "\n",
    "Der folgende Julia Code ist ein minimales Beispiel für die Schritte, die unternommen werden müssen, um $f$ zu plotten:\n",
    "1.  Definieren von $a$ in Julia als Variable `a = 1.0`\n",
    "2.  Erzeugen von $f$ als Julia Function mittels `f(x) = (x-a)^2`\n",
    "3.  Erzeugen der x und y Werte die geplottet werden sollen (`x_vals` und `y_vals`)\n",
    "4.  Eine neue Figur erzeugen mittels `figure()`\n",
    "5.  Daten plotten mittels `plot(x_vals, y_vals)`\n",
    "\n",
    "Dabei bezeichnen die Schritte 1. - 3. explizit Schritte, die sich nur auf den Daten abspielen und 4. und 5. Schritte, die nur für das Plotten relevant sind und an sich von den Daten unabhängig sind.\n",
    "\n",
    "*Hinweis*: Schritt 4. mögen Sie bisher nicht allzu häufig gesehen haben. Seine Funktion ist explizit ein neues Fenster zu erzeugen, in das geplottet werden kann. Er stellt Ihnen sozusagen den Rahmen in denen Ihre Graphen angezeigt werden zur Verfügung. Seine Bedeutung werden Sie in späteren Abschnitten kennen lernen."
   ]
  },
  {
   "cell_type": "code",
   "execution_count": null,
   "metadata": {},
   "outputs": [],
   "source": [
    "# Funktion definieren\n",
    "a = 0.0\n",
    "f(x) = (x-a)^2\n",
    "# Daten erzeugen\n",
    "x_vals = range(-1, stop=2, length=100)\n",
    "y_vals = f.(x_vals)\n",
    "\n",
    "# Plotten\n",
    "figure()\n",
    "plot(x_vals, y_vals)"
   ]
  },
  {
   "cell_type": "markdown",
   "metadata": {},
   "source": [
    "## 2.B. Plotten und Updaten --> Animation\n",
    "\n",
    "Eine Animation ist letzten Endes nichts anderes als eine Sequenz von verschiedenen Plots, die so schnell hintereinander abgespielt wird, dass der Effekt eines flüssigen Films entsteht. Um eine solche Animation zu erstellen benötigen wir zuerst eine Variation unserer Daten, in unserem Beispiel verändern wir den Parameter $a$ und wollen uns $f(x) = (x-a)^2$ für steigendes $a$ anschauen.\n",
    "\n",
    "Ein naiver Impuls könnte sein, einfach eine `for` Schleife über alle zu betrachtenen Parameter $a$ zu erstellen und in der Schleife jeweils die Daten neu zu berechnen und neu zu plotten, wie unten demonstriert:"
   ]
  },
  {
   "cell_type": "code",
   "execution_count": null,
   "metadata": {},
   "outputs": [],
   "source": [
    "# Funktion definieren\n",
    "a = 0.0\n",
    "f(x) = (x-a)^2\n",
    "# Daten erzeugen\n",
    "x_vals = range(-1, stop=2, length=100)\n",
    "y_vals = f.(x_vals)\n",
    "\n",
    "\n",
    "# Figur erstellen\n",
    "figure()\n",
    "\n",
    "# Schleife ueber alle a Werte\n",
    "for a in range(0.0, stop=1.0, length=10)\n",
    "    \n",
    "    # Daten neu berechnen\n",
    "    f(x) = (x-a)^2\n",
    "    y_vals = f.(x_vals)\n",
    "    \n",
    "    # Daten neu plotten\n",
    "    plot(x_vals, y_vals)\n",
    "end"
   ]
  },
  {
   "cell_type": "markdown",
   "metadata": {},
   "source": [
    "Wie Sie erkennen können, haben wir damit zwar alle Funktionen $f(x) = (x-a)^2$ für steigendes $a$ geplottet, allerdings wurden alle Funktionen *auf einmal* in ein *einziges* Bild geplottet (wie Sie als aufmerksamer Leser zweifelsohne erwartet haben) und eben *nicht* animiert.\n",
    "\n",
    "Die Lösung des Problems ist folgende Beobachtung: Wir wollen eben nicht *verschiedene Funktionen* plotten, sondern *eine* Funktion und diese mehrmals *verändern*.\n",
    "\n",
    "Genau diese Funktionalität ist in `PyPlot` bereits eingebaut. Wir verändern unseren Code in folgender Weise:\n",
    "1.  Wir müssen einmal erstmalig die Daten plotten um die Linie im Bild (die wir verändern wollen) als Julia Objekt zu erhalten.    \n",
    "    Dies geschieht mittels `line, = plot(x_vals, y_vals)`.    \n",
    "    (Beachten Sie, dass das  \"`,`\" dazu führt, dass alle anderen Rückgabewerte außer der gewollten Linie nicht mit abgespeichert werden)\n",
    "2.  Wenn wir die Linie aktualisieren wollen, sprich neue x und y Werte setzen wollen, führen wir `line.set_data(x_vals, y_vals)` aus.\n",
    "3.  Nach jeder Aktualisierung wollen wir das neue Bild dem Benutzer für eine bestimmte Zeit zeigen, dies geschieht mittels `pause(zeit)`\n",
    "\n",
    "Mit diesen Änderungen wird der Code zu:"
   ]
  },
  {
   "cell_type": "code",
   "execution_count": null,
   "metadata": {},
   "outputs": [],
   "source": [
    "# Funktion definieren\n",
    "a = 0.0\n",
    "f(x) = (x-a)^2\n",
    "# Daten erzeugen\n",
    "x_vals = range(-1, stop=2, length=100)\n",
    "y_vals = f.(x_vals)\n",
    "\n",
    "\n",
    "# Figur erstellen\n",
    "figure()\n",
    "\n",
    "# Erstmaliges Plotten (Linie erstellen)\n",
    "line, = plot(x_vals, y_vals)\n",
    "\n",
    "\n",
    "# Schleife ueber alle a Werte\n",
    "for a in range(0.0, stop=1.0, length=10)\n",
    "    \n",
    "    # Daten neu berechnen\n",
    "    f(x) = (x-a)^2\n",
    "    y_vals = f.(x_vals)\n",
    "    \n",
    "    # Daten in der Linie aktualisieren\n",
    "    line.set_data(x_vals, y_vals)\n",
    "    \n",
    "    # Für 0.2s dem Benutzer anzeigen\n",
    "    pause(0.2)\n",
    "end"
   ]
  },
  {
   "cell_type": "markdown",
   "metadata": {},
   "source": [
    "Grundsätzlich funktioniert die oben erläuterte Technik mit allen möglichen Verianten von Plotting in PyPlot -- Sie müssen lediglich die geplottete Linie / Punktwolke / Bild / etc. abspeichern und später aktualisieren, sobald sich Ihre Daten verändert haben. Mehr zu individuellen Änderungsfunktionen folgt später."
   ]
  },
  {
   "cell_type": "markdown",
   "metadata": {},
   "source": [
    "## 2.C. Plotten, Updaten und Speichern --> Animation in Datei\n",
    "\n",
    "Der nächste Schritt beim Thema Animationen ist das *Speichern* der Animation in einer Datei. Dafür gibt es in `PyPlot` sogenannte *MovieWriter*, die das aktuell dargestellte Bild einer Figur als Frame (Einzelbild) in eine Videodatei speichern können.\n",
    "\n",
    "Der Code muss also in folgenden Punkten abgeändert werden:\n",
    "1.  Die Figur in der geplottet wird muss nicht nur erzeugt, sondern auch als Julia Objekt abgespeichert werden. Dies geschieht mittels `fig = figure()`\n",
    "2.  Es muss ein `MovieWriter` erstellt werden. Dafür kann z.b. der `MencoderWriter` benutzt werden.     \n",
    "    Dieser wird mittels `writer = anim.MencoderWriter(fps=30)` für Videos mit 30 frames per second erstellt.\n",
    "3.  Dem MovieWriter muss mitgeteilt werden, dass er die Darstellung von unserer Figur `fig` in die Datei `\"test.mp4\"` speichern soll\n",
    "4.  Anstatt dem Benutzer die Aktualisierungen der Daten mittels `pause(.)` zu zeigen, wird dem MovieWriter mitgeteilt, dass er das aktuelle Bild als Frame des Videos verwenden soll. Dies geschieht mittels `writer.grab_frame()`\n",
    "5.  Sobald alle Frames verarbeitet wurden, wird dem MovieWriter mitgeteilt, dass die Animation jetzt fertig ist und er die Datei zu Ende schreiben darf. Dafür wird `writer.finish()` verwendet.\n",
    "\n",
    "Der gesamte Code wird somit zu:"
   ]
  },
  {
   "cell_type": "code",
   "execution_count": null,
   "metadata": {},
   "outputs": [],
   "source": [
    "# Funktion definieren\n",
    "a = 0.0\n",
    "f(x) = (x-a)^2\n",
    "# Daten erzeugen\n",
    "x_vals = range(-1, stop=2, length=100)\n",
    "y_vals = f.(x_vals)\n",
    "\n",
    "\n",
    "# Figur erstellen\n",
    "fig = figure()\n",
    "\n",
    "# Erstmaliges Plotten (Linie erstellen)\n",
    "line, = plot(x_vals, y_vals)\n",
    "\n",
    "\n",
    "# Writer erstellen fuer ein Video mit 30 frames per second\n",
    "writer = anim.MencoderWriter(fps=30)\n",
    "# Writer mitteilen, dass er die Darstellung von Figur fig in die Datei \"test.mp4\" speichern soll \n",
    "writer.setup(fig, \"test.mp4\")\n",
    "\n",
    "\n",
    "# Schleife ueber alle 30 a Werte --> Video hat spaeter 30 frames mit 30 fps also ist 1s lang\n",
    "for a in range(0.0, stop=1.0, length=30)\n",
    "    \n",
    "    # Daten neu berechnen\n",
    "    f(x) = (x-a)^2\n",
    "    y_vals = f.(x_vals)\n",
    "    \n",
    "    # Daten in der Linie aktulalisieren\n",
    "    line.set_data(x_vals, y_vals)\n",
    "    \n",
    "    # Dem Writer mitteilen, dass das aktuelle Bild ein Frame des Videos ist\n",
    "    writer.grab_frame()\n",
    "end\n",
    "\n",
    "# Dem Writer mitteilen, dass die Animation beenden ist\n",
    "writer.finish()\n",
    "\n",
    "# Die Figur schliessen\n",
    "close(fig)"
   ]
  },
  {
   "cell_type": "markdown",
   "metadata": {},
   "source": [
    "## 2.D. Matplotlib.animation wrapper\n",
    "\n",
    "Wenn einem die verwendete Synatx im vorherigen Schritt zu viel wird, kann man sogar zusätzlich das *animation interface* von `PyPlot` verwenden. In dieser Schnittstelle wird das komplette Bedienen des MovieWriters sowie die manuelle Schleife über Frames bereits vorimplementiert geliefert und der Nutzer muss nur eine einzige Funktion erstellen, die er an die Animation übergibt. Diese Funktion hat die Aufgabe, die zwei elementaren Schritte für jeden Frame zu übernehmen:\n",
    "1.  Die Daten neu zu berechnen\n",
    "2.  Den Plot zu aktualisieren (in diesem Beispiel die Linie mit neuen Punkten zu versorgen)\n",
    "\n",
    "Das Animationsinterface ruft dann in einer eigenen `for`-Schleife diese Funktion vor jedem Frame auf und berechnet damit das neue Bild. Synatiktisch ändert sich der Code damit in folgenden Punkte:\n",
    "1.  Es werden alle expliziten Aufrufe des MovieWriters entfernt\n",
    "2.  Es wird die `for`-Schleife entfernt\n",
    "3.  Es wird eine Funktion erstellt, die a) die Daten für Frame `i` berechnet und b) den Plot auf Grund dieser Daten aktualisiert\n",
    "4.  Es wird ein Animationsobjekt aus dem animation interface erstellt mittels `animation = anim.FuncAnimation(fig, update_values, 50)` (hier fuer 50 Frames und mit Übergabe der passenden Figur und Updatefunktion)\n",
    "5.  Die Animation wird gespeichert. Dabei kann der MovieWriter wie vorher explizit angegeben werden.\n",
    "\n",
    "Insgesamt wird der Code somit zu"
   ]
  },
  {
   "cell_type": "code",
   "execution_count": null,
   "metadata": {},
   "outputs": [],
   "source": [
    "# Funktion definieren\n",
    "a = 0.0\n",
    "f(x) = (x-a)^2\n",
    "# Daten erzeugen\n",
    "x_vals = range(-1, stop=2, length=100)\n",
    "y_vals = f.(x_vals)\n",
    "\n",
    "\n",
    "\n",
    "# Figur erstellen\n",
    "fig = figure()\n",
    "\n",
    "# Erstmaliges Plotten (Linie erstellen)\n",
    "line, = plot(x_vals, y_vals)\n",
    "\n",
    "\n",
    "# die zu betrachtenden a Werte (50 Stueck fuer 50 Frames)\n",
    "a_vals = range(0.0, stop=1.0, length=50)\n",
    "\n",
    "# Update Funktion fuer\n",
    "# 1. Daten neu Berechnen\n",
    "# 2. Plot aktualisieren\n",
    "# Frame-Nummer wird als i uebergeben (i zwischen 0 und N-1)\n",
    "function update_values(i)\n",
    "    \n",
    "    # 1. Daten neu berechnen\n",
    "    a = a_vals[i+1]\n",
    "    f(x) = (x-a)^2\n",
    "    y_vals = f.(x_vals)\n",
    "    \n",
    "    # 2. Plot (Linie) aktualisieren\n",
    "    line.set_data(x_vals, y_vals)\n",
    "    \n",
    "end\n",
    "\n",
    "\n",
    "# Erstelle neue Animation der Figur fig mittels update funktion update_values und 50 Frames\n",
    "animation = anim.FuncAnimation(fig, update_values, 50)\n",
    "# Speicher die Animation (MovieWriter wird in der Zeile erstellt und uebergeben)\n",
    "animation.save(\"test_2.mp4\", writer=anim.MencoderWriter(fps=50, metadata=Dict(\"date\"=>\"2019\", \"artist\"=>\"Jan Attig\")))\n",
    "\n",
    "\n",
    "# Figur schliessen\n",
    "close(fig)"
   ]
  },
  {
   "cell_type": "markdown",
   "metadata": {},
   "source": [
    "<table style=\"border-style: none; width: 100%\"><tr style=\"border-style: none;\">\n",
    "<td style=\"border-style: none; width: 1%; font-size: 24px; font-weight: bold; text-align: left\">3. FAQ / häufige Fragen</td>\n",
    "<td style=\"border-style: none; width: 1%; font-size: 15px; text-align: right\"></td></tr></table>\n",
    "\n",
    "Insgesamt haben Sie in diesen vier Schritten 2.A. - 2.D. die Grundkonzepte von Animationen kennen gelernt. Für Ihre eigene Animation werden Sie ggf. weitere Inhalte brauchen, um Ihre Daten passend zu animieren. Dafür haben wir Ihnen ein FAQ zu den häufigsten Animations-Fragen erstellt."
   ]
  },
  {
   "cell_type": "markdown",
   "metadata": {},
   "source": [
    "# 3.1. Wie animiere ich ... ?\n",
    "\n",
    "In den meisten Fällen werden Sie bereits Ihre Daten geplottet haben, bevor Sie sich daran machen diese zu animieren. Allerdings werden Sie nach lesen des Tutorials 2.A.-2.D. nur über das Animieren von Linien Bescheid wissen. Hier wollen wir einen Überblick über die möglichen Objekte geben, die animiert werden können.\n",
    "\n",
    "Grundsätzlich folgt die Lösung immer nach dem gleichen Schema. Sie suchen in der [matplotlib API](https://matplotlib.org/) dem Befehl mit dem Sie plotten, schauen sich das Objekt an, das zurückgegeben wird, und suchen in diesem Objekt nach den sogenannten *setter* Funktionen (diese fangen mit `set_` an). Diese Funktionen funktionieren auch in Julia und genau so wie `set_data` das bereits diskutiert wurde."
   ]
  },
  {
   "cell_type": "markdown",
   "metadata": {},
   "source": [
    "### ... Linien / Objekte aus `plot(...)`\n",
    "\n",
    "Objekte, die sie mittels `objekt, = plot(x, y, ...)` geplottet haben, können in u.A. folgender Hinsicht animiert werden:\n",
    "\n",
    "- Sie können die x und y Daten mittels `objekt.set_data(x,y)` neu setzen.\n",
    "- Sie können die Farbe der Linie und der Marker mittels `objekt.set_color(c)` neu setzen.\n",
    "- Sie können die Linienbreite mittels `objekt.set_linewidth(w)` neu setzen.\n",
    "\n",
    "*Hinweis*: Wie man [hier](https://matplotlib.org/api/_as_gen/matplotlib.pyplot.plot.html?highlight=plot#matplotlib.pyplot.plot) einsehen kann, sind die Objekte aus `plot(...)` sogenannte `Line2D` Objekte und Sie können [hier](https://matplotlib.org/api/_as_gen/matplotlib.lines.Line2D.html#matplotlib.lines.Line2D) die API für weitere setter Funktionen einsehen."
   ]
  },
  {
   "cell_type": "markdown",
   "metadata": {},
   "source": [
    "### ... Bilder / Objekte aus `imshow(...)`\n",
    "\n",
    "Objekte, die sie mittels `objekt = imshow(img, ...)` geplottet haben, werden meist animiert indem das Bild `img` neu gesetzt wird. Dies geschieht mittels `objekt.set_array(img)`.\n",
    "\n",
    "*Hinweis*: Sofern Ihr Bild `img` ein zweidimensionales Feld von skalaren Werten ist (wobei der erste Index den Wert auf der x-Achse beschreibt und der zweite Index den Wert auf der y-Achse), so ist die richtige Art das Bild zu plotten nicht `imshow(img)` sondern `imshow(img'[end:-1:1,:])`. Sie können zusätzlich noch die Grenzen des Arrays im 2D Raum mit angeben, indem Sie `imshow(img'[end:-1:1,:], extent=(xmin, xmax, ymin, ymax))` benutzen."
   ]
  },
  {
   "cell_type": "markdown",
   "metadata": {},
   "source": [
    "# 3.2. Was mache ich bei einem Fehler ... ?\n",
    "\n",
    "Erfahrungsgemäß wird es die meisten Fehler beim Thema Animationen bei der korrekten Wahl des MovieWriters geben. Dazu muss man wissen, dass matplotlib verschiedene MovieWriter anbietet, die alle verschiedene Voraussetzungen haben. Sollte Ihr Code mit einer Fehlermeldung ähnlich zu `key MencoderWriter not found` abbrechen, so ist z.b. der im Tutorial benutzte Mencoder Writer nicht vorhanden und sie müsssen einen alternativen MovieWriter verwenden (siehe dafür die nächste Section des Tutorials)."
   ]
  },
  {
   "cell_type": "markdown",
   "metadata": {},
   "source": [
    "# 3.3. Welche MovieWriter gibt es?\n",
    "\n",
    "Die folgenden MovieWriter sind in `matplotlib` vorhanden und können unter den angegebenen Umständen verwendet werden.\n",
    "\n",
    "Beachten Sie, dass nicht jeder Writer bei Ihnen funktionieren wird - benutzen Sie einfach die Alternative, die auf Ihrem System am Einfachsten läuft. "
   ]
  },
  {
   "cell_type": "markdown",
   "metadata": {},
   "source": [
    "### `MencoderWriter`\n",
    "\n",
    "Der `MencoderWriter` unterstützt u.A. die Formate `.mp4`, `.mov` und `.avi`. In den (bei uns) getesteten Fällen hat dieser Writer am zuverlässigsten funktioniert und sollte verfügbar sein."
   ]
  },
  {
   "cell_type": "markdown",
   "metadata": {},
   "source": [
    "### `FFMpegWriter`\n",
    "\n",
    "Der `FFMpegWriter` unterstützt u.A. die Formate `.mp4`, `.mov` und `.avi`. Dieser Writer benötigt `ffmpeg`, welches auf manchen Systemen bereits installiert ist. Sollte der `MencoderWriter` nicht funktionieren, ist der `FFMpegWriter` eine gute Alternative."
   ]
  },
  {
   "cell_type": "markdown",
   "metadata": {},
   "source": [
    "### `AVConvWriter`\n",
    "\n",
    "Der `AVConvWriter` unterstützt u.A. die Formate `.mp4`, `.mov` und `.avi` und sollte als Alternative zum `FFMpegWriter` gesehen werden. Er basiert auf dem Programm `avconv` welches auf manchen Linux Systemen installiert ist."
   ]
  },
  {
   "cell_type": "markdown",
   "metadata": {},
   "source": [
    "### `ImageMagickWriter`\n",
    "\n",
    "Der `ImageMagickWriter` unterstützt u.A. die Formate `.mp4`, `.mov` und `.avi` sowie `.gif` und basiert auf dem externen Program [ImageMagick](https://imagemagick.org/index.php). Ist dieses auf dem System installiert, kann auch der  `ImageMagickWriter` benutzt werden. Der `ImageMagickWriter` ist eine gute Alternative für die nicht-Linux Fälle, in denen der `MencoderWriter` nicht funktioniert und man sich einen eigenen Writer selber installieren muss."
   ]
  },
  {
   "cell_type": "markdown",
   "metadata": {},
   "source": [
    "### `HTMLWriter`\n",
    "\n",
    "Der `HTMLWriter` unterstützt nur das `.html` Format. Er funktioniert anders als die bisherigen Writer, da er keine Video Datei erzeugt, sondern eine Website, die nacheinander die erzeugten Frames abspielt. Er ist allerdings eine gute Alternative für die Fälle, in denen keiner der vorherigen MovieWriter funktioniert hat."
   ]
  },
  {
   "cell_type": "markdown",
   "metadata": {},
   "source": [
    "# 3.4. Welche Optionen habe ich für die Animationen?\n",
    "\n",
    "Im Folgenden möchten wir einige Tricks vorstellen, mit denen Sie Ihre Animationen Ihren persöhnlichen Wünschen anpassen können. Die meisten der Optionen funktionieren so, dass Sie einige *optionale* Argumente an die bereits beschriebenen PyPlot Funktionen übergeben."
   ]
  },
  {
   "cell_type": "markdown",
   "metadata": {},
   "source": [
    "### Framerate / FPS\n",
    "\n",
    "Um die Framerate des Videos einzustellen können Sie das `fps` Keyword-Argument des jeweiligen Moviewriters benutzen. Dafür übergeben Sie `fps=...` mit der von Ihnen gewünschten Framerate. \n",
    "\n",
    "Beispiel: `ImageMagickWriter(fps=50)` erzeugt einen `ImageMagickWriter`, der eine Animation mit 50 Frames pro Sekunde abspeichert."
   ]
  },
  {
   "cell_type": "markdown",
   "metadata": {},
   "source": [
    "### Bildgröße in Pixeln\n",
    "\n",
    "Die Bildgröße des Videos bestimmt sich aus der Bildgröße der Figur, welche der Animation zu Grund liegt. Die Figur wurde wiederum mit dem Befehl `figure()` erstellt, welchem Sie ein optionales Keyword-Argument übergeben können, das die Größe der Figur spezifiziert. Das Argument heißt `figsize` und gibt die Größe als Tupel `(width,height)` an.\n",
    "\n",
    "Beispiel: `figure(figsize=(6,4))` erzeugt eine neue Figur der Größe 6x4 Inches.\n",
    "\n",
    "Wichtig ist, dass `figsize` die Größe der Figur in Inches bezeichnet (1 Inch ist eine amerikanische Längeneinheit und in etwa 3 cm). Wie viele Pixel einen Inch ausmachen wird über die Pixeldichte (engl: *dots per inch*, kurz dpi) bestimmt. Diese Dichte kann ebenfalls mittels `dpi..` spezifiziert werden. \n",
    "\n",
    "In der Kombination bedeutet das, dass Sie eine Figur der Größe `px`x`py` Pixel wie folgt erzeugen können: `figure(figsize=(px,py), dpi=1)` (Die Figur ist damit `px`x`py` Inches groß, aber jeder Inch wird nur durch einen Pixel beschrieben)."
   ]
  },
  {
   "cell_type": "markdown",
   "metadata": {},
   "source": [
    "### Video-Dateiformat\n",
    "\n",
    "Je nachdem, welchen MovieWriter Sie verwenden, haben Sie die Auswahl zwischen unterschiedlichen Video-Dateiformaten. Dabei unterstützen folgende Writer folgende gängigen Formate:\n",
    "- `.mp4` wird unterstützt von `MencoderWriter`, `FFMpegWriter`, `AVConvWriter` und `ImageMagickWriter`\n",
    "- `.mov` wird unterstützt von `MencoderWriter`, `FFMpegWriter`, `AVConvWriter` und `ImageMagickWriter`\n",
    "- `.avi` wird unterstützt von `MencoderWriter`, `FFMpegWriter`, `AVConvWriter` und `ImageMagickWriter`\n",
    "- `.gif` wird unterstützt von `ImageMagickWriter`\n",
    "- `.html` (Website) wird unterstützt von `HTMLWriter`"
   ]
  },
  {
   "cell_type": "markdown",
   "metadata": {},
   "source": [
    "### Meta-Daten (Autor, Kommentare, ...)\n",
    "\n",
    "Meta-Daten, die in die Videodatei geschrieben werden sollen, können als Julia Dictonary an den entsprechenden MovieWriter übergeben werden. Dabei werden die Informationen, sowie die Dictonary keys als Strings im Dictonary gespeichert. Beispiel eines Meta-Daten Dictonaries:\n",
    "\n",
    "    my_metadata = Dict(\n",
    "        \"artist\" => \"Jan Attig\",\n",
    "        \"comment\" => \"Sehr schicke Computerphysik Animation\"\n",
    "    )\n",
    "    \n",
    "Das Dictonary kann mit verschiedenen keys gefüllt werden, Beispiele dafür sind `title`, `artist`, `genre`, `subject`, `copyright`, `srcform` oder `comment`.\n",
    "\n",
    "Das fertige Meta-Daten Dictonary kann dann mittels des Keywords `metadata` an den MovieWriter übergeben werden, in diesem Beispiel:\n",
    "\n",
    "    MencoderWriter(fps=50, metadata=my_metadata)"
   ]
  }
 ],
 "metadata": {
  "@webio": {
   "lastCommId": null,
   "lastKernelId": null
  },
  "kernelspec": {
   "display_name": "Julia 1.0.0",
   "language": "julia",
   "name": "julia-1.0"
  },
  "language_info": {
   "file_extension": ".jl",
   "mimetype": "application/julia",
   "name": "julia",
   "version": "1.0.0"
  }
 },
 "nbformat": 4,
 "nbformat_minor": 2
}
