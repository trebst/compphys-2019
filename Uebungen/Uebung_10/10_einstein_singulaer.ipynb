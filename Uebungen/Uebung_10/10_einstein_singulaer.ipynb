{
 "cells": [
  {
   "cell_type": "markdown",
   "metadata": {},
   "source": [
    "<table style=\"width: 100%; border-style: none;\">\n",
    "<tr style=\"border-style: none\">\n",
    "<td style=\"border-style: none; width: 1%; text-align: left; font-size: 16px\">Institut f&uuml;r Theoretische Physik<br /> Universit&auml;t zu K&ouml;ln</td>\n",
    "<td style=\"border-style: none; width: 1%; font-size: 16px\">&nbsp;</td>\n",
    "<td style=\"border-style: none; width: 1%; text-align: right; font-size: 16px\">Prof. Dr. Simon Trebst<br />Jan Attig</td>\n",
    "</tr>\n",
    "</table>\n",
    "<hr>\n",
    "<h1 style=\"font-weight:bold; text-align: center; margin: 0px; padding:0px;\">Computerphysik</h1>\n",
    "<h1 style=\"font-weight:bold; text-align: center; margin: 0px; padding:0px;\">&Uuml;bungsblatt 10</h1>\n",
    "<hr>\n",
    "<h3 style=\"font-weight:bold; text-align: center; margin: 0px; padding:0px; margin-bottom: 20px;\">Sommersemester 2019</h3>\n",
    "\n",
    "**Website:** [http://www.thp.uni-koeln.de/trebst/Lectures/2019-CompPhys.shtml](http://www.thp.uni-koeln.de/trebst/Lectures/2019-CompPhys.shtml)\n",
    "\n",
    "**Abgabe**: Montag, 17.6.2019, **vor** der Vorlesung\n",
    "\n",
    "**Besprechung**: 19.6.2019 - 21.6.2019\n",
    "\n",
    "**Name**: <font color=\"red\">Bitte geben Sie ihren Namen an</font>\n",
    "\n",
    "**Matrikelnummer**: <font color=\"red\">Bitte geben Sie ihre Matrikelnummer an</font>"
   ]
  },
  {
   "cell_type": "markdown",
   "metadata": {},
   "source": [
    "<table style=\"border-style: none; width: 100%\"><tr style=\"border-style: none;\">\n",
    "<td style=\"border-style: none; width: 1%; text-align: left; font-size: 20px; font-weight: bold\">Aufgaben auf Übungsblatt 10</td>\n",
    "<td style=\"border-style: none; width: 1%; text-align: right; font-size: 15px\"></td></tr></table>\n",
    "\n",
    "- **Einstein singulär zerlegt** [4 Punkte]\n",
    "- Der Geist in der Matrix [6 Punkte]\n",
    "- Verschränkte Spins [5 Punkte]\n",
    "- Down the rabbit hole [10 Bonus-Punkte]\n",
    "- Pendeln in der Quantenwelt 2.0 [10 Bonus-Punkte]"
   ]
  },
  {
   "cell_type": "markdown",
   "metadata": {},
   "source": [
    "<table style=\"border-style: none; width: 100%\"><tr style=\"border-style: none;\">\n",
    "<td style=\"border-style: none; width: 1%; text-align: left; font-size: 20px; font-weight: bold\">Einstein singulär zerlegt</td>\n",
    "<td style=\"border-style: none; width: 1%; text-align: right; font-size: 15px\">(4 Punkte)</td></tr></table>\n",
    "\n",
    "\n",
    "\n",
    "In der Vorlesung haben sie die **Singulärwertzerlegung** von Matrizen kennengelernt. Dabei wird eine beliebige Matrix $M$ als Produkt dreier spezieller Matrizen dargestellt:\n",
    "\\begin{equation}\n",
    "M=U\\Sigma V^\\dagger\n",
    "\\end{equation}\n",
    "\n",
    "wobei $\\Sigma$ eine Diagonalmatrix ist, deren Einträge gerade die Singulärwerte von $M$ sind. Je größer der einzelne Singulärwert ist, desto wichtiger ist sein Beitrag zur Berechnung von $M$. Daraus folgt, dass man die Matrix $M$ durch eine Matrix $\\tilde{M}^{(n)}$ {\\em approximieren} kann, indem man\n",
    "\n",
    "\\begin{equation}\n",
    "\\tilde{M}^{(n)} = U\\tilde{\\Sigma}^{(n)}V^\\dagger\n",
    "\\end{equation} \n",
    "\n",
    "berechnet, wobei in der Matrix $\\tilde{\\Sigma}^{(n)}$ nur die $n$ größten Singulärwerte enthalten sind und alle restlichen auf Null gesetzt wurden.\n",
    "\n",
    "\n",
    "Diese Tatsache wollen wir nun zur **Bildkompression** ausnutzen. Der Einfachheit halber wollen wir dazu ein graustufiges Bild betrachten, so dass wir die Graustufen des Bildes als eine Matrix mit Elementen zwischen 0 und 1 interpretieren können.\n",
    "Wir bilden nun zunächst die Singulärwertzerlegung, behalten die $n$ größten Singulärwerte und verwerfen die restlichen Werte wie oben beschrieben. Nun wollen wir untersuchen, wieviel Bildinformation in diesen ersten $n$ Singulärwerten verschlüsselt ist und rekonstruieren das Bild, indem wir $\\tilde{M}^{(n)}$ berechnen. Wieviele Singulärwerte sind nötig, um Albert Einstein wiederzuerkennen?\n",
    "\n",
    "\n",
    "Auf der Kurswebsite finden Sie die drei folgenden Bilder ( [1](http://www.thp.uni-koeln.de/trebst/Lectures/CompPhys-2014/Einstein.png), [2](http://www.thp.uni-koeln.de/trebst/Lectures/CompPhys-2014/Duffing.png), [3](http://www.thp.uni-koeln.de/trebst/Lectures/CompPhys-2014/Malewitsch.png) ). Implementieren Sie die Berechnnung der approximierten Version eines Bildes wie oben angegeben für eine fixe Zahl $n$ von berücksichtigten Singulärwerten. \n",
    "Untersuchen Sie für die drei verlinkten Bilder die Resultate, die Sie für $n=2$, $n=5$ und $n=20$ Singulärwerte  erhalten. Welche Eigenschaften muss ein Bild haben, um besonders gut durch wenige Singulärwerte approximiert werden zu können?\n",
    "\n",
    "\n",
    "<table style=\"width: 100%; border-width: 0px;\">\n",
    "<tr style=\"border-width: 0px;\"><td style=\"width:0%; border-width: 0px;\"><img src=\"http://www.thp.uni-koeln.de/trebst/Lectures/CompPhys-2014/Einstein.png\"></td>\n",
    "<td style=\"width:0%; border-width: 0px;\">\n",
    "<img src=\"http://www.thp.uni-koeln.de/trebst/Lectures/CompPhys-2014/Duffing.png\">\n",
    "</td>\n",
    "<td style=\"width:0%; border-width: 0px;\">\n",
    "<img src=\"http://www.thp.uni-koeln.de/trebst/Lectures/CompPhys-2014/Malewitsch.png\">\n",
    "</td>\n",
    "</tr>\n",
    "</table>\n",
    "\n",
    "\n",
    "*Hinweise:*\n",
    "\n",
    "- Führen Sie die Singulärwertzerlegung mittels der von Julia bereit gestellten Funktion `svd` aus, die über das `LinearAlgebra` Paket nutzbar ist.\n",
    "- Um die Anzahl der benutzten Eigenwerte zu reduzieren, können Sie einfach die Matrizen, die aus `svd` kommen verkleinern.\n",
    "- Das Einlesen der Bilder können Sie mit der `PyPlot` Funktion `imread` durchführen, diese Funktion gibt direkt eine Matrix aus Pixeldaten zurück, die sie direkt in `svd` benutzen können."
   ]
  },
  {
   "cell_type": "code",
   "execution_count": null,
   "metadata": {},
   "outputs": [],
   "source": []
  }
 ],
 "metadata": {
  "kernelspec": {
   "display_name": "Julia 1.0.0",
   "language": "julia",
   "name": "julia-1.0"
  },
  "language_info": {
   "file_extension": ".jl",
   "mimetype": "application/julia",
   "name": "julia",
   "version": "1.0.0"
  }
 },
 "nbformat": 4,
 "nbformat_minor": 1
}
