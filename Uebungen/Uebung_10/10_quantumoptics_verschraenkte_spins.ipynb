{
 "cells": [
  {
   "cell_type": "markdown",
   "metadata": {},
   "source": [
    "<table style=\"width: 100%; border-style: none;\">\n",
    "<tr style=\"border-style: none\">\n",
    "<td style=\"border-style: none; width: 1%; text-align: left; font-size: 16px\">Institut f&uuml;r Theoretische Physik<br /> Universit&auml;t zu K&ouml;ln</td>\n",
    "<td style=\"border-style: none; width: 1%; font-size: 16px\">&nbsp;</td>\n",
    "<td style=\"border-style: none; width: 1%; text-align: right; font-size: 16px\">Prof. Dr. Simon Trebst<br />Jan Attig</td>\n",
    "</tr>\n",
    "</table>\n",
    "<hr>\n",
    "<h1 style=\"font-weight:bold; text-align: center; margin: 0px; padding:0px;\">Computerphysik</h1>\n",
    "<h1 style=\"font-weight:bold; text-align: center; margin: 0px; padding:0px;\">&Uuml;bungsblatt 10</h1>\n",
    "<hr>\n",
    "<h3 style=\"font-weight:bold; text-align: center; margin: 0px; padding:0px; margin-bottom: 20px;\">Sommersemester 2019</h3>\n",
    "\n",
    "**Website:** [http://www.thp.uni-koeln.de/trebst/Lectures/2019-CompPhys.shtml](http://www.thp.uni-koeln.de/trebst/Lectures/2019-CompPhys.shtml)\n",
    "\n",
    "**Abgabe**: Montag, 17.6.2019, **vor** der Vorlesung\n",
    "\n",
    "**Besprechung**: 19.6.2019 - 21.6.2019\n",
    "\n",
    "**Name**: <font color=\"red\">Bitte geben Sie ihren Namen an</font>\n",
    "\n",
    "**Matrikelnummer**: <font color=\"red\">Bitte geben Sie ihre Matrikelnummer an</font>"
   ]
  },
  {
   "cell_type": "markdown",
   "metadata": {},
   "source": [
    "<table style=\"border-style: none; width: 100%\"><tr style=\"border-style: none;\">\n",
    "<td style=\"border-style: none; width: 1%; text-align: left; font-size: 20px; font-weight: bold\">Aufgaben auf Übungsblatt 10</td>\n",
    "<td style=\"border-style: none; width: 1%; text-align: right; font-size: 15px\"></td></tr></table>\n",
    "\n",
    "- Einstein singulär zerlegt [4 Punkte]\n",
    "- Der Geist in der Matrix [6 Punkte]\n",
    "- **Verschränkte Spins** [5 Punkte]\n",
    "- Down the rabbit hole [10 Bonus-Punkte]\n",
    "- Pendeln in der Quantenwelt 2.0 [10 Bonus-Punkte]"
   ]
  },
  {
   "cell_type": "markdown",
   "metadata": {},
   "source": [
    "<table style=\"border-style: none; width: 100%\"><tr style=\"border-style: none;\">\n",
    "<td style=\"border-style: none; width: 1%; text-align: left; font-size: 20px; font-weight: bold\">Verschränkte Spins</td>\n",
    "<td style=\"border-style: none; width: 1%; text-align: right; font-size: 15px\">(5 Punkte)</td></tr></table>\n",
    "\n",
    "Einer der fundamentalsten Unterschiede zwischen der klassischen und der Quantenmechanik ist die Möglichkeit der **Verschränkung** quantenmechanischer Objekte.\n",
    "Einstein, Podolsky und Rosen (EPR) schlugen 1935 ein Gedankenexperiment vor, um zu demonstrieren, dass diese Verschränkung eine  Unvollständigkeit der Quantenmechanik impliziert (siehe [PhysRev.47.777, Can Quantum-Mechanical Description of Physical Reality Be Considered Complete?](http://journals.aps.org/pr/abstract/10.1103/PhysRev.47.777)).\n",
    "Mittlerweile ist aber klar, dass die Quantenmechanik nicht unvollständig ist, sondern dass ihr Gedankenexperiment die nichtlokale Natur beispielhaft illustriert.\n",
    "\n",
    "Im EPR Experiment werden zur gleichen Zeit zwei Teilchen erzeugt, die dann beliebig weit voneinander entfernt werden.\n",
    "Unter bestimmten Umständen wissen wir bei der Messung des Zustands eines der Teilchen, in welchem Zustand sich das andere Teilchen befindet. In diesem Fall sind beide Teilchen miteinander verschränkt.\n",
    "\n",
    "In dieser Aufgabe möchten wir genau diese Situation untersuchen. \n",
    "Konkret betrachten wir einen quantenmechanischen Zustand zweier Spins der gegeben ist als\n",
    "\n",
    "\\begin{equation}\n",
    "|\\psi\\rangle = \\cos(\\alpha)|\\!\\uparrow \\uparrow \\rangle + \\sin(\\alpha)|\\!\\downarrow \\downarrow \\rangle\n",
    "\\end{equation}\n",
    "\n",
    "Dieser Zustand hängt ab von einem Winkel $\\alpha$, der den Mischgrad der Superposition bezeichnet.\n",
    "Wir wollen herausfinden, unter welchen Bedingungen dieser als verschränkt bezeichnet werden kann und wie wir diese Verschränkung quantifizieren können. Dies werden wir mithilfe der sogenannten **Verschränkungsentropie** tun.\n",
    "Bis wir diese aber berechnen können, müssen wir ein theoretisches Werkzeug -- die reduzierte Dichtematrix -- einführen und lernen, wie wir mit dem Julia Paket [`QuantumOptics.jl`](https://github.com/qojulia/QuantumOptics.jl) Quantenmechanik betreiben können.\n",
    "\n",
    "Der nun folgende Text ist sicherlich länger als Sie es von anderen Aufgaben gewohnt sind.\n",
    "Dies ist aber dem Umstand geschuldet, dass wir versucht haben, die Aufgabe so vollständig wie möglich zu formulieren und möglichst wenig Vorkenntnisse vorauszusetzen.\n",
    "Am Ende finden Sie noch einmal eine ganz konkrete Anleitung was Sie tun müssen, um die Verschränkungsentropie auszurechnen."
   ]
  },
  {
   "cell_type": "markdown",
   "metadata": {},
   "source": [
    "### Verschränkung\n",
    "\n",
    "\n",
    "Die Frage, ob zwei (oder mehr) Teilchen miteinander verschränkt sind, ist äquivalent zu der Frage, ob sich der Zweiteilchenzustand als einfaches Produkt von Einteilchenzuständen schreiben lässt.\n",
    "Wir möchten dies an einem Beispiel näber erläutern: Betrachten wir zwei Teilchen, deren Zustand jeweils durch eine Quantenzahl beschrieben werden, deren Werte jeweils $0$ oder $1$ sind, also zum Beispiel zwei Qubits.\n",
    "Zwei der möglichen Zweiteilchenzustände sind\n",
    "\n",
    "\\begin{align*}\n",
    "|\\psi_1\\rangle &= |00\\rangle = |0\\rangle\\otimes|0\\rangle = |0\\rangle|0\\rangle, \\\\\n",
    "|\\psi_2\\rangle &= \\dfrac{1}{\\sqrt{2}}\\left(|00\\rangle + |11\\rangle\\right).\n",
    "\\end{align*}\n",
    "\n",
    "Der erste Zustand ist unverschränkt, da er als Produktzustand geschrieben werden kann.\n",
    "(Wir haben dabei verschiedene Notationen angegeben, die Sie in der Literatur antreffen können.)\n",
    "Für den zweiten Zustand ist eine solche Umformung nicht möglich, er ist also verschränkt."
   ]
  },
  {
   "cell_type": "markdown",
   "metadata": {},
   "source": [
    "### Dichtematrizen\n",
    "\n",
    "**Dichtematrizen** stellen einen alternativen Zugang zu Zuständen der Quantenmechanik dar und sind gerade für Systeme mehrerer Teilchen von groß em Vorteil. Die grundlegende Idee lässt sich an folgendem Beispiel gut illustrieren: Ein quantenmechanischer Zustand kann äquivalent durch einen Zustandsvektor $|\\psi\\rangle$ aus dem Hilbertraum oder durch einen Projektor $\\mathcal{P}_\\psi = |\\psi\\rangle\\langle\\psi|$ auf diesen Zustand beschrieben werden.\n",
    "Diesen Projektor werden wir später als Dichtematrix $\\rho$ bezeichnen.\n",
    "Die Angabe des Projektors hat sogar den Vorteil, dass die frei wählbare Phase von $|\\psi\\rangle$ nicht auftaucht.\n",
    "Erwartungswerte von beliebigen Observablen $O$ lassen sich ebenfalls leicht in diesem Formalismus berechnen:\n",
    "\n",
    "\\begin{align*}\n",
    "\\langle{O}\\rangle &= \\langle \\psi|O|\\psi\\rangle = \\sum_{m, n} \\langle \\psi|n \\rangle \\langle n|O|m\\rangle\\langle m|\\psi\\rangle\\\\\n",
    "&= \\sum_{m, n}  \\langle m|\\psi \\rangle \\langle \\psi|{n} \\rangle \\langle n|O|m\\rangle\\\\\n",
    "&= \\sum_{m} \\langle m|\\mathcal{P}_{\\psi} O | m \\rangle \\\\\n",
    "&= \\operatorname{tr}(\\mathcal{P}_\\psi O)\n",
    "\\end{align*}\n",
    "\n",
    "Der Ausdruck $\\operatorname{tr}{(\\cdot)}$ steht für _trace_, also die Summe über die Eigenzustände der gewählten Basis. \n",
    "Ist der Projektor als Matrix dargestellt, so ist es einfach die Spur der Matrix. Die Erwartungswerte von Observablen werden also berechnet, indem man die Erwartungswerte in allen Basiszuständen des Operators $\\mathcal{P}_\\psi O$ berechnet und aufaddiert. In Kurzform schreiben wir $\\rho = |\\psi\\rangle\\langle \\psi|= \\mathcal{P}_\\psi$\n",
    "\n",
    "Diese Prozedur lässt sich nun auch auf Zustände mehrerer Teilchen verallgemeinern. Wir betrachten konkret einen quantenmechanischen Zustand zweier Teilchen. Der Hilbertraum eines einzelnen Spins ist $\\mathcal{H} = \\{|+\\rangle, |-\\rangle\\}$. Ein Zustand des Zweispinsystems lässt sich als Tensorprodukt zweier Einteilchenzustände schreiben: $|\\pm, \\pm\\rangle = |\\pm\\rangle|\\pm\\rangle = |\\pm\\rangle\\otimes|\\pm\\rangle$. Die Dichtematrix eines solchen Zustand ist wie gewohnt definiert durch $\\rho = |\\pm\\pm\\rangle\\langle \\pm,\\pm|$ und um Observablen auszuwerten muss die Spur nun über alle Quantenzahlen, d.h. über alle möglichen Spinkonfigurationen $|++\\rangle, |+-\\rangle, |-+\\rangle, |--\\rangle$, genommen werden."
   ]
  },
  {
   "cell_type": "markdown",
   "metadata": {},
   "source": [
    "### Reduzierte Dichtematrizen\n",
    "\n",
    "Die zu Beginn gestellte Frage, ob ein Zustand $|\\psi\\rangle$ sich als Produktzustand $|\\chi\\rangle\\otimes|\\phi\\rangle$ schreiben lässt, verallgemeinert sich im Dichtematrixformalismus auf die Frage, ob sich eine eine Dichtematrix $\\rho$ als ein Produkt $\\rho_1\\otimes\\rho_2$ schreiben lässt. \n",
    "Man kann diese Frage beantworten, indem man die sogenannte **reduzierte Dichtematrix** $\\rho_r$ bildet, für die man die Spur über alle Zustände aus dem Einteilchenhilbertraum $\\mathcal{H}_2$ von Teilchen $2$ nimmt und so die Anzahl der Freiheitsgrade von $\\rho$ auf die von $\\rho_1$ reduziert: \n",
    "\n",
    "\\begin{equation}\n",
    "\\rho_r = \\sum\\limits_{|\\phi\\rangle \\in \\mathcal{H}_2} \\langle \\phi|\\rho|\\phi\\rangle.\\label{eq:rdm}\n",
    "\\end{equation}\n",
    "\n",
    "Dieses Konzept mag auf den ersten Blick ein wenig Abstrakt wirken, weshalb wir einige Formeln konkret in Matrixschreibweise darstellen wollen. \n",
    "Die ausgewertete Dichtematrix eines Einteilchenzustands mit den Zuständen $\\{|0\\rangle, |1\\rangle\\}$ ist gegeben durch:\n",
    "\n",
    "\\begin{equation*}\n",
    "\\left(\n",
    "\\begin{matrix}\n",
    "\\langle 0|\\rho|0\\rangle & \\langle 0|\\rho|1\\rangle \\\\\n",
    "\\langle 1|\\rho|0\\rangle & \\langle 1|\\rho|1\\rangle\n",
    "\\end{matrix}\n",
    "\\right)\n",
    "\\end{equation*}\n",
    "\n",
    "Ein unverschränkter Produktzustand ergäbe sich aus dem Kronecker-Produkt zweier dieser Matrizen\n",
    "\n",
    "\\begin{equation*}\n",
    "\\left(\n",
    "\\begin{matrix}\n",
    "\\langle 0|\\rho_1|0\\rangle & \\langle 0|\\rho_1|1\\rangle \\\\\n",
    "\\langle 1|\\rho_1|0\\rangle & \\langle 1|\\rho_1|1\\rangle\n",
    "\\end{matrix}\n",
    "\\right)\n",
    "\\otimes\n",
    "\\left(\n",
    "\\begin{matrix}\n",
    "\\langle 0|\\rho_2|0\\rangle & \\langle 0|\\rho_2|1\\rangle \\\\\n",
    "\\langle 1|\\rho_2|0\\rangle & \\langle 1|\\rho_2|1\\rangle\n",
    "\\end{matrix}\n",
    "\\right)\n",
    "\\end{equation*}\n",
    "\n",
    "Die Matrixform der reduzierten Dichtematrix ergibt sich dann mit obiger Formel zu:\n",
    "\n",
    "\\begin{equation}\n",
    "\\left(\n",
    "\\begin{matrix}\n",
    "\\langle 00|\\rho|00\\rangle + \\langle 01|\\rho|01\\rangle & \\langle 00|\\rho|10\\rangle + \\langle 01|\\rho|11\\rangle \\\\\n",
    "\\langle 10|\\rho|00\\rangle + \\langle 11|\\rho|01\\rangle & \\langle 10|\\rho|10\\rangle + \\langle 11|\\rho|11\\rangle\n",
    "\\end{matrix}\n",
    "\\right)\n",
    "\\end{equation}"
   ]
  },
  {
   "cell_type": "markdown",
   "metadata": {},
   "source": [
    "### Verschränkungsentropie\n",
    "\n",
    "Das Maß, um die Stärke der Verschränkung zu quantifizieren ist die **von-Neumann Entropie**, die definiert ist durch\n",
    "\n",
    "\\begin{equation*}\n",
    "S = -\\operatorname{tr}{\\left[\\rho_r \\log{\\left(\\rho_r\\right)}\\right]}\n",
    "\\end{equation*}\n",
    "\n",
    "Wir geben die genaue Form dieses Maß zunächst unmotiviert an und werden es dann in dieser Aufgabe charakterisieren.\n",
    "Das generelle Ziel ist, die reduzierte Dichtematrix auf eine Zahl zu komprimieren. Die Bedeutung des Logarithmus einer Matrix sollten wir allerdings näher erläutern. Er ist definiert als die inverse Operation des Matrixexponentials und wird durch das Modul `LinearAlgebra` bereits bereitgestellt. Die Spur ist wie zuvor die gewohnte Spur über den Hilbertraum des verbleibenden Teilchens.\n",
    "\n",
    "Zusätzlich zur von-Neumann Entropie studiert man in der Quantenmechanik weitere Entropien, die sogenannten **Rényi Entropien**. Diese Entropien lassen sich als Familie in Abhängigkeit des Grades $n \\in \\mathbb{N}$ definieren als\n",
    "\n",
    "\\begin{equation*}\n",
    "S_n = \\frac{1}{1-n}\\log\\left(\\operatorname{tr}{\\left[\\rho_r^n\\right]}\\right)\n",
    "\\end{equation*}\n",
    "\n",
    "Für kleines $n$ gehen diese Entropien nicht nur als $S_n \\to S$ für $(n \\to 1)$ in die von-Neumann Entropie über (die sich als Element $S_1$ in dieser Familie verstehen lässt), sie stellen auch gleichzeitig gegenseitig gegenseitige Schranken füreinander dar, es gilt $S_{n-1} > S_{n} > S_{n+1}$.\n",
    "\n",
    "In der Praxis ist die Berechnung der Renyi Entropien deutlich stabiler und schneller als die Berechnung der von-Neumann Entropie und stellt daher zumindest eine gute Abschätzung für das Maß an Verschränkung bereit."
   ]
  },
  {
   "cell_type": "markdown",
   "metadata": {},
   "source": [
    "### Basis, Zustände und Spins in `QuantumOptics.jl`\n",
    "\n",
    "Ultimativ möchten wir die Verschränkungseigenschaften zweier Spins auf dem Computer studieren.\n",
    "In `QuantumOptics.jl` stehen uns die Mittel zur Verfügung, mit dem wir unter anderem Spins erzeugen und manipulieren können. Zuerst müssen Sie das Paket installieren, dies geschicht mittels"
   ]
  },
  {
   "cell_type": "code",
   "execution_count": null,
   "metadata": {},
   "outputs": [],
   "source": [
    "]add QuantumOptics"
   ]
  },
  {
   "cell_type": "markdown",
   "metadata": {},
   "source": [
    "Anschließend können Sie das Paket in Ihrem Code benutzen"
   ]
  },
  {
   "cell_type": "code",
   "execution_count": null,
   "metadata": {},
   "outputs": [],
   "source": [
    "using QuantumOptics"
   ]
  },
  {
   "cell_type": "markdown",
   "metadata": {},
   "source": [
    "Wie Sie mittlerweile in der Quantenmechanikvorlesung gehört haben, benötigen wir zur Festlegung des Spinzustands zuerst einmal eine Basis in dieser Zustand dargestellt werden kann. Diese benötigt zwei Quantenzahlen $j$ und $m$. In unserem Fall wollen wir den Wert $j=\\frac{1}{2}$ wählen."
   ]
  },
  {
   "cell_type": "code",
   "execution_count": null,
   "metadata": {},
   "outputs": [],
   "source": [
    "b = SpinBasis(1//2)"
   ]
  },
  {
   "cell_type": "markdown",
   "metadata": {},
   "source": [
    "Einen Zustand aus dieser Basis können Sie mit den Funktionen `spinup` und `spindown` unkompliziert und schnell erzeugen. Mit diesen Zuständen lässt sich genau so arbeiten, wie Sie es aus der Quantenmechanik gewohnt sind, d.h. Sie können Operationen wie Addition und skalare Multiplikation genau so verwenden wie Sie es naiv erwarten würden."
   ]
  },
  {
   "cell_type": "code",
   "execution_count": null,
   "metadata": {},
   "outputs": [],
   "source": [
    "psi = spinup(b)"
   ]
  },
  {
   "cell_type": "code",
   "execution_count": null,
   "metadata": {},
   "outputs": [],
   "source": [
    "psi_prime = spindown(b)"
   ]
  },
  {
   "cell_type": "code",
   "execution_count": null,
   "metadata": {},
   "outputs": [],
   "source": [
    "psi - 0.5*psi_prime"
   ]
  },
  {
   "cell_type": "markdown",
   "metadata": {},
   "source": [
    "Um jetzt zu mehreren Teilchen pro Zustand zu wechseln, benötigen wir das Tensorprodukt. Um das Tensorprodukt zweiter Zustände zu berechnen, können Sie entweder das Unicode Zeichen für Tensor verwenden, `⊗`, oder Sie benutzen die Funktion `tensor`."
   ]
  },
  {
   "cell_type": "code",
   "execution_count": null,
   "metadata": {},
   "outputs": [],
   "source": [
    "spinup(b) ⊗ spindown(b)"
   ]
  },
  {
   "cell_type": "code",
   "execution_count": null,
   "metadata": {},
   "outputs": [],
   "source": [
    "tensor(spinup(b), spindown(b))"
   ]
  },
  {
   "cell_type": "markdown",
   "metadata": {},
   "source": [
    "An dieser Stelle sollten Sie bereits in der Lage sein, die folgenden Zustände zu implementieren\n",
    "\n",
    "\\begin{align*}\n",
    "|\\psi_\\alpha\\rangle &= \\cos(\\alpha)|\\!\\uparrow \\uparrow \\rangle + \\sin(\\alpha)|\\!\\downarrow \\downarrow \\rangle \n",
    "\\end{align*}"
   ]
  },
  {
   "cell_type": "markdown",
   "metadata": {},
   "source": [
    "### Dichtematrizen und Entropien in `QuantumOptics.jl`\n",
    "\n",
    "Für die weitere Aufgabe benötigen Sie das Konzept der Dichtematrix. Formal gesprochen können Sie aus einem Zustand $|\\psi\\rangle$ eine Dichtematrix $\\rho = \\mathcal{P}_\\psi$ gewinnen, indem Sie $\\mathcal{P}_\\psi = |\\psi\\rangle\\langle\\psi| = |\\psi\\rangle \\otimes (|\\psi\\rangle)^*$ schreiben. Natürlich funktioniert dies nicht nur wie im unteren Beispiel mit Zuständen, die nur ein Teilchen enthalten, sondern auch mit solchen, die aus mehreren Teilchen bestehen."
   ]
  },
  {
   "cell_type": "code",
   "execution_count": null,
   "metadata": {},
   "outputs": [],
   "source": [
    "psi ⊗ dagger(psi)"
   ]
  },
  {
   "cell_type": "markdown",
   "metadata": {},
   "source": [
    "Ein weiterer Hinweis sei an dieser Stelle angebracht: Bei der Berechnung der Entropie wollen Sie mit der Matrixdarstellung der Operatoren rechnen (Potenzieren, Spur und Matrix-Logarithmus berechnen, etc.). Sie können aus einem Operator (wie der Dichtematrix) aus `QuantumOptics.jl` die Matrixform gewinnen, indem Sie das Feld `data` des Operators benutzen:"
   ]
  },
  {
   "cell_type": "code",
   "execution_count": null,
   "metadata": {},
   "outputs": [],
   "source": [
    "(psi ⊗ dagger(psi)).data"
   ]
  },
  {
   "cell_type": "markdown",
   "metadata": {},
   "source": [
    "Um die partielle Spur zu berechnen wird von `QuantumOptics.jl` die Funktion `ptrace(rho, 2)` bereitgestellt, die in unserer Notation den Operator $\\operatorname{tr}_2(\\rho) = \\sum_{\\phi \\in \\mathcal{H}_2} \\langle \\phi|\\rho|\\phi\\rangle$ darstellt."
   ]
  },
  {
   "cell_type": "code",
   "execution_count": null,
   "metadata": {},
   "outputs": [],
   "source": [
    "phi = tensor(spinup(b), spindown(b))\n",
    "ptrace(phi ⊗ dagger(phi), 2)"
   ]
  },
  {
   "cell_type": "markdown",
   "metadata": {},
   "source": [
    "### Aufgabenstellung\n",
    "\n",
    "Mit den erläuterten Hilfsmitteln, sollte es Ihnen jetzt möglich sein, den Zustand \n",
    "\n",
    "\\begin{align*}\n",
    "|\\psi_\\alpha\\rangle &= \\cos(\\alpha)|\\!\\uparrow \\uparrow \\rangle + \\sin(\\alpha)|\\!\\downarrow \\downarrow \\rangle \n",
    "\\end{align*}\n",
    "\n",
    "als einen `QuantumOptics.jl` Zustand zu implementieren, seine Dichtematrix zu berechnen und daraus die Renyi-Entropien zu berechnen. Berechnen Sie $S_2$ bis $S_5$ und plotten Sie die Entropien für Winkel $\\alpha \\in [0, 2\\pi]$. Vergleichen Sie dann mit der in `QuantumOptics.jl` implementierten von-Neumann Entropie, die Sie für eine Dichtematrix `rho` mit der Funktion `entropy_vn(rho)` berechnen können."
   ]
  },
  {
   "cell_type": "code",
   "execution_count": null,
   "metadata": {},
   "outputs": [],
   "source": []
  }
 ],
 "metadata": {
  "@webio": {
   "lastCommId": null,
   "lastKernelId": null
  },
  "kernelspec": {
   "display_name": "Julia 1.0.0",
   "language": "julia",
   "name": "julia-1.0"
  },
  "language_info": {
   "file_extension": ".jl",
   "mimetype": "application/julia",
   "name": "julia",
   "version": "1.0.0"
  }
 },
 "nbformat": 4,
 "nbformat_minor": 2
}
