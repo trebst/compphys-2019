{
 "cells": [
  {
   "cell_type": "markdown",
   "metadata": {},
   "source": [
    "<table style=\"width: 100%; border-style: none;\">\n",
    "<tr style=\"border-style: none\">\n",
    "<td style=\"border-style: none; width: 1%; font-size: 16px; text-align: left\">Institut f&uuml;r Theoretische Physik<br /> Universit&auml;t zu K&ouml;ln</td>\n",
    "<td style=\"border-style: none; width: 1%; font-size: 16px\">&nbsp;</td>\n",
    "<td style=\"border-style: none; width: 1%; text-align: right; font-size: 16px\">Prof. Dr. Simon Trebst<br />Jan Attig</td>\n",
    "</tr>\n",
    "</table>\n",
    "<hr>\n",
    "<h1 style=\"font-weight:bold; text-align: center; margin: 0px; padding:0px;\">Computerphysik</h1>\n",
    "<h1 style=\"font-weight:bold; text-align: center; margin: 0px; padding:0px;\">&Uuml;bungsblatt 5</h1>\n",
    "<hr>\n",
    "<h3 style=\"font-weight:bold; text-align: center; margin: 0px; padding:0px; margin-bottom: 20px;\">Sommersemester 2019</h3>\n",
    "\n",
    "**Website:** [http://www.thp.uni-koeln.de/trebst/Lectures/2019-CompPhys.shtml](http://www.thp.uni-koeln.de/trebst/Lectures/2019-CompPhys.shtml)\n",
    "\n",
    "**Abgabe**: Montag, 6.5.2019, **vor** der Vorlesung\n",
    "\n",
    "**Besprechung**: 8.5.2019 - 10.5.2019\n",
    "\n",
    "**Name**: <font color=\"red\">Bitte geben Sie ihren Namen an</font>\n",
    "\n",
    "**Matrikelnummer**: <font color=\"red\">Bitte geben Sie ihre Matrikelnummer an</font>"
   ]
  },
  {
   "cell_type": "markdown",
   "metadata": {},
   "source": [
    "<table style=\"border-style: none; width: 100%\"><tr style=\"border-style: none;\">\n",
    "<td style=\"border-style: none; width: 1%; font-size: 20px; font-weight: bold; text-align: left\">Aufgaben auf Übungsblatt 5</td>\n",
    "<td style=\"border-style: none; width: 1%; font-size: 15px; text-align: right\"></td></tr></table>\n",
    "\n",
    "- **Die Zukunft richtig ausgependelt** [5 Punkte]\n",
    "- Monde auf der Überholspur [5 Punkte]\n",
    "- Magnetpendel [10 Bonus-Punkte]"
   ]
  },
  {
   "cell_type": "markdown",
   "metadata": {},
   "source": [
    "<table style=\"border-style: none; width: 100%\"><tr style=\"border-style: none;\">\n",
    "<td style=\"border-style: none; width: 1%; text-align: left; font-size: 20px; font-weight: bold\">Die Zukunft richtig ausgependelt</td>\n",
    "<td style=\"border-style: none; width: 1%; font-size: 15px; text-align: right\">[5 Punkte]</td></tr></table>\n",
    "\n",
    "In dieser Aufgabe studieren wir ein **Pendel im Schwerefeld** der Erde. In Polarkoordinaten ist die Bewegungsgleichung gegeben als\n",
    "\n",
    "\\begin{equation}\n",
    "  \\overset{..}{\\phi}(t) = -\\sin{\\left(\\phi(t)\\right)}\\nonumber,\n",
    "\\end{equation}\n",
    "\n",
    "wobei $\\phi$ den Auslenkungswinkel des Pendels parametrisiert und wir die Masse $m$ sowie die Gravitationskonstante $g$ auf $1$ gesetzt haben.\n",
    "\n",
    "Die einfachste Methode, um eine Differentialgleichung zu lösen, sind die **Euler-Verfahren**. In dieser Aufgaben wollen wir sowohl das *forward-* als auch das *backward-*Euler Verfahren implementieren und vergleichen. Betrachten Sie dazu neben der Bahnkurve $\\phi(t)$ auch die potentielle, kinetische und die Gesamtenergie und erklären Sie die Unterschiede zwischen den beiden Verfahren. Setzen Sie dazu den Zeitschritt $\\Delta t = 0.1$, damit der Unterschied klar zur Geltung kommt.\n",
    "\n",
    "\n",
    "**Hinweise**\n",
    "\n",
    "Die zu bearbeitende Differentialgleichung ist zweiter Ordnung, deswegen müssen wir sie umformen in ein System von Differentialgleichungen erster Ordnung. Allgemein geschieht dies so, dass wir die Ableitung $n$-ter Ordnung, bezeichnet durch $y^{(n)}$, als Funktion der anderen Ordnungen auffassen:\n",
    "\n",
    "\\begin{equation}\n",
    "y^{(n)} = f(x, y^{(1)}, \\dots, y^{(n - 1)})\n",
    "\\end{equation}\n",
    "\n",
    "Im nächsten Schritt führen wir dann Funktionen $z_i$ ein, die gleich den $(i-1)$-ten Ableitungen gesetzt werden, also\n",
    "\n",
    "\\begin{align*}\n",
    "  z_1 &= y\\\\\n",
    "  z_2 &= y^{(1)} \\\\\n",
    "  &\\dots\\\\\n",
    "  z_n &= y^{(n-1)}.\n",
    "\\end{align*}\n",
    "\n",
    "Die Ableitung von $z_i$ ist so gleich $z_{i + 1}$. Aus dem Vektor aller Ableitungen  $\\overset{.}{\\vec{z}} = (\\overset{.}{z_1}, \\dots, \\overset{.}{z_n})$, erhält man so ein System mit $n$ gekoppelten Differentialgleichungen.\n",
    "\n",
    "Für unser Pendel schreiben wir also $\\overset{..}{\\phi} = f(t, \\phi, \\overset{.}{\\phi})= -\\sin{\\left(\\phi\\right)}$ und führen neue Funktionen $z_1, z_2$ ein:\n",
    "\n",
    "\\begin{align*}\n",
    "  z_1 &= \\phi\\\\\n",
    "  z_2 &= \\overset{.}{\\phi}\n",
    "\\end{align*}\n",
    "\n",
    "Das zu bearbeitende System lautet also:\n",
    "\n",
    "\\begin{align*}\n",
    "  \\overset{.}{z_1} &= z_2\\\\\n",
    "  \\overset{.}{z_2} &= \\overset{..}{\\phi} = -\\sin{\\left( z_1\\right)}\n",
    "\\end{align*}"
   ]
  },
  {
   "cell_type": "markdown",
   "metadata": {},
   "source": [
    "### Forward Euler\n",
    "\n",
    "Implementieren Sie zuerst das **Forward**-Euler Verfahren wie Sie es in der Vorlesung kennen gelernt haben. Für den Anfang haben Sie bereits Arrays mit den Zeitschritten $t_i$ sowie leere Arrays für die Winkel und Winkel-Ableitungen, $\\phi_i = \\phi(t_i)$ sowie $\\dot\\phi_i = \\dot\\phi(t_i)$. Füllen Sie mit Hilfe des Codes nun diese Arrays `phis` und `phi_dots`. Wählen Sie als Anfangsbedingung $\\phi(t=0) = \\pi/10$, was einer kleinen Auslenkung gleich kommt."
   ]
  },
  {
   "cell_type": "code",
   "execution_count": null,
   "metadata": {},
   "outputs": [],
   "source": [
    "# Groesse des Zeitschritts festlegen\n",
    "dt = 0.1\n",
    "\n",
    "# Array fuer Zeitschritte\n",
    "times    = collect(0:dt:20)\n",
    "# Arrays fuer Winkel und Winkelableitungen\n",
    "phis     = zeros(length(times))\n",
    "phi_dots = zeros(length(times))\n",
    "\n",
    "\n",
    "####################################\n",
    "# HIER STEHT IHR CODE\n",
    "# Setzen der Startbedingung\n",
    "# Schleife über Zeiten\n",
    "    # Ableitung des Winkels berechnen\n",
    "    # Winkel berechnen\n",
    "####################################"
   ]
  },
  {
   "cell_type": "markdown",
   "metadata": {},
   "source": [
    "Im nächsten Schritt sollen Sie nun die Energie des Systems in Abhängigkeit der Zeit berechnen und plotten. Benutzen Sie dafür die unten stehenden Hilfestellungen.\n",
    "\n",
    "Beurteilen Sie die Energieerhaltung Ihres Algorithmus!\n",
    "\n",
    "*Hinweis*: Die kinetische Energie des Systems ist $E_{kin} = \\dot\\phi^2/2$ und die potentielle Energie ist $E_{pot} = 1 - \\operatorname{cos}(\\phi)$"
   ]
  },
  {
   "cell_type": "code",
   "execution_count": null,
   "metadata": {},
   "outputs": [],
   "source": [
    "using PyPlot\n",
    "pygui(false)\n",
    "\n",
    "\n",
    "####################################\n",
    "# HIER STEHT IHR CODE\n",
    "# Berechnung Potentielle Energie\n",
    "# Plotten Potentielle Energie\n",
    "# Berechnung Kinetische Energie\n",
    "# Plotten Kinetische Energie\n",
    "# Berechnung Gesamtenergie\n",
    "# Plotten Gesamtenergie\n",
    "# (Optional: Plotten der Trajektorie)\n",
    "####################################"
   ]
  },
  {
   "cell_type": "markdown",
   "metadata": {},
   "source": [
    "### Backward Euler\n",
    "\n",
    "Implementieren Sie nun das **Backward**-Euler Verfahren wie Sie es in der Vorlesung kennen gelernt haben. Die Implementierung verläuft ganz analog zum Forward-Euler Verfahren."
   ]
  },
  {
   "cell_type": "code",
   "execution_count": null,
   "metadata": {},
   "outputs": [],
   "source": [
    "####################################\n",
    "# HIER STEHT IHR CODE\n",
    "# Groesse des Zeitschritts festlegen\n",
    "# Array fuer Zeitschritte\n",
    "# Arrays fuer Winkel und Winkelableitungen\n",
    "# Setzen der Startbedingung\n",
    "# Schleife über Zeiten\n",
    "    # Ableitung des Winkels berechnen\n",
    "    # Winkel berechnen\n",
    "####################################"
   ]
  },
  {
   "cell_type": "markdown",
   "metadata": {},
   "source": [
    "Im nächsten Schritt sollen Sie nun erneut die Energie des Systems in Abhängigkeit der Zeit berechnen und plotten. \n",
    "\n",
    "Beurteilen Sie die Stabilität der beiden implementierten Verfahren und begründen Sie Ihre Einschätzung mit den erzeugten Plots. "
   ]
  },
  {
   "cell_type": "code",
   "execution_count": null,
   "metadata": {},
   "outputs": [],
   "source": [
    "using PyPlot\n",
    "pygui(false)\n",
    "\n",
    "\n",
    "####################################\n",
    "# HIER STEHT IHR CODE\n",
    "# Berechnung Potentielle Energie\n",
    "# Plotten Potentielle Energie\n",
    "# Berechnung Kinetische Energie\n",
    "# Plotten Kinetische Energie\n",
    "# Berechnung Gesamtenergie\n",
    "# Plotten Gesamtenergie\n",
    "# (Optional: Plotten der Trajektorie)\n",
    "####################################"
   ]
  },
  {
   "cell_type": "code",
   "execution_count": null,
   "metadata": {},
   "outputs": [],
   "source": []
  }
 ],
 "metadata": {
  "kernelspec": {
   "display_name": "Julia 1.0.0",
   "language": "julia",
   "name": "julia-1.0"
  },
  "language_info": {
   "file_extension": ".jl",
   "mimetype": "application/julia",
   "name": "julia",
   "version": "1.0.0"
  }
 },
 "nbformat": 4,
 "nbformat_minor": 1
}
