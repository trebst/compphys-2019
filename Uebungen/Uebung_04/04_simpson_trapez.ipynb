{
 "cells": [
  {
   "cell_type": "markdown",
   "metadata": {},
   "source": [
    "<table style=\"width: 100%; border-style: none;\">\n",
    "<tr style=\"border-style: none\">\n",
    "<td style=\"border-style: none; width: 1%; font-size: 16px; text-align: left\">Institut f&uuml;r Theoretische Physik<br /> Universit&auml;t zu K&ouml;ln</td>\n",
    "<td style=\"border-style: none; width: 1%; font-size: 16px\">&nbsp;</td>\n",
    "<td style=\"border-style: none; width: 1%; text-align: right; font-size: 16px\">Prof. Dr. Simon Trebst<br />Jan Attig</td>\n",
    "</tr>\n",
    "</table>\n",
    "<hr>\n",
    "<h1 style=\"font-weight:bold; text-align: center; margin: 0px; padding:0px;\">Computerphysik</h1>\n",
    "<h1 style=\"font-weight:bold; text-align: center; margin: 0px; padding:0px;\">&Uuml;bungsblatt 4</h1>\n",
    "<hr>\n",
    "<h3 style=\"font-weight:bold; text-align: center; margin: 0px; padding:0px; margin-bottom: 20px;\">Sommersemester 2019</h3>\n",
    "\n",
    "**Website:** [http://www.thp.uni-koeln.de/trebst/Lectures/2019-CompPhys.shtml](http://www.thp.uni-koeln.de/trebst/Lectures/2019-CompPhys.shtml)\n",
    "\n",
    "**Abgabe**: Montag, 29.4.2019, **vor** der Vorlesung\n",
    "\n",
    "**Besprechung**: 2.5.2019 - 3.5.2019\n",
    "\n",
    "\n",
    "**Name**: <font color=\"red\">Bitte geben Sie ihren Namen an</font>\n",
    "\n",
    "**Matrikelnummer**: <font color=\"red\">Bitte geben Sie ihre Matrikelnummer an</font>"
   ]
  },
  {
   "cell_type": "markdown",
   "metadata": {},
   "source": [
    "<table style=\"border-style: none; width: 100%\"><tr style=\"border-style: none;\">\n",
    "<td style=\"border-style: none; width: 1%; font-size: 20px; font-weight: bold; text-align: left\">Aufgaben auf Übungsblatt 4</td>\n",
    "<td style=\"border-style: none; width: 1%; font-size: 15px; text-align: right\"></td></tr></table>\n",
    "\n",
    "- **Simpson vs. Trapezregel** [5 Punkte]\n",
    "- Stau aus dem Nichts [5 Punkte]\n",
    "- Wie eine Düne im Wind [10 Bonus-Punkte]"
   ]
  },
  {
   "cell_type": "markdown",
   "metadata": {},
   "source": [
    "<table style=\"border-style: none; width: 100%\"><tr style=\"border-style: none;\">\n",
    "<td style=\"border-style: none; width: 1%; font-size: 20px; font-weight: bold; text-align: left\">Simpson vs. Trapezregel</td>\n",
    "<td style=\"border-style: none; width: 1%; font-size: 15px; text-align: right\">[5 Punkte]</td></tr></table>\n",
    "\n",
    "\n",
    "In dieser Aufgaben beschäftigen wir uns mit dem Thema **Numerische Integration**. Die erste Methode, die Sie dafür kennengelernt haben, ist die **Trapezregel**. Wie der Name schon suggeriert, wird der Flächeninhalt durch eine Reihe von Trapezen approximiert. Abhängig vom Verhalten der Funktion, dem Diskretisierungsschritt und der Größe des Integrationsbereichs kann dies bereits gute Ergebnisse liefern. Genauer ist allerdings die **Simpson Regel**, bei der die Funktion auch diskretisiert, aber dann intervallweise durch eine Parabel genähert wird. "
   ]
  },
  {
   "cell_type": "markdown",
   "metadata": {},
   "source": [
    "##### a) Pseudocode\n",
    "\n",
    "Erstellen Sie zuerst jeweils einen Ablaufplan in Pseudo-Code für ein Programm (d.h. formulieren Sie schrittweise Anweisungen die nicht der Julia Syntax folgen), in dem Sie das Integral $\\int_a^b f(x) \\operatorname{dx}$ einer Funktion $f(x)$ mittels Trapez- und Simpson-Regel berechnen basierend auf der Beschreibung der jeweiligen Algorithmen in der Vorlesung. Ihr Ablaufplan sollte alle Schritte enthalten, die auch ihr späteres Julia Programm enthalten wird, allerdings besteht der Vorteil von Pseudo-Code darin, dass Sie sich über Julia Syntax keine Gedanken machen müssen."
   ]
  },
  {
   "cell_type": "code",
   "execution_count": null,
   "metadata": {},
   "outputs": [],
   "source": []
  },
  {
   "cell_type": "markdown",
   "metadata": {},
   "source": [
    "##### b) Implementation in Julia\n",
    "\n",
    "Vervollständigen Sie jetzt die beiden Julia Funktionen `integriere_trapez` und `integriere_simpson` basierend auf Ihrem Pseudocode. Beide Funktionen erhalten jeweils eine mathematische Funktion `f` (die integriert werden soll) sowie Intervallgrenzen `a` und `b` als Übergabeparameter und sollen das Integral $\\int_a^b f(x) \\operatorname{dx}$ mit `N` Stützstellen berechnen.\n",
    "\n",
    "*Hinweis*: Beachten Sie, dass die Simpson-Regel zu gegebenen Stützstellen $a$ und $b$ immer auch $(a+b)/2$ hinzuzieht."
   ]
  },
  {
   "cell_type": "code",
   "execution_count": null,
   "metadata": {
    "scrolled": false
   },
   "outputs": [],
   "source": [
    "# -- TRAPEZ --\n",
    "function integriere_trapez(f, a, b, N)\n",
    "    \n",
    "    ################################\n",
    "    # HIER SOLLTE IHR CODE STEHEN (sie koennen folgendes verwenden)\n",
    "    x_values = range(a, stop=b, length=N)\n",
    "    f_values = f.(x_values)\n",
    "    # ...\n",
    "    ################################\n",
    "    \n",
    "end\n",
    "\n",
    "\n",
    "\n",
    "\n",
    "# -- SIMPSON --\n",
    "function integriere_simpson(f, a, b, N)\n",
    "    \n",
    "    ################################\n",
    "    # HIER SOLLTE IHR CODE STEHEN (sie koennen folgendes verwenden)\n",
    "    x_values = range(a, stop=b, length=N)\n",
    "    f_values = f.(x_values)\n",
    "    # ...\n",
    "    ################################\n",
    "    \n",
    "end"
   ]
  },
  {
   "cell_type": "markdown",
   "metadata": {},
   "source": [
    "##### c) Testen der Integration (ohne Punkte)\n",
    "\n",
    "Zum Testen der vorher implementierten Integrationsroutinen können Sie die unten stehende Zelle ausführen. Testen Sie, ob das Integral $\\int_0^3 x^2 dx$ wirklich das Ergebnis $9$ ergibt."
   ]
  },
  {
   "cell_type": "code",
   "execution_count": null,
   "metadata": {},
   "outputs": [],
   "source": [
    "# Die zu integrierende Funktion\n",
    "f(x) = x^2\n",
    "# Das Intervall\n",
    "a = 0\n",
    "b = 3\n",
    "# Wie viele Stuetzstellen benoetigt werden\n",
    "resolution = 101\n",
    "\n",
    "\n",
    "# Integration ausfuehren\n",
    "int_trapez  = integriere_trapez(f,  a,b, resolution)\n",
    "int_simpson = integriere_simpson(f, a,b, resolution)\n",
    "\n",
    "\n",
    "# Ergebnis ausgeben\n",
    "println(\"Integral(x^2 zwischen $a und $b) = (Trapez: $(round(int_trapez, digits=3)), Simpson: $(round(int_simpson, digits=3)))\")"
   ]
  },
  {
   "cell_type": "markdown",
   "metadata": {},
   "source": [
    "##### d) Vorteile der Trapez- oder Simpson-Regel\n",
    "\n",
    "Benutzen Sie den Code aus Aufgabenteil c) um jeweils ein Beispiel für eine Funktion anzugeben, in der die Trapezregel eine genaueres Ergebnis bei gleicher Anzahl an Stuetzstellen liefer, sowie einmal eine Funktion, bei der die Simpson-Regel genauer ist. Warum ist dies der Fall?"
   ]
  },
  {
   "cell_type": "code",
   "execution_count": null,
   "metadata": {},
   "outputs": [],
   "source": [
    "# Diese zu integrierende Funktion wird besser durch die TRAPEZ Regel integriert\n",
    "# HIER SOLLTE IHR CODE STEHEN"
   ]
  },
  {
   "cell_type": "code",
   "execution_count": null,
   "metadata": {},
   "outputs": [],
   "source": [
    "# Diese zu integrierende Funktion wird besser durch die SIMPSON Regel integriert\n",
    "# HIER SOLLTE IHR CODE STEHEN"
   ]
  },
  {
   "cell_type": "markdown",
   "metadata": {},
   "source": [
    "##### e) Berechnung der Kugelflächen-Orthogonalitätsrelation\n",
    "\n",
    "Die Mathematik kennt eine Reihe von speziellen Funktionen, die gerade in der Physik eine besondere Relevanz entwickeln. Dazu gehören die **Kugelflächen-Funktionen**, welche in Problemen mit sphärischer oder zylindrischer Symmetrie auftreten. Vielleicht erinnern Sie sich an die Multipolentwicklung der Elektrostatik, oder aber Sie werden Ihnen in der Quantenmechanik bei der Lösung des Wasserstoffatoms wieder begegnen. \n",
    "\n",
    "Sie ergeben sich als Lösungen der **Eigenwertgleichung** des Winkelanteils des Laplace-Operators:\n",
    "\n",
    "$\\left(\\frac{\\partial^{2}}{\\partial\\vartheta^{2}}+\\frac{\\cos\\vartheta}{\\sin\\vartheta}\\frac{\\partial}{\\partial\\vartheta}+\\frac{1}{\\sin^{2}\\vartheta}\\frac{\\partial^{2}}{\\partial\\varphi^{2}}\\right)Y_{\\ell m}(\\vartheta,\\varphi)=-\\ell(\\ell+1)Y_{\\ell m}(\\vartheta,\\varphi),$\n",
    "\n",
    "wobei wir uns hier auf den Spezialfall $m=0$ beschränken.\n",
    "\n",
    "Die Lösung lautet dann\n",
    "\n",
    "$ Y_{\\ell 0}(\\vartheta,\\varphi)=\\frac{1}{\\sqrt{2\\pi}}\\, N_{\\ell 0}\\, P_{\\ell 0}(\\cos\\vartheta)$\n",
    "\n",
    "mit den Normierungsfaktoren $N_{\\ell 0}=\\sqrt\\frac{2\\ell+1}{2}$ sowie den Legendrepolynomen\n",
    "\n",
    "$ P_{\\ell 0}(x)= P_\\ell(x) = \\frac{1}{2^\\ell \\, \\ell!} \\, \\frac{\\mathrm{d}^\\ell}{\\mathrm{d}x^\\ell} \\left(x^2-1\\right)^\\ell$\n",
    "\n",
    "Unser Ziel ist es nun, die **Orthogonalitätsrelation**\n",
    "\n",
    "$\\int Y_{\\ell 0}^{*}(\\vartheta,\\varphi) \\, Y_{\\ell' 0}(\\vartheta,\\varphi) d\\Omega = \\delta_{\\ell\\,\\ell'}$\n",
    "\n",
    "der Kugelflächen-Funktionen durch **numerische** Integration für $\\ell \\in [0,\\dots,3]$ zu überprüfen.\n",
    "\n",
    "Berechnen Sie dafür zuerst die ersten vier Kugelflächen-Funktionen und definieren Sie diese als Julia Funktionen in der nachfolgenen Zelle."
   ]
  },
  {
   "cell_type": "code",
   "execution_count": null,
   "metadata": {},
   "outputs": [],
   "source": [
    "# Definieren Sie hier die Kugelflaechen-Funktionen Y_1 bis Y_4\n",
    "Y_1(x) = 0\n",
    "Y_2(x) = 0\n",
    "Y_3(x) = 0\n",
    "Y_4(x) = 0"
   ]
  },
  {
   "cell_type": "markdown",
   "metadata": {},
   "source": [
    "Führen Sie jetzt mit ihren bereits implementierten Funktionen un dem unten bereit gestellten Code die Integration der Produkte aus Kugelflächen-Funktionen aus und zeigen Sie dass die Kugelflächen-Funktionen die Orthogonalitätsrelation\n",
    "\n",
    "$\\int Y_{\\ell 0}^{*}(\\vartheta,\\varphi) \\, Y_{\\ell' 0}(\\vartheta,\\varphi) d\\Omega = \\delta_{\\ell\\,\\ell'}$\n",
    "\n",
    "für $l \\in [0,1,2,3]$ erfüllen.\n",
    "\n",
    "Um für die Integration Ihre bereits implementierten Integrationsroutinen zu verwenden muss das Integral auf eine eindimensionale Integration reduziert werden. Dazu wird das Raumwinkelelement $d\\Omega$ explizit in den Winkeln $\\vartheta \\in [0, \\pi]$ und $\\varphi \\in [0,2\\pi]$ als $d\\Omega = \\operatorname{sin}(\\vartheta)d\\vartheta d\\varphi$ geschrieben. Die Integration über $\\varphi$ kann direkt ausgeführt werden und gibt einen Vorfaktor von $2\\pi$, sodass für das Prüfen der Orthogonalitätsrelation nur noch das folgende Integral berechnet werden muss:\n",
    "\n",
    "$ 2\\pi \\int_0^\\pi Y_{\\ell 0}^{*}(\\vartheta) \\, Y_{\\ell' 0}(\\vartheta) \\operatorname{sin}(\\vartheta) d\\vartheta = \\delta_{\\ell\\,\\ell'}$\n",
    "\n",
    "\n",
    "Verwenden Sie 15-20 Stützstellen für die Integration über $\\vartheta$ in beiden Verfahren. Bewerten Sie, in welchen Fällen welche der beiden Methoden der anderen überlegen ist und ab welcher Anzahl an Stützstellen das Ergebnis brauchbar ist."
   ]
  },
  {
   "cell_type": "code",
   "execution_count": null,
   "metadata": {},
   "outputs": [],
   "source": [
    "resolution = 9\n",
    "\n",
    "integrand(x) = Y_1(x) * Y_1(x) * sin(x)\n",
    "integral_simpson = integriere_simpson(integrand, 0, pi, resolution) * 2*pi\n",
    "integral_trapez  = integriere_trapez(integrand, 0, pi, resolution) * 2*pi\n",
    "println(\"Integral(Y_1*Y_1) = 1 (Trapez: $(round(integral_trapez, digits=3)), Simpson: $(round(integral_simpson, digits=3)))\")\n",
    "\n",
    "integrand(x) = Y_1(x) * Y_2(x) * sin(x)\n",
    "integral_simpson = integriere_simpson(integrand, 0, pi, resolution) * 2*pi\n",
    "integral_trapez  = integriere_trapez(integrand, 0, pi, resolution) * 2*pi\n",
    "println(\"Integral(Y_1*Y_2) = 0 (Trapez: $(round(integral_trapez, digits=3)), Simpson: $(round(integral_simpson, digits=3)))\")\n",
    "\n",
    "integrand(x) = Y_1(x) * Y_3(x) * sin(x)\n",
    "integral_simpson = integriere_simpson(integrand, 0, pi, resolution) * 2*pi\n",
    "integral_trapez  = integriere_trapez(integrand, 0, pi, resolution) * 2*pi\n",
    "println(\"Integral(Y_1*Y_3) = 0 (Trapez: $(round(integral_trapez, digits=3)), Simpson: $(round(integral_simpson, digits=3)))\")\n",
    "\n",
    "integrand(x) = Y_1(x) * Y_4(x) * sin(x)\n",
    "integral_simpson = integriere_simpson(integrand, 0, pi, resolution) * 2*pi\n",
    "integral_trapez  = integriere_trapez(integrand, 0, pi, resolution) * 2*pi\n",
    "println(\"Integral(Y_1*Y_4) = 0 (Trapez: $(round(integral_trapez, digits=3)), Simpson: $(round(integral_simpson, digits=3)))\")\n",
    "\n",
    "\n",
    "integrand(x) = Y_2(x) * Y_2(x) * sin(x)\n",
    "integral_simpson = integriere_simpson(integrand, 0, pi, resolution) * 2*pi\n",
    "integral_trapez  = integriere_trapez(integrand, 0, pi, resolution) * 2*pi\n",
    "println(\"Integral(Y_2*Y_2) = 1 (Trapez: $(round(integral_trapez, digits=3)), Simpson: $(round(integral_simpson, digits=3)))\")\n",
    "\n",
    "integrand(x) = Y_2(x) * Y_3(x) * sin(x)\n",
    "integral_simpson = integriere_simpson(integrand, 0, pi, resolution) * 2*pi\n",
    "integral_trapez  = integriere_trapez(integrand, 0, pi, resolution) * 2*pi\n",
    "println(\"Integral(Y_2*Y_3) = 0 (Trapez: $(round(integral_trapez, digits=3)), Simpson: $(round(integral_simpson, digits=3)))\")\n",
    "\n",
    "integrand(x) = Y_2(x) * Y_4(x) * sin(x)\n",
    "integral_simpson = integriere_simpson(integrand, 0, pi, resolution) * 2*pi\n",
    "integral_trapez  = integriere_trapez(integrand, 0, pi, resolution) * 2*pi\n",
    "println(\"Integral(Y_2*Y_3) = 0 (Trapez: $(round(integral_trapez, digits=3)), Simpson: $(round(integral_simpson, digits=3)))\")\n",
    "\n",
    "\n",
    "integrand(x) = Y_3(x) * Y_3(x) * sin(x)\n",
    "integral_simpson = integriere_simpson(integrand, 0, pi, resolution) * 2*pi\n",
    "integral_trapez  = integriere_trapez(integrand, 0, pi, resolution) * 2*pi\n",
    "println(\"Integral(Y_3*Y_3) = 1 (Trapez: $(round(integral_trapez, digits=3)), Simpson: $(round(integral_simpson, digits=3)))\")\n",
    "\n",
    "integrand(x) = Y_3(x) * Y_4(x) * sin(x)\n",
    "integral_simpson = integriere_simpson(integrand, 0, pi, resolution) * 2*pi\n",
    "integral_trapez  = integriere_trapez(integrand, 0, pi, resolution) * 2*pi\n",
    "println(\"Integral(Y_3*Y_4) = 0 (Trapez: $(round(integral_trapez, digits=3)), Simpson: $(round(integral_simpson, digits=3)))\")\n",
    "\n",
    "\n",
    "integrand(x) = Y_4(x) * Y_4(x) * sin(x)\n",
    "integral_simpson = integriere_simpson(integrand, 0, pi, resolution) * 2*pi\n",
    "integral_trapez  = integriere_trapez(integrand, 0, pi, resolution) * 2*pi\n",
    "println(\"Integral(Y_4*Y_4) = 1 (Trapez: $(round(integral_trapez, digits=3)), Simpson: $(round(integral_simpson, digits=3)))\")"
   ]
  }
 ],
 "metadata": {
  "@webio": {
   "lastCommId": "b015f8c9269c4a9c835a098c503f7669",
   "lastKernelId": "e37abf2b-53c6-47ed-9384-6a5f925c9f16"
  },
  "kernelspec": {
   "display_name": "Julia 1.0.0",
   "language": "julia",
   "name": "julia-1.0"
  },
  "language_info": {
   "file_extension": ".jl",
   "mimetype": "application/julia",
   "name": "julia",
   "version": "1.0.0"
  }
 },
 "nbformat": 4,
 "nbformat_minor": 1
}
