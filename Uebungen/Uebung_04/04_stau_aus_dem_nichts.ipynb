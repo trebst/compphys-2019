{
 "cells": [
  {
   "cell_type": "markdown",
   "metadata": {},
   "source": [
    "<table style=\"width: 100%; border-style: none;\">\n",
    "<tr style=\"border-style: none\">\n",
    "<td style=\"border-style: none; width: 1%; font-size: 16px; text-align: left\">Institut f&uuml;r Theoretische Physik<br /> Universit&auml;t zu K&ouml;ln</td>\n",
    "<td style=\"border-style: none; width: 1%; font-size: 16px\">&nbsp;</td>\n",
    "<td style=\"border-style: none; width: 1%; text-align: right; font-size: 16px\">Prof. Dr. Simon Trebst<br />Jan Attig</td>\n",
    "</tr>\n",
    "</table>\n",
    "<hr>\n",
    "<h1 style=\"font-weight:bold; text-align: center; margin: 0px; padding:0px;\">Computerphysik</h1>\n",
    "<h1 style=\"font-weight:bold; text-align: center; margin: 0px; padding:0px;\">&Uuml;bungsblatt 4</h1>\n",
    "<hr>\n",
    "<h3 style=\"font-weight:bold; text-align: center; margin: 0px; padding:0px; margin-bottom: 20px;\">Sommersemester 2019</h3>\n",
    "\n",
    "**Website:** [http://www.thp.uni-koeln.de/trebst/Lectures/2019-CompPhys.shtml](http://www.thp.uni-koeln.de/trebst/Lectures/2019-CompPhys.shtml)\n",
    "\n",
    "**Abgabe**: Montag, 29.4.2019, **vor** der Vorlesung\n",
    "\n",
    "**Besprechung**: 2.5.2019 - 3.5.2019\n",
    "\n",
    "\n",
    "**Name**: <font color=\"red\">Bitte geben Sie ihren Namen an</font>\n",
    "\n",
    "**Matrikelnummer**: <font color=\"red\">Bitte geben Sie ihre Matrikelnummer an</font>"
   ]
  },
  {
   "cell_type": "markdown",
   "metadata": {},
   "source": [
    "<table style=\"border-style: none; width: 100%\"><tr style=\"border-style: none;\">\n",
    "<td style=\"border-style: none; width: 1%; font-size: 20px; font-weight: bold; text-align: left\">Aufgaben auf Übungsblatt 4</td>\n",
    "<td style=\"border-style: none; width: 1%; font-size: 15px; text-align: right\"></td></tr></table>\n",
    "\n",
    "- Simpson vs. Trapezregel [5 Punkte]\n",
    "- **Stau aus dem Nichts** [5 Punkte]\n",
    "- Wie eine Düne im Wind [10 Bonus-Punkte]"
   ]
  },
  {
   "cell_type": "markdown",
   "metadata": {},
   "source": [
    "<table style=\"border-style: none; width: 100%\"><tr style=\"border-style: none;\">\n",
    "<td style=\"border-style: none; width: 1%; font-size: 20px; font-weight: bold; text-align: left\">Stau aus dem Nichts</td>\n",
    "<td style=\"border-style: none; width: 1%; font-size: 15px; text-align: right\">[5 Punkte]</td></tr></table>\n"
   ]
  },
  {
   "cell_type": "markdown",
   "metadata": {},
   "source": [
    "In dieser Aufgabe wollen wir die **Entstehung von Verkehrsstaus** anhand eines relativ simplen Modells verstehen, welches auf dem Konzept eines **zellulären Automaten** beruht – dem sogenannten Nagel-Schreckenberg-Modell, welches Anfang der 90er Jahre in Köln entwickelt wurde. Die Zellen sind dabei Fahrbahnabschnitte, die entweder von einem Fahrzeug belegt sind oder nicht. Jedes Fahrzeug hat zusätzlich zu seiner Position einen weiteren Parameter, nämlich eine Geschwindigkeit. Der Einfachheit halber umfassen die möglichen Werte für die Geschwindigkeit nur die Zahlen 0,1,2,3,4,5.\n",
    "\n",
    "Man kann zu diesem Modell durchaus einen Bezug zur Realität herstellen, in dem man folgende Analogie verwendet:\n",
    "* Länge einer Zelle $\\equiv 7.5\\,\\text{m}$\n",
    "* Geschwindigkeit $i \\equiv i · 27\\,$km/h\n",
    "* Iterationsschritt $\\equiv 1\\,s$\n",
    "\n",
    "Der Iterationsschritt dieses zellulären Automaten besteht aus 4 Teilen:\n",
    "\n",
    "1. **Beschleunigen**: Die Geschwindigkeiten aller Fahrzeuge werden um $1$ erhöht, solange die Höchstgeschwindigkeit $5$ noch nicht erreicht ist.\n",
    "\n",
    "2. **Bremsen**: Bei allen Fahrzeugen, deren Abstand $d$ zum Vordermann kleiner ist als seine Geschwindigkeit, wird die Geschwindigkeit auf diesen Abstand $d - 1$ reduziert.\n",
    "\n",
    "3. **Trödeln**: Jedes Fahrzeug reduziert seine Geschwindigkeit mit Wahrscheinlichkeit $p$ um eine Einheit.\n",
    "\n",
    "4. **Bewegung**: Jedes Fahrzeug wird um seine Geschwindigkeit interpretiert in Zellen nach vorne bewegt.\n",
    "\n",
    "Alle Fahrzeuge durchlaufen diesen Zyklus gleichzeitig, d.h. es werden für jedes Fahrzeug die Werte des vorherigen Zyklusses verwendet und nicht die schon teilweise aktualisierten.\n",
    "\n",
    "#### a) Implementierung in Julia\n",
    "\n",
    "Vervollständigen Sie die unten stehende Funktion, welche den oben beschriebenen zellulären Automaten für eine Fahrbahn von `n_cells` Zellen mit periodischen Randbedingungen (wie eine Rennstrecke ohne Auf- und Abfahrt) um einen Zeitschritt iteriert. Die Funktion erhält dabei die folgenden Übergabeparameter:\n",
    "- `positions` Array mit den Positionen der Fahrzeuge (z.B. ist `positions[1]` die Position des ersten Fahrzeugs)\n",
    "- `speeds` Array mit den Geschwindigkeiten der Fahrzeuge (z.B. ist `speeds[1]` die Geschwindigkeit des ersten Fahrzeugs)\n",
    "- `n_cells` Länge der Fahrbahn\n",
    "- `dawdling` Wahrscheinlichkeit des Trödelns in einem Schritt"
   ]
  },
  {
   "cell_type": "code",
   "execution_count": null,
   "metadata": {},
   "outputs": [],
   "source": [
    "function iterate_traffic(positions, speeds, n_cells, dawdling)\n",
    "    \n",
    "    ############################################################\n",
    "    # HIER STEHT IHR CODE\n",
    "    # 1. Schleife zum Anpassen der Geschwindigkeit        \n",
    "        # Abstand zum naechsten Auto berechnen\n",
    "        # ggf. Beschleunigen\n",
    "        # ggf. Bremsen\n",
    "        # ggf. Troedeln\n",
    "    # 2. Schleife zum Bewegen mit neuer Geschwindigkeit\n",
    "        # Bewegen\n",
    "        # Periodische Randbedingungen\n",
    "    ############################################################\n",
    "\n",
    "    # hier werden nur die aktuellen positionen und geschwindigkeiten zurueckgegeben (stehen lassen!)\n",
    "    return positions, speeds\n",
    "end"
   ]
  },
  {
   "cell_type": "markdown",
   "metadata": {},
   "source": [
    "Zusätzlich zu der Iterationsmethode stellen wir Ihnen eine Methode zur Verfügung, die das Verkehrssystem visualisiert. Die Fahrbahn wird als eine Zeile eines Bildes dargestellt, sodass die Autos Spuren von unten nach oben und rechts ziehen (ganz ähnlich der Darstellung von Weltlinien in der relativistischen Mechanik). Wenn Sie die Zelle ausführen, wird Ihnen zur besseren Veranschaulichung die Trajektorie von nur *zwei* zuerst stehenden Autos gezeigt."
   ]
  },
  {
   "cell_type": "code",
   "execution_count": null,
   "metadata": {},
   "outputs": [],
   "source": [
    "using PyPlot\n",
    "using ColorTypes\n",
    "pygui(false)\n",
    "\n",
    "function make_traffic_plot(positions, speeds, n_cells, dawdling, n_times)\n",
    "    # new image\n",
    "    img = zeros(n_cells, n_times)\n",
    "    # iterate for every step\n",
    "    for t in 1:n_times\n",
    "        # set cells in image\n",
    "        for c in 1:length(positions)\n",
    "            img[positions[c],t] = speeds[c] == 0 ? 0.5 : 0.5 + 0.5*speeds[c]/6\n",
    "        end\n",
    "        # iterate\n",
    "        positions, speeds = iterate_traffic(positions, speeds, n_cells, dawdling)\n",
    "    end\n",
    "    # imshow the image\n",
    "    figure(figsize=(10,6))\n",
    "    imshow(img'[end:-1:1,:], cmap=ColorMap(\"Traffic\", [RGB(1,1,1),RGB(1,0,0),RGB(0,0,1)]), interpolation=\"none\")\n",
    "    gca().set_axis_off()\n",
    "    gcf().subplots_adjust(bottom=0, top=1, right=1, left=0)\n",
    "end\n",
    "\n",
    "make_traffic_plot([1, 50], [0,0], 100, 0, 50)"
   ]
  },
  {
   "cell_type": "markdown",
   "metadata": {},
   "source": [
    "#### b) Beispiellösung\n",
    "\n",
    "Untersuchen Sie unten stehende Zelle und beschreiben Sie was für Anfangsbedingungen für den Verkehr gewählt werden. Wie verhält sich das System in der Zeit?"
   ]
  },
  {
   "cell_type": "code",
   "execution_count": null,
   "metadata": {},
   "outputs": [],
   "source": [
    "# PARAMETER\n",
    "density  = 0.15\n",
    "dawdling = 0.1\n",
    "n_cells = 400\n",
    "n_times = 200\n",
    "\n",
    "# Arrays initialisieren\n",
    "positions = []\n",
    "speeds = []\n",
    "\n",
    "# STARTBEDINGuNGEN\n",
    "for i in 1:n_cells\n",
    "    if rand()<density\n",
    "        push!(positions, i)\n",
    "        push!(speeds, 6)\n",
    "    end\n",
    "end\n",
    "\n",
    "\n",
    "# MAKE PLOT\n",
    "make_traffic_plot(positions, speeds, n_cells, dawdling, n_times)"
   ]
  },
  {
   "cell_type": "markdown",
   "metadata": {},
   "source": [
    "#### c) Weitere Szenarien\n",
    "\n",
    "Basierend auf der Lösung aus b) sollen Sie nun weitere Startbedingungen implementieren. Benutzen Sie für jeden der folgenden Fälle eine eigene Zelle des Notebooks und beschreiben Sie qualitativ den Verkehrsfluss.\n",
    "1. Überfüllung–$p=0.0$, $d \\in [0.2,0.4,0.6,0.8]$,\n",
    "2. Sonntagsfahrer – $d = 0.2$, $p \\in [0.1, 0.2, 0.3]$,\n",
    "3. Ampelstart – Stellen Sie alle Fahrzeuge zu Beginn direkt hintereinander auf und wählen Sie $p = 0.2$, $d = 0.2$. "
   ]
  },
  {
   "cell_type": "code",
   "execution_count": null,
   "metadata": {},
   "outputs": [],
   "source": [
    "# Überfüllung: p = 0.0, d = [0.2,0.4,0.6,0.8]"
   ]
  },
  {
   "cell_type": "code",
   "execution_count": null,
   "metadata": {},
   "outputs": [],
   "source": [
    "# Sonntagsfahrer: d = 0.2, p = [0.1,0.2,0.3]"
   ]
  },
  {
   "cell_type": "code",
   "execution_count": null,
   "metadata": {},
   "outputs": [],
   "source": [
    "# Ampelstart"
   ]
  }
 ],
 "metadata": {
  "kernelspec": {
   "display_name": "Julia 1.0.0",
   "language": "julia",
   "name": "julia-1.0"
  },
  "language_info": {
   "file_extension": ".jl",
   "mimetype": "application/julia",
   "name": "julia",
   "version": "1.0.0"
  }
 },
 "nbformat": 4,
 "nbformat_minor": 1
}
