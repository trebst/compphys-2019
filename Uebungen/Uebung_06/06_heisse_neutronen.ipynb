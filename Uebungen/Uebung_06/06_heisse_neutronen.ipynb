{
 "cells": [
  {
   "cell_type": "markdown",
   "metadata": {},
   "source": [
    "<table style=\"width: 100%; border-style: none;\">\n",
    "<tr style=\"border-style: none\">\n",
    "<td style=\"border-style: none; width: 1%; text-align: left; font-size: 16px\">Institut f&uuml;r Theoretische Physik<br /> Universit&auml;t zu K&ouml;ln</td>\n",
    "<td style=\"border-style: none; width: 1%; font-size: 16px\">&nbsp;</td>\n",
    "<td style=\"border-style: none; width: 1%; text-align: right; font-size: 16px\">Prof. Dr. Simon Trebst<br />Jan Attig</td>\n",
    "</tr>\n",
    "</table>\n",
    "<hr>\n",
    "<h1 style=\"font-weight:bold; text-align: center; margin: 0px; padding:0px;\">Computerphysik</h1>\n",
    "<h1 style=\"font-weight:bold; text-align: center; margin: 0px; padding:0px;\">&Uuml;bungsblatt 6</h1>\n",
    "<hr>\n",
    "<h3 style=\"font-weight:bold; text-align: center; margin: 0px; padding:0px; margin-bottom: 20px;\">Sommersemester 2019</h3>\n",
    "\n",
    "**Website:** [http://www.thp.uni-koeln.de/trebst/Lectures/2019-CompPhys.shtml](http://www.thp.uni-koeln.de/trebst/Lectures/2019-CompPhys.shtml)\n",
    "\n",
    "**Abgabe**: Montag, 20.5.2019, **vor** der Vorlesung\n",
    "\n",
    "**Besprechung**: 22.5.2019 - 24.5.2019\n",
    "\n",
    "**Name**: <font color=\"red\">Bitte geben Sie ihren Namen an</font>\n",
    "\n",
    "**Matrikelnummer**: <font color=\"red\">Bitte geben Sie ihre Matrikelnummer an</font>"
   ]
  },
  {
   "cell_type": "markdown",
   "metadata": {},
   "source": [
    "<table style=\"border-style: none; width: 100%\"><tr style=\"border-style: none;\">\n",
    "<td style=\"border-style: none; width: 1%; font-size: 20px; font-weight: bold; text-align: left\">Aufgaben auf Übungsblatt 6</td>\n",
    "<td style=\"border-style: none; width: 1%; font-size: 15px; text-align: right\"></td></tr></table>\n",
    "\n",
    "- Lorenz-Attraktor [5 Punkte]\n",
    "- Der heiße Draht [5 Punkte]\n",
    "- **Heisse Neutronen** [10 Bonus-Punkte]"
   ]
  },
  {
   "cell_type": "markdown",
   "metadata": {},
   "source": [
    "<table style=\"border-style: none; width: 100%\"><tr style=\"border-style: none;\">\n",
    "<td style=\"border-style: none; width: 1%; text-align: left; font-size: 20px; font-weight: bold\">Heiße Neutronen - Jetzt wird's kritisch</td>\n",
    "<td style=\"border-style: none; width: 1%; text-align: right; font-size: 15px\">(10 Bonuspunkte)</td></tr></table>\n",
    "\n",
    "Numerische Simulationen spielen besonders in der Kernphysik bzw. Kerntechnik - aus naheliegenden Gründen - eine besonders zentrale Rolle. Als beispielhafte Anwendung aus diesem Bereich wollen wir die **Neutronenstreuung** in induzierten, nuklearen Spaltprozessen im Kühlbecken eines Kernreaktors simulieren. \n",
    "\n",
    "Im Wesentlichen beruht der Mechanismus der **Kernspaltung** darauf, dass ein freies Neutron, welches auf einen Atomkern des Brennstoffs (etwa $^{235}$U) trifft, eine Spaltung in zwei kleinere Kerne hervorruft und dabei 2 bis 3 neue Neutronen freisetzt\n",
    "\n",
    "\\begin{equation}\n",
    " {^1_0n} + {^{235}_{92}U} \\longrightarrow {^{141}_{56}Ba} + {^{92}_{36}Kr} + 3 {^1_0n} \\,.\n",
    "\\end{equation}\n",
    "\n",
    "Die freigesetzten Neutronen verursachen dann weitere Spaltungen aus, so dass eine Kettenreaktion ausgelöst wird, die es zu kontrollieren gilt.\n",
    "\n",
    "In unserer Modellierung dieser Kettenreaktion konzentrieren wir uns auf die Neutronen, bzw. deren räumlich und zeitlich variierende Dichte, welche wir als $n(t,\\vec x)$ bezeichnen wollen. Die Entwicklung dieser Neutronendichte kann durch folgende partielle Differentialgleichung modeliert werden\n",
    "\n",
    "\\begin{equation}\n",
    " \\frac{\\partial}{\\partial t}n(t,\\vec x) = D \\cdot \\Delta\\, n(t,\\vec x) + C \\cdot n(t,\\vec x) \\,.\n",
    "\\end{equation}\n",
    "\n",
    "Dabei setzen wir für die Diffusionskonstante $D=10 m^2 / s$ und für die effektive Neutronenerzeugungsrate $C = 1 s^{-1}$ an. Der Einfachheit halber wollen wir die Prozesse in zwei räumlichen Dimensionen simulieren.\n",
    "\n",
    "Um diese Differentialgleichung in zwei Raumdimensionen zu lösen, implementieren Sie einen Algorithmus mittels **finiter Differenzen** nach dem *Forward-Time-Centered-Space* Schema. Nehmen Sie dabei *Dirichlet-Randbedingungen* an, d.h. auf dem Rand $\\partial V$ des Systems gilt \n",
    "\n",
    "\\begin{equation}\n",
    "\tn(t,\\partial V)=0,\\;\\forall t \\,.\n",
    "\\end{equation}\n",
    "\n",
    "Lassen Sie diesen Algorithmus für verschiedene Systemgrößen $L=L_x=L_y$ laufen. Wählen Sie dabei für den Reaktorkern ein konstantes Simulationsfeld von 100 x 100 ($N_x= N_y = N = 100$) Zellen, sodass sich die räumliche Diskretisierung zu $h = L/N$ berechnet. Das FTCS Schema verlangt für die Stabilität der Lösung, dass die zeitliche Diskretisierung $\\tau \\leq \\frac{h^2}{2dD}$, wobei $d$ die Raumdimension des Systems ist. Wählen Sie einen Disketrisierungsschritt von $\\tau = \\frac{h^2}{4dD} $.\n",
    "\n",
    "Als Anfangsverteilung nehmen Sie einen Peak der Neutronendichte in der Mitte des Systems an, also \n",
    "\n",
    "\\begin{equation}\n",
    " n \\left ( t=0, (\n",
    "  x ,\n",
    "  y ) \\right) = \\begin{cases}\n",
    "    1/h^2 & \\text{wenn }x=y=N/2  \\\\\n",
    "      0 & \\text{sonst.}\n",
    "    \\end{cases}\n",
    "\\end{equation}\n",
    "\n",
    " Simulieren Sie nun die zeitliche und räumliche Entwicklung der Neutronendichte für Reaktorkerne der Kantenlängen $L=10, 15, 30$ - am besten in einer Animation - und beschreiben Sie Ihre Beobachtungen für die unterschiedlichen Parameter.\n",
    " \n",
    "**Tipp:** Sie werden unter anderem beobachten, dass bei kurzen Laufzeiten Schachbrett-Oszillationen der Neutronendichte auftreten - warum? Diese können Sie glätten, indem Sie stets zwei Zeitentwicklungsschritte hintereinander durchführen und den Mittelwert der beiden als neue Konfiguration darstellen.\n",
    "\n",
    "*Optionale Zusatzaufgabe:* Betrachten Sie einen Reaktorkern mit zusätzlichen **Moderatoren**, welche Neutronen absorbieren können. Zusätzlich zu den Dirichlet-Randbedingungen gibt es dann auch im Inneren Punkte, an denen $n(t,\\vec x) = 0$ festgesetzt wird. Ordnen Sie acht Moderatoren auf einem Kreis mit Radius $N/4$ um den Ursprung $(N/2, N/2)$ and und simulieren Sie nun die Neutronendichte für Systemgrößen $L=20, 30, 75$. Beschreiben Sie den Unterschied!"
   ]
  },
  {
   "cell_type": "code",
   "execution_count": null,
   "metadata": {},
   "outputs": [],
   "source": []
  }
 ],
 "metadata": {
  "@webio": {
   "lastCommId": null,
   "lastKernelId": null
  },
  "kernelspec": {
   "display_name": "Julia 1.0.0",
   "language": "julia",
   "name": "julia-1.0"
  },
  "language_info": {
   "file_extension": ".jl",
   "mimetype": "application/julia",
   "name": "julia",
   "version": "1.0.0"
  }
 },
 "nbformat": 4,
 "nbformat_minor": 1
}
