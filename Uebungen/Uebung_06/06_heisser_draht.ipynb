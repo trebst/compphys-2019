{
 "cells": [
  {
   "cell_type": "markdown",
   "metadata": {},
   "source": [
    "<table style=\"width: 100%; border-style: none;\">\n",
    "<tr style=\"border-style: none\">\n",
    "<td style=\"border-style: none; width: 1%; text-align: left; font-size: 16px\">Institut f&uuml;r Theoretische Physik<br /> Universit&auml;t zu K&ouml;ln</td>\n",
    "<td style=\"border-style: none; width: 1%; font-size: 16px\">&nbsp;</td>\n",
    "<td style=\"border-style: none; width: 1%; text-align: right; font-size: 16px\">Prof. Dr. Simon Trebst<br />Jan Attig</td>\n",
    "</tr>\n",
    "</table>\n",
    "<hr>\n",
    "<h1 style=\"font-weight:bold; text-align: center; margin: 0px; padding:0px;\">Computerphysik</h1>\n",
    "<h1 style=\"font-weight:bold; text-align: center; margin: 0px; padding:0px;\">&Uuml;bungsblatt 6</h1>\n",
    "<hr>\n",
    "<h3 style=\"font-weight:bold; text-align: center; margin: 0px; padding:0px; margin-bottom: 20px;\">Sommersemester 2019</h3>\n",
    "\n",
    "**Website:** [http://www.thp.uni-koeln.de/trebst/Lectures/2019-CompPhys.shtml](http://www.thp.uni-koeln.de/trebst/Lectures/2019-CompPhys.shtml)\n",
    "\n",
    "**Abgabe**: Montag, 13.5.2019, **vor** der Vorlesung\n",
    "\n",
    "**Besprechung**: 15.5.2019 - 17.5.2019\n",
    "\n",
    "**Name**: <font color=\"red\">Bitte geben Sie ihren Namen an</font>\n",
    "\n",
    "**Matrikelnummer**: <font color=\"red\">Bitte geben Sie ihre Matrikelnummer an</font>"
   ]
  },
  {
   "cell_type": "markdown",
   "metadata": {},
   "source": [
    "<table style=\"border-style: none; width: 100%\"><tr style=\"border-style: none;\">\n",
    "<td style=\"border-style: none; width: 1%; font-size: 20px; font-weight: bold; text-align: left\">Aufgaben auf Übungsblatt 6</td>\n",
    "<td style=\"border-style: none; width: 1%; font-size: 15px; text-align: right\"></td></tr></table>\n",
    "\n",
    "- Lorenz-Attraktor [5 Punkte]\n",
    "- **Der heiße Draht** [5 Punkte]\n",
    "- Heisse Neutronen [10 Bonus-Punkte]"
   ]
  },
  {
   "cell_type": "markdown",
   "metadata": {},
   "source": [
    "<table style=\"border-style: none; width: 100%\"><tr style=\"border-style: none;\">\n",
    "<td style=\"border-style: none; width: 1%; text-align: left; font-size: 20px; font-weight: bold\">Der heiße Draht</td>\n",
    "<td style=\"border-style: none; width: 1%; text-align: right; font-size: 15px\">(5 Punkte)</td></tr></table>\n",
    "\n",
    "\n",
    "In dieser Aufgabe wollen wir die eine der einfachsten partiellen Differentialgleichungen, die **Wärmeleitungsgleichung** in einer Dimension, untersuchen. Sie haben diese bereits in der Vorlesung als\n",
    "\n",
    "\\begin{equation}\\dfrac{\\partial u}{\\partial t} = \\kappa\\frac{\\partial^2 u}{\\partial x^2}\\end{equation}\n",
    "\n",
    "mit dem Wärmeleitungskoeffizienten $\\kappa$ kennengelernt. Für die Bearbeitung dieser Aufgabe setzen wir $\\kappa=1$. Physikalisch betrachten wir also zum Beispiel die zeitliche Entwicklung der Temperatur eines Drahtes.\n",
    "\n",
    "Die einfachste Methode, diese Gleichung zu lösen, ist die **Euler-Methode**, die Sie bereits auf den vorherigen Arbeitsblättern kennengelernt und implementiert haben. Um diese auf die Wärmeleitungsgleichung anzuwenden, müssen Sie allerdings sowohl die Zeit- als auch die Ortsableitung diskretisieren. Den zeitlichen Diskretisierungssschritt nennen wir $dt$ und den räumlichen $dx$. So ergibt sich also\n",
    "\n",
    "\\begin{equation} \\dfrac{u(x_j, t_{m + 1}) - u(x_j, t_m)}{dt} = \\dfrac{u(x_{j-1}, t_m) - 2 u(x_j, t_m) + u(x_{j+1}, t_m)}{dx^2} \\end{equation}\n",
    "\n",
    "wobei $x_j$ die Ortskoordinate des Gitterplatzes $j$ und $t_m$ den Zeitwert des Zeitschritts $m$ bezeichnen. Wenn Sie diese Gleichung nach $u(x_j, t_{m+1})$ auflösen erhalten Sie ein Iterationsrezept um für jeden Zeitschritt eine neue Wärmeverteilung zu berechnen. \n",
    "\n",
    "Für eine funktionierende Simulation fehlen noch Randbedingungen. Wir verwenden **Dirichlet-Bedingungen**, das heißt, wir geben die Konfiguration auf dem Rand vor. Diese sei $0$ auf beiden Seiten. Sie müssen außerdem noch eine Startverteilung, d.h. eine Temperaturverteilung bei $t = 0$ angeben. Wir betrachten einen Draht der Länge $l = 1$ und starten mit der Verteilung \n",
    "\n",
    "\\begin{equation} u(x, 0) = \\sin(\\pi x),\\quad x \\in (0, 1).\\end{equation}\n",
    "\n",
    "Ihre Aufgabe ist es, im Folgenden den oben beschriebenen Algorithmus zu implementieren und den Draht mit anfänglicher Hitze-Verteilung zu simulieren."
   ]
  },
  {
   "cell_type": "markdown",
   "metadata": {},
   "source": [
    "##### a) Skizze\n",
    "\n",
    "Wir wollen zuerst den Algorithmus genauer untersuchen. Erstellen Sie dafür eine Skizze für ein kleines System in dem der Raum in 5 Punkte diskretisiert wurde und welches in 3 Zeitschritten simuliert wird. Zeichnen Sie Pfeile zwischen den verschiedenen Werten $u(x_i,t_j)$ um Abhängigkeiten bei der Berechnung des Algorithmus darzustellen. Erläutern Sie Ihre Skizze."
   ]
  },
  {
   "cell_type": "markdown",
   "metadata": {},
   "source": [
    "##### b) Implementation eines Euler-Schritts in Julia\n",
    "\n",
    "Implementieren Sie jetzt einen Zeitschritt des Algorithmus in die Funktion `euler_step`. Dieser wird die aktuelle Temperaturverteilung `u` als ein Array, sowie die Raumdiskretisierung `dx` und die Zeitdiskretisierung `dt` übergeben."
   ]
  },
  {
   "cell_type": "code",
   "execution_count": null,
   "metadata": {},
   "outputs": [],
   "source": [
    "function euler_step(u, dx, dt)\n",
    "    # VERVOLLSTAENDIGEN SIE DEN NACHFOLGENDEN CODE\n",
    "    # definiere neues array für neue u werte \n",
    "    # berechne neue u werte\n",
    "    # Randbedingungen\n",
    "    # neue u werte zurueckgeben\n",
    "end"
   ]
  },
  {
   "cell_type": "markdown",
   "metadata": {},
   "source": [
    "##### c) Implementation der gesamten Zeitentwicklung\n",
    "\n",
    "Benutzen Sie die Funktion `euler_step` um in der Funktion `euler_time_evolution` die komplette Zeitentwicklung einer anfänglichen Temperaturverteilung `u_0`, an x-Werten `x_values`, für die Zeitpunkte `t_values` zu berechnen. Die Zeitentwicklung des eindimensionalen Drahts soll als zweidimensionales Bild dargestellt werden, in dem jede Zeile ein Zeitschritt ist."
   ]
  },
  {
   "cell_type": "code",
   "execution_count": null,
   "metadata": {},
   "outputs": [],
   "source": [
    "function euler_time_evolution(u_0, x_values, t_values)\n",
    "    # zeitentwicklung als matrix erstellen\n",
    "    time_evolution = zeros(length(x_values), length(t_values))\n",
    "    # VERVOLLSTAENDIGEN SIE DEN NACHFOLGENDEN CODE\n",
    "    # setze die anfangsbedingungen\n",
    "    # speicher die erste zeitentwicklung in die matrix\n",
    "    time_evolution[:,1] .= u\n",
    "    # bestimme dx und dt\n",
    "    # schleife ueber alle relevanten Zeiten (das sind welche?)\n",
    "        # neuer euler schritt\n",
    "        # setze die aktuellen daten in die matrix    \n",
    "    # gebe die zeitentwicklung zurück\n",
    "end"
   ]
  },
  {
   "cell_type": "markdown",
   "metadata": {},
   "source": [
    "##### d) Testen der Implementierung\n",
    "\n",
    "Benutzen Sie die Funktion `euler_time_evolution` um die komplette Zeitentwicklung der Verteilung $u(x, 0) = \\sin(\\pi x)$ für $t\\in [0,1]$ und $x \\in [0,1]$ zu berechnen."
   ]
  },
  {
   "cell_type": "code",
   "execution_count": null,
   "metadata": {},
   "outputs": [],
   "source": [
    "using PyPlot\n",
    "pygui(false)\n",
    "\n",
    "# VERVOLLSTAENDIGEN SIE DEN NACHFOLGENDEN CODE\n",
    "# Setzen von dx und dt\n",
    "# x und t werte berechnen\n",
    "x = ...\n",
    "t = ...\n",
    "# anfangsbedingungen\n",
    "\n",
    "# berechne die zeitentwicklung mittels euler_time_evolution\n",
    "time_series = ...\n",
    "\n",
    "# anzeigen der daten\n",
    "imshow(time_series'[end:-1:1,:], extent=(x[1], x[end], t[1], t[end]), cmap=\"inferno\")\n",
    "xlabel(\"x\")\n",
    "ylabel(\"t\")"
   ]
  },
  {
   "cell_type": "markdown",
   "metadata": {},
   "source": [
    "##### e) Stabilität\n",
    "\n",
    "Untersuchen Sie dann, unter welchen Bedingungen für $dt$ und $dx$ der Algorithmus stabil ist und geben Sie jeweils ein Beispiel für eine stabile Kombination von $dx$ und $dt$, sowie ein Beispiel für eine instabile Kombination."
   ]
  },
  {
   "cell_type": "code",
   "execution_count": null,
   "metadata": {},
   "outputs": [],
   "source": []
  }
 ],
 "metadata": {
  "kernelspec": {
   "display_name": "Julia 1.0.1",
   "language": "julia",
   "name": "julia-1.0"
  },
  "language_info": {
   "file_extension": ".jl",
   "mimetype": "application/julia",
   "name": "julia",
   "version": "1.0.1"
  }
 },
 "nbformat": 4,
 "nbformat_minor": 1
}
