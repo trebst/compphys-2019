{
 "cells": [
  {
   "cell_type": "markdown",
   "metadata": {},
   "source": [
    "<table style=\"width: 100%; border-style: none;\">\n",
    "<tr style=\"border-style: none\">\n",
    "<td style=\"border-style: none; width: 1%; text-align: left; font-size: 16px\">Institut f&uuml;r Theoretische Physik<br /> Universit&auml;t zu K&ouml;ln</td>\n",
    "<td style=\"border-style: none; width: 1%; font-size: 16px\">&nbsp;</td>\n",
    "<td style=\"border-style: none; width: 1%; text-align: right; font-size: 16px\">Prof. Dr. Simon Trebst<br />Jan Attig</td>\n",
    "</tr>\n",
    "</table>\n",
    "<hr>\n",
    "<h1 style=\"font-weight:bold; text-align: center; margin: 0px; padding:0px;\">Computerphysik</h1>\n",
    "<h1 style=\"font-weight:bold; text-align: center; margin: 0px; padding:0px;\">&Uuml;bungsblatt 6</h1>\n",
    "<hr>\n",
    "<h3 style=\"font-weight:bold; text-align: center; margin: 0px; padding:0px; margin-bottom: 20px;\">Sommersemester 2019</h3>\n",
    "\n",
    "**Website:** [http://www.thp.uni-koeln.de/trebst/Lectures/2019-CompPhys.shtml](http://www.thp.uni-koeln.de/trebst/Lectures/2019-CompPhys.shtml)\n",
    "\n",
    "**Abgabe**: Montag, 13.5.2019, **vor** der Vorlesung\n",
    "\n",
    "**Besprechung**: 15.5.2019 - 17.5.2019\n",
    "\n",
    "**Name**: <font color=\"red\">Bitte geben Sie ihren Namen an</font>\n",
    "\n",
    "**Matrikelnummer**: <font color=\"red\">Bitte geben Sie ihre Matrikelnummer an</font>"
   ]
  },
  {
   "cell_type": "markdown",
   "metadata": {},
   "source": [
    "<table style=\"border-style: none; width: 100%\"><tr style=\"border-style: none;\">\n",
    "<td style=\"border-style: none; width: 1%; font-size: 20px; font-weight: bold; text-align: left\">Aufgaben auf Übungsblatt 6</td>\n",
    "<td style=\"border-style: none; width: 1%; font-size: 15px; text-align: right\"></td></tr></table>\n",
    "\n",
    "- **Lorenz-Attraktor** [5 Punkte]\n",
    "- Der heiße Draht [5 Punkte]\n",
    "- Heisse Neutronen [10 Bonus-Punkte]"
   ]
  },
  {
   "cell_type": "markdown",
   "metadata": {},
   "source": [
    "<table style=\"border-style: none; width: 100%\"><tr style=\"border-style: none;\">\n",
    "<td style=\"border-style: none; width: 1%; text-align: left; font-size: 20px; font-weight: bold\">Lorenz-Attraktor</td>\n",
    "<td style=\"border-style: none; width: 1%; text-align: right; font-size: 15px\">(5 Punkte)</td></tr></table>\n",
    "\n",
    "\n",
    "Für die Simulation eines einfachen **Wetter-Modells** hat der Meteorologe Edward Lorenz 1963 eine Beschreibung von \n",
    "Luftströmungen entworfen. Dazu hat er ein Gleichungssystem von drei gekoppelten Differentialgleichungen betrachtet:\n",
    "\\begin{align}\n",
    "\\dot{X} &= a\\left(Y - X\\right) \\\\\n",
    "\\dot{Y} &= X\\left(b-Z\\right)-Y\\\\\n",
    "\\dot{Z} &= X Y - c Z.\n",
    "\\end{align}  \n",
    "\n",
    "Wie sich erst im Laufe der nächsten Dekaden herausstellen sollte, hat Edward Lorenz mit diesem einfachen Modell einen ganz neuen Forschungszweig gestartet - die sogenannte **Chaos-Forschung**. Lorenz selbst war sich der weitreichenden Implikationen seiner Beobachtung, dass die zeitliche Entwicklung eines relativ einfachen *deterministischen* Systems höchst empfindlich auf nur leicht veränderte Startbedingungen reagiert, voll bewusst und prägte schon früh den Begriff des **Schmetterlings-Effekts**. Wer sich zu diesen historischen Entwicklungen weiter informieren möchte, der sei auf diesen [Artikel](http://arxiv.org/pdf/1306.5777.pdf) zum 50-jährigen Jubiläum der Entdeckung des Lorenz-Attraktors hingewiesen.\n",
    "\n",
    "\n",
    "\n",
    "### Teil A - Konventioneller Attraktor\n",
    "\n",
    "Beutzen Sie die Differentialgleichung in der Form\n",
    "\\begin{align}\n",
    "\\dot{X} &= a\\left(Y - X\\right) \\\\\n",
    "\\dot{Y} &= X\\left(b-Z\\right)-Y\\\\\n",
    "\\dot{Z} &= X Y - c Z.\n",
    "\\end{align}  \n",
    "und berechnen Sie mittels des **Runge-Kutta-Verfahrens 4. Ordnung** eine Lösung für $X(t)$, $Y(t)$ und $Z(t)$ und stellen sie diese für $t \\in [0, 100]$ dar. Sie sollen dabei, in Anlehnung an Aufgaben auf Übungsblatt 5, das Runge-Kutta Verfahren in dieser Aufgabe selbst Implementieren.\n",
    "\n",
    "Wählen Sie eine Schrittweite von $\\Delta t = 0.01$ und verwenden Sie die folgenden Parameter und Startwerte:\n",
    "\\begin{align*}\n",
    " &a=10,\\; b=28,\\; c=8/3, \\\\\n",
    " &X(0)=0,\\; Y(0)=1,\\; Z(0)=1.05.\n",
    "\\end{align*} \n",
    "\n",
    "Zur Visualisierung können Sie entweder die PyPlot Funktion `plot3D` verwenden um die Zeitreihen dreidimensional zu plotten, oder Sie projezieren die Zeitreihen auf eine Ebene und stellen diese wie bereits bekannt mittels `plot` dar."
   ]
  },
  {
   "cell_type": "code",
   "execution_count": null,
   "metadata": {},
   "outputs": [],
   "source": []
  },
  {
   "cell_type": "markdown",
   "metadata": {},
   "source": [
    "### Teil B - Fortgeschrittener Attraktor\n",
    "\n",
    "In diesem [Paper](http://www.sciencedirect.com/science/article/pii/037596019390735I) beschreiben die Autoren mathematisch motiviert, wie sich die Form des Lorenz-Attraktors verändern lassen kann. Dabei erhält man beispielsweise den folgenden Satz an Gleichungen:\n",
    "\\begin{align}\n",
    "\\dot{X} &= \\frac{1}{2}\\left(-a X^3 + (2a + b - Z)X^2 Y + (a - 2) X Y^2 - (b - Z)Y^3\\right) / (X^2 + Y^2) \\\\\n",
    "\\dot{Y} &= \\frac{1}{2}\\left( (b - Z) X^3 + (a - 2) X^2 Y + (-2a - b + Z)X Y^2 - a Y^3\\right) / (X^2 + Y^2) \\\\\n",
    "\\dot{Z} &= 2 X^3 Y - 2 X Y^3 - c Z \\\\\n",
    "\\end{align}  \n",
    "\n",
    "Implementieren Sie auch diesen modifizierten Satz von Gleichungen plotten Sie die Zeitentwicklung wie bereits in Teil A."
   ]
  },
  {
   "cell_type": "code",
   "execution_count": null,
   "metadata": {},
   "outputs": [],
   "source": []
  }
 ],
 "metadata": {
  "@webio": {
   "lastCommId": null,
   "lastKernelId": null
  },
  "kernelspec": {
   "display_name": "Julia 1.0.0",
   "language": "julia",
   "name": "julia-1.0"
  },
  "language_info": {
   "file_extension": ".jl",
   "mimetype": "application/julia",
   "name": "julia",
   "version": "1.0.0"
  }
 },
 "nbformat": 4,
 "nbformat_minor": 1
}
