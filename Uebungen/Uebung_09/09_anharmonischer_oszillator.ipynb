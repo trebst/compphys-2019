{
 "cells": [
  {
   "cell_type": "markdown",
   "metadata": {},
   "source": [
    "<table style=\"width: 100%; border-style: none;\">\n",
    "<tr style=\"border-style: none\">\n",
    "<td style=\"border-style: none; width: 1%; text-align: left; font-size: 16px\">Institut f&uuml;r Theoretische Physik<br /> Universit&auml;t zu K&ouml;ln</td>\n",
    "<td style=\"border-style: none; width: 1%; font-size: 16px\">&nbsp;</td>\n",
    "<td style=\"border-style: none; width: 1%; text-align: right; font-size: 16px\">Prof. Dr. Simon Trebst<br />Jan Attig</td>\n",
    "</tr>\n",
    "</table>\n",
    "<hr>\n",
    "<h1 style=\"font-weight:bold; text-align: center; margin: 0px; padding:0px;\">Computerphysik</h1>\n",
    "<h1 style=\"font-weight:bold; text-align: center; margin: 0px; padding:0px;\">&Uuml;bungsblatt 9</h1>\n",
    "<hr>\n",
    "<h3 style=\"font-weight:bold; text-align: center; margin: 0px; padding:0px; margin-bottom: 20px;\">Sommersemester 2019</h3>\n",
    "\n",
    "**Website:** [http://www.thp.uni-koeln.de/trebst/Lectures/2019-CompPhys.shtml](http://www.thp.uni-koeln.de/trebst/Lectures/2019-CompPhys.shtml)\n",
    "\n",
    "**Abgabe**: Montag, 17.6.2019, **vor** der Vorlesung\n",
    "\n",
    "**Besprechung**: 19.6.2019 - 21.6.2019\n",
    "\n",
    "**Name**: <font color=\"red\">Bitte geben Sie ihren Namen an</font>\n",
    "\n",
    "**Matrikelnummer**: <font color=\"red\">Bitte geben Sie ihre Matrikelnummer an</font>"
   ]
  },
  {
   "cell_type": "markdown",
   "metadata": {},
   "source": [
    "<table style=\"border-style: none; width: 100%\"><tr style=\"border-style: none;\">\n",
    "<td style=\"border-style: none; width: 1%; font-size: 20px; font-weight: bold; text-align: left\">Aufgaben auf Übungsblatt 9</td>\n",
    "<td style=\"border-style: none; width: 1%; font-size: 15px; text-align: right\"></td></tr></table>\n",
    "\n",
    "- Heißer Draht 2.0 [5 Punkte]\n",
    "- **Anharmonischer Oszillator** [5 Punkte]\n",
    "- Simulation von Tsunamis [10 Bonus-Punkte]"
   ]
  },
  {
   "cell_type": "markdown",
   "metadata": {},
   "source": [
    "<table style=\"border-style: none; width: 100%\"><tr style=\"border-style: none;\">\n",
    "<td style=\"border-style: none; width: 1%; text-align: left; font-size: 20px; font-weight: bold\">Anharmonischer Oszillator</td>\n",
    "<td style=\"border-style: none; width: 1%; text-align: right; font-size: 15px\">(5 Punkte)</td></tr></table>\n",
    "\n",
    "\n",
    "\n",
    "Nachdem wir kürzlich den harmonischen Oszillator untersucht haben, wollen wir uns in dieser Aufgabe dem **anharmonischen Oszillator** zuwenden.\n",
    "Letzterer sei durch den Hamiltonian (mit $m=\\omega=\\hbar=1$)\n",
    "\n",
    "\\begin{equation}\n",
    "\\hat{H}=\\frac{1}{2}\\left(\\hat{p}^2+\\hat{x}^{\\,2}+ \\lambda\\hat{x}^{\\,4}\\right) \\,,\n",
    "\\end{equation}\n",
    "\n",
    "beschrieben, wobei der zusätzliche quartische Term $\\hat{x}^{\\,4}$ mit positivem Vorfaktor $\\lambda \\in \\mathbb{R}^+$ auftritt. \n",
    "\n",
    "Wir wollen nun die Eigenzustände und die dazugehörigen Energien dieses anharmonischen Oszillators berechnen und dazu   das in der Vorlesung kurz vorgestellte **variationelle Verfahren** einsetzen. Um die Eigenzustände variationell zu beschreiben wollen wir dabei auf die ersten $N$ Eigenzustände $\\{|n\\rangle\\}$ des *harmonischen* Oszillators zurückgreifen.\n",
    "\n",
    "\n",
    "Hilfreich ist auch hier wieder die Einführung der *Auf-* und *Absteigeoperatoren* $a^\\dagger$ und $a$, die schon bei der Lösung des harmonischen Oszillators verwendet wurden. Diese sind definiert durch\n",
    "\n",
    "\\begin{align*}\n",
    "a^\\dagger \\,|n\\rangle &= \\sqrt{n+1}\\,|n+1\\rangle \\\\\n",
    "a \\,|n\\rangle &= \\sqrt{n}\\,|n-1\\rangle\n",
    "\\end{align*}\n",
    "\n",
    "und gehorchen  bosonischen *Kommutatorrelationen*\n",
    "\n",
    "\\begin{equation*}\n",
    "[a, a^\\dagger] = aa^\\dagger-a^\\dagger a=1, \\quad [a,a]=[a^\\dagger,a^\\dagger] = 0.\n",
    "\\end{equation*}\n",
    "Orts- und Impulsoperator können damit wie folgt dargestellt werden\n",
    "\\begin{align*}\n",
    "x &= \\frac{1}{\\sqrt{2}}(a^\\dagger+a) \\\\\n",
    "p &= \\frac{i}{\\sqrt{2}}(a^\\dagger-a).\n",
    "\\end{align*}\n",
    "\n",
    "\n",
    "## Aufgaben\n",
    "\n",
    "Für die Implementation des variationellen Verfahrens sowie dem Plotten der Eigenzustände, dürfen Sie sich an folgenden Teilschritten orientieren.\n",
    "\n",
    "#### a) Implementation von $a$ und $a^\\dagger$\n",
    "\n",
    "Implementieren Sie die Matrixdarstellung der Operatoren $a$ und $a^\\dagger$ für ein wählbares $N$ (Sie können dafür z.b. eine Funktion erstellen, die die Matrix für ein übergebenes $N$ zurück gibt).Zur Erinnerung: Die Matrixelemente der Auf- und Absteiger sind\n",
    "\n",
    "\\begin{align*}\n",
    "a^\\dagger_{nm} &= \\langle n|a^\\dagger|m\\rangle = \\sqrt{m+1}\\, \\delta_{n,m+1} \\\\\n",
    "a_{nm} &= \\langle n|a|m\\rangle = \\sqrt{m}\\, \\delta_{n,m-1}.\n",
    "\\end{align*} "
   ]
  },
  {
   "cell_type": "code",
   "execution_count": null,
   "metadata": {},
   "outputs": [],
   "source": []
  },
  {
   "cell_type": "markdown",
   "metadata": {},
   "source": [
    "#### b) Implementation des Hamiltonians\n",
    "\n",
    "Formulieren Sie danach den Hamiltonian unter Verwendung der Auf- und Absteiger $a^\\dagger$ und $a$, d.h. berechnen Sie seine Matrixdarstellung explizit aus den Matrixdarstellungen von $a$ und $a^\\dagger$, die Sie im vorherigen Aufgabenteil implementiert haben. Auch hier bietet sich eine Funktion an, sodass Sie den Parameter $\\lambda$ im Hamiltonian frei wählen können.\n",
    "\n",
    "Achtung: Auf Grund von $ a^\\dagger \\,|n\\rangle = \\sqrt{n+1}\\,|n+1\\rangle$ wird Ihr Hamiltonian die Eigenzustände für großes $n$ nicht richtig enthalten (da für großes $n$ der Eigenzustand $|n+1\\rangle$ nicht mehr Teil Ihrer Basis ist und somit $ a^\\dagger \\,|n\\rangle = 0$ ergibt). Die einfachste Lösung ist es, den Hamiltonian ein wenig *zu groß* zu bauen, und später nur einen kleinen Ausschnitt daraus zu betrachten. Z.b. können Sie für N=10 einen 12x12 großen Hamiltonian bauen, aus dem Sie nur einen 10x10 großen Ausschnitt betrachten.\n",
    "\n",
    "Wie viel Extra-Größe müssen Sie für ein allgemeines $\\lambda$ implementieren?"
   ]
  },
  {
   "cell_type": "code",
   "execution_count": null,
   "metadata": {},
   "outputs": [],
   "source": []
  },
  {
   "cell_type": "markdown",
   "metadata": {},
   "source": [
    "#### c) Berechnung der Eigenzustände\n",
    "\n",
    "Implementieren Sie  das variationelle Verfahren, indem Sie die Eigenzustände des Hamiltonoperators berechnen und diese als Wellenfunktionen plotten. Für das Plotten dieser Zustände sollen Sie für die Basisfunktionen die bereits bekannte Ortsraumdarstellung der Basiszustände verwenden:\n",
    "\n",
    "\\begin{equation}\n",
    "\\langle x|n\\rangle = \\phi_n(x) =\\pi^{-\\frac{1}{4}} \\frac{1}{\\sqrt{2^n n!}} H_n(x)\n",
    "e^{-x^2/2}, \\qquad \\text{mit } n=0,1,2,\\ldots,\n",
    "\\end{equation}"
   ]
  },
  {
   "cell_type": "code",
   "execution_count": null,
   "metadata": {
    "scrolled": true
   },
   "outputs": [],
   "source": []
  },
  {
   "cell_type": "markdown",
   "metadata": {},
   "source": [
    "#### d) Entwicklung der Eigenzustände für verschiedene $\\lambda$\n",
    "\n",
    "Im Folgenden möchten wir nun die Entwicklung der Eigenzustände des anharmonischen Oszillators untersuchen. \n",
    "1. Plotten Sie die ersten 3 Eigenzustände des anharmonischen Oszillators für $\\lambda=0.5$ sowie $N=10$ im Vergleich zu den Eigenzuständen des harmonischen Oszillators ($\\lambda=0$).\n",
    "2. Plotten Sie die Entwicklung des 10. Basiszustands für $\\lambda \\in [0, 2]$\n",
    "\n",
    "Welchen Einfluss hat die Anharmonizität $\\lambda^4$ auf die Wellenfunktionen und Energien der Eigenzustände?"
   ]
  },
  {
   "cell_type": "code",
   "execution_count": null,
   "metadata": {},
   "outputs": [],
   "source": []
  },
  {
   "cell_type": "code",
   "execution_count": null,
   "metadata": {},
   "outputs": [],
   "source": []
  }
 ],
 "metadata": {
  "@webio": {
   "lastCommId": null,
   "lastKernelId": null
  },
  "kernelspec": {
   "display_name": "Julia 1.0.0",
   "language": "julia",
   "name": "julia-1.0"
  },
  "language_info": {
   "file_extension": ".jl",
   "mimetype": "application/julia",
   "name": "julia",
   "version": "1.0.0"
  }
 },
 "nbformat": 4,
 "nbformat_minor": 1
}
