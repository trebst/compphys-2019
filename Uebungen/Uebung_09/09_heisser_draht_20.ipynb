{
 "cells": [
  {
   "cell_type": "markdown",
   "metadata": {},
   "source": [
    "<table style=\"width: 100%; border-style: none;\">\n",
    "<tr style=\"border-style: none\">\n",
    "<td style=\"border-style: none; width: 1%; text-align: left; font-size: 16px\">Institut f&uuml;r Theoretische Physik<br /> Universit&auml;t zu K&ouml;ln</td>\n",
    "<td style=\"border-style: none; width: 1%; font-size: 16px\">&nbsp;</td>\n",
    "<td style=\"border-style: none; width: 1%; text-align: right; font-size: 16px\">Prof. Dr. Simon Trebst<br />Jan Attig</td>\n",
    "</tr>\n",
    "</table>\n",
    "<hr>\n",
    "<h1 style=\"font-weight:bold; text-align: center; margin: 0px; padding:0px;\">Computerphysik</h1>\n",
    "<h1 style=\"font-weight:bold; text-align: center; margin: 0px; padding:0px;\">&Uuml;bungsblatt 9</h1>\n",
    "<hr>\n",
    "<h3 style=\"font-weight:bold; text-align: center; margin: 0px; padding:0px; margin-bottom: 20px;\">Sommersemester 2019</h3>\n",
    "\n",
    "**Website:** [http://www.thp.uni-koeln.de/trebst/Lectures/2019-CompPhys.shtml](http://www.thp.uni-koeln.de/trebst/Lectures/2019-CompPhys.shtml)\n",
    "\n",
    "**Abgabe**: Montag, 3.6.2019, **vor** der Vorlesung\n",
    "\n",
    "**Besprechung**: 5.6.2019 - 7.6.2019\n",
    "\n",
    "**Name**: <font color=\"red\">Bitte geben Sie ihren Namen an</font>\n",
    "\n",
    "**Matrikelnummer**: <font color=\"red\">Bitte geben Sie ihre Matrikelnummer an</font>"
   ]
  },
  {
   "cell_type": "markdown",
   "metadata": {},
   "source": [
    "<table style=\"border-style: none; width: 100%\"><tr style=\"border-style: none;\">\n",
    "<td style=\"border-style: none; width: 1%; font-size: 20px; font-weight: bold; text-align: left\">Aufgaben auf Übungsblatt 9</td>\n",
    "<td style=\"border-style: none; width: 1%; font-size: 15px; text-align: right\"></td></tr></table>\n",
    "\n",
    "- **Heißer Draht 2.0** [5 Punkte]\n",
    "- Anharmonischer Oszillator [5 Punkte]\n",
    "- Simulation von Tsunamis [10 Bonus-Punkte]"
   ]
  },
  {
   "cell_type": "markdown",
   "metadata": {
    "collapsed": true
   },
   "source": [
    "<table style=\"border-style: none; width: 100%\"><tr style=\"border-style: none;\">\n",
    "<td style=\"border-style: none; width: 1%; text-align: left; font-size: 20px; font-weight: bold\">Heißer Draht 2.0</td>\n",
    "<td style=\"border-style: none; width: 1%; text-align: right; font-size: 15px\">(5 Punkte)</td></tr></table>\n",
    "\n",
    "\n",
    "\n",
    "Auf einem der vorherigen Übungsblatter haben Sie die **Wärmeleitungsgleichung** als Anfangswertproblem mit der Euler-Methode bearbeitet. Dabei mussten Sie feststellen, dass die Stabilität des Algorithmus stark von der Diskretisierung $dx$ in der räumlichen und $dt$ in der zeitlichen Dimension abhing. \n",
    "\n",
    "Diese Einschränkung wird durch das **Crank-Nicolson-Verfahren** aufgehoben. Wir wollen dies in dieser Aufgabe überprüfen. Die Iterationsschritte des Algorithmus haben Sie in der Vorlesung ausführlich besprochen. Implementieren Sie das Crank-Nicolson-Verfahren für die eindimensionale **Warmeleitungsgleichung**\n",
    "\n",
    "\\begin{equation}\\dfrac{\\partial u}{\\partial t} = \\kappa\\dfrac{\\partial^2}{dx^2} \\end{equation}\n",
    "\n",
    "\n",
    "Orientieren Sie sich an der vorherigen Übungsaufgabe zum heißen Draht (Übungsblatt 6) und implementieren Sie hier an Stelle der Euler Methode das **Crank-Nicolson-Verfahren**. Stellen Sie erneut die Zeitentwicklung des Drahtes mit der anfänglichen Verteilung $u(x, t=0) = \\sin(\\pi x)$ für $t\\in [0,1]$ und $x \\in [0,1]$ dar.\n",
    "\n",
    "Untersuchen Sie danach die Stabilität und zeigen Sie, dass Crank-Nicolson-Verfahren auch für Kombinationen von dx/dt stabil ist, bei denen die Euler-Methode es nicht war."
   ]
  },
  {
   "cell_type": "code",
   "execution_count": null,
   "metadata": {},
   "outputs": [],
   "source": []
  }
 ],
 "metadata": {
  "@webio": {
   "lastCommId": null,
   "lastKernelId": null
  },
  "kernelspec": {
   "display_name": "Julia 1.0.0",
   "language": "julia",
   "name": "julia-1.0"
  },
  "language_info": {
   "file_extension": ".jl",
   "mimetype": "application/julia",
   "name": "julia",
   "version": "1.0.0"
  }
 },
 "nbformat": 4,
 "nbformat_minor": 1
}
