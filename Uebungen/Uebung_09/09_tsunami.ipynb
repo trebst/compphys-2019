{
 "cells": [
  {
   "cell_type": "markdown",
   "metadata": {},
   "source": [
    "<table style=\"width: 100%; border-style: none;\">\n",
    "<tr style=\"border-style: none\">\n",
    "<td style=\"border-style: none; width: 1%; text-align: left; font-size: 16px\">Institut f&uuml;r Theoretische Physik<br /> Universit&auml;t zu K&ouml;ln</td>\n",
    "<td style=\"border-style: none; width: 1%; font-size: 16px\">&nbsp;</td>\n",
    "<td style=\"border-style: none; width: 1%; text-align: right; font-size: 16px\">Prof. Dr. Simon Trebst<br />Jan Attig</td>\n",
    "</tr>\n",
    "</table>\n",
    "<hr>\n",
    "<h1 style=\"font-weight:bold; text-align: center; margin: 0px; padding:0px;\">Computerphysik</h1>\n",
    "<h1 style=\"font-weight:bold; text-align: center; margin: 0px; padding:0px;\">&Uuml;bungsblatt 9</h1>\n",
    "<hr>\n",
    "<h3 style=\"font-weight:bold; text-align: center; margin: 0px; padding:0px; margin-bottom: 20px;\">Sommersemester 2019</h3>\n",
    "\n",
    "**Website:** [http://www.thp.uni-koeln.de/trebst/Lectures/2019-CompPhys.shtml](http://www.thp.uni-koeln.de/trebst/Lectures/2019-CompPhys.shtml)\n",
    "\n",
    "**Abgabe**: Montag, 17.6.2019, **vor** der Vorlesung\n",
    "\n",
    "**Besprechung**: 19.6.2019 - 21.6.2019\n",
    "\n",
    "**Name**: <font color=\"red\">Bitte geben Sie ihren Namen an</font>\n",
    "\n",
    "**Matrikelnummer**: <font color=\"red\">Bitte geben Sie ihre Matrikelnummer an</font>"
   ]
  },
  {
   "cell_type": "markdown",
   "metadata": {},
   "source": [
    "<table style=\"border-style: none; width: 100%\"><tr style=\"border-style: none;\">\n",
    "<td style=\"border-style: none; width: 1%; font-size: 20px; font-weight: bold; text-align: left\">Aufgaben auf Übungsblatt 9</td>\n",
    "<td style=\"border-style: none; width: 1%; font-size: 15px; text-align: right\"></td></tr></table>\n",
    "\n",
    "- Heißer Draht 2.0 [5 Punkte]\n",
    "- Anharmonischer Oszillator [5 Punkte]\n",
    "- **Simulation von Tsunamis** [10 Bonus-Punkte]"
   ]
  },
  {
   "cell_type": "markdown",
   "metadata": {},
   "source": [
    "<table style=\"border-style: none; width: 100%\"><tr style=\"border-style: none;\">\n",
    "<td style=\"border-style: none; width: 1%; text-align: left; font-size: 20px; font-weight: bold\">Simulation von Tsunamis</td>\n",
    "<td style=\"border-style: none; width: 1%; text-align: right; font-size: 15px\">(10 Bonus-Punkte)</td></tr></table>\n",
    "\n",
    "\n",
    "\n",
    "Wir wollen in dieser Aufgabe die Entstehung von **Tsunamis** simulieren. Diese Wasserwellen entstehen durch Seebeben und breiten sich sehr schnell aus, bevor sie in flachen Küstengebieten an Höhe gewinnen was zu teils katastrophalen Folgen führen kann.\n",
    "\n",
    "Ihre theoretisches Beschreibung geht auf eine der bedeutendsten Gleichungen  der Hydrodynamik zurück, die **Navier-Stokes-Gleichung**\n",
    "\n",
    "\\begin{eqnarray*}\n",
    "\\rho \\left(\\frac{\\partial  \\mathbf{v}}{\\partial t} + \\mathbf{v} \\cdot \\nabla \\mathbf{v}\\right) = -\\nabla p + \\mu \\nabla^2 \\mathbf{v} + \\left(\\zeta + \\frac{\\mu}{3}\\right) \\nabla (\\nabla \\cdot \\mathbf{v}) + \\mathbf{f} \\,,\n",
    "\\end{eqnarray*}\n",
    "\n",
    "wobei die zentrale Variable die Geschwindigkeit eines fluiden Mediums $\\mathbf{v}$ ist. Die weiteren auftretenden Konstanten sind die Dichte $\\rho$, der Druck $p$, die (Gravitations-)Kraft $f$, sowie die Volumensviskosität $\\zeta$ und die Scherviskosität $\\mu$. \n",
    "\n",
    "Ausgehend von dieser Gleichung kann man unter der Verwendung einiger Annahmen, beispielsweise der Inkompressibilität von Wasser ($\\frac{\\partial \\rho}{\\partial t} = \\nabla \\rho = 0$), die Gleichungen für ein reduziertes Problem umschreiben. Dazu betrachtet man entlang einer Koordinate $x$ die Höhe einer Wassersäule $\\eta(x)$, die auf einem Bodenprofil der Höhe $b(x)$ ruht und sich somit in eine Höhe $h(x) = \\eta(x) + b(x)$ auftürmt. Die Dynamik der Wassersäule und ihrer Änderung, der Flussgeschwindigkeit $u(x)$, wird durch zwei sogenannte **Seichtwassergleichungen** beschrieben\n",
    "\n",
    "\\begin{eqnarray*}\n",
    "\\frac{\\partial \\eta(t,x)}{\\partial t} + \\frac{\\partial}{\\partial x} (\\eta(t,x) u(t,x)) = 0 \\,, \\\\\n",
    "\\frac{\\partial u(t,x)}{\\partial t} + \\frac12 \\frac{\\partial }{\\partial x}u(t,x)^2 + g\\frac{\\partial (\\eta(t,x) + b(x))}{\\partial x} = 0 \\,.\n",
    "\\end{eqnarray*}\n",
    "\n",
    "Dabei sei $g=9.81 m/s^2$ die Erdbeschleunigung. Für unsere Simulation wollen wir im Folgenden ein Bodenprofil $b(x)$ als Ozeanboden vorgeben und die Dynamik des Ozeans über diesem Boden betrachten. \n",
    "\n",
    "Zur Integration der Seichtwassergleichungen sollen Sie als Algorithmus die **Leap-Frog Methode** benutzen. Diese verwendet die Ableitungen sowohl im Ort als auch in der Zeit **zentriert**. Für eine partielle Differentialgleichung der Form \n",
    "\n",
    "\\begin{eqnarray*}\n",
    " \\frac{\\partial}{\\partial t} a = - \\frac{\\partial F(a)}{\\partial x}\n",
    "\\end{eqnarray*}\n",
    "\n",
    "lautet die Iterationsgleichung\n",
    "\n",
    "\\begin{eqnarray*}\n",
    " a^{(n+1)}_i = a^{(n-1)}_i - \\frac{\\tau}{h_x} \\left (F(a^{(n)}_{i+1})-F(a^{(n)}_{i-1})\\right ) \\,.\n",
    "\\end{eqnarray*}\n",
    "\n",
    "Um die Seichtwassergleichungen mit dieser Methode zu integrieren müssen Sie also nur noch eine geeignete Funktion $F(\\eta,u)$ finden\n",
    "\n",
    "\n",
    "\n",
    "#### Aufgaben\n",
    "\n",
    "1. Beginnen Sie, indem Sie zur Lösung der Seichtwassergleichungen die Leap-Frog Methode implementieren. Finden Sie dafür geignete Funktionen $F$ und implementieren Sie die Lösung in Julia.\n",
    "\n",
    "2. Als nächstes benötigen Sie ein Bodenprofil für den Ozean. Überlegen Sie sich eine Funktion Ihrer Wahl und begründen Sie diese. Beachten Sie: Ihre Funktion sollte die üblichen Kriterien des Ozeans erfüllen, d.h. er sollte ca. 3-4 km tief und ca. 10.000 km breit sein. An den Rändern ist es wichtig, dass Ihre Funktion glatt in einen seichten Strandbereich der Tiefe 10-50m übergeht.\n",
    "\n",
    "3. Die meisten Tsunamis werden von Seebeben ausgelöst. Diese können Sie in den Gleichungen einfach simulieren, indem Sie ein *zeitabhängiges* Bodenprofil $b(x,t)$ vorgeben. Beschreiben Sie die Implementation Ihres Bebens und plotten Sie die Entwicklung des Ozeans in einer Funktion. Beschreiben Sie die sichtbaren Effekte."
   ]
  },
  {
   "cell_type": "code",
   "execution_count": null,
   "metadata": {},
   "outputs": [],
   "source": []
  }
 ],
 "metadata": {
  "@webio": {
   "lastCommId": null,
   "lastKernelId": null
  },
  "kernelspec": {
   "display_name": "Julia 1.0.0",
   "language": "julia",
   "name": "julia-1.0"
  },
  "language_info": {
   "file_extension": ".jl",
   "mimetype": "application/julia",
   "name": "julia",
   "version": "1.0.0"
  }
 },
 "nbformat": 4,
 "nbformat_minor": 2
}
