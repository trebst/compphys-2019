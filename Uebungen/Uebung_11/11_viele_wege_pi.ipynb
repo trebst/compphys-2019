{
 "cells": [
  {
   "cell_type": "markdown",
   "metadata": {},
   "source": [
    "<table style=\"width: 100%; border-style: none;\">\n",
    "<tr style=\"border-style: none\">\n",
    "<td style=\"border-style: none; width: 1%; text-align: left; font-size: 16px\">Institut f&uuml;r Theoretische Physik<br /> Universit&auml;t zu K&ouml;ln</td>\n",
    "<td style=\"border-style: none; width: 1%; font-size: 16px\">&nbsp;</td>\n",
    "<td style=\"border-style: none; width: 1%; text-align: right; font-size: 16px\">Prof. Dr. Simon Trebst<br />Jan Attig</td>\n",
    "</tr>\n",
    "</table>\n",
    "<hr>\n",
    "<h1 style=\"font-weight:bold; text-align: center; margin: 0px; padding:0px;\">Computerphysik</h1>\n",
    "<h1 style=\"font-weight:bold; text-align: center; margin: 0px; padding:0px;\">&Uuml;bungsblatt 11</h1>\n",
    "<hr>\n",
    "<h3 style=\"font-weight:bold; text-align: center; margin: 0px; padding:0px; margin-bottom: 20px;\">Sommersemester 2019</h3>\n",
    "\n",
    "**Website:** [http://www.thp.uni-koeln.de/trebst/Lectures/2019-CompPhys.shtml](http://www.thp.uni-koeln.de/trebst/Lectures/2019-CompPhys.shtml)\n",
    "\n",
    "**Abgabe**: Montag, 24.6.2019, **vor** der Vorlesung\n",
    "\n",
    "**Besprechung**: 26.6.2019 - 28.6.2019\n",
    "\n",
    "**Name**: <font color=\"red\">Bitte geben Sie ihren Namen an</font>\n",
    "\n",
    "**Matrikelnummer**: <font color=\"red\">Bitte geben Sie ihre Matrikelnummer an</font>"
   ]
  },
  {
   "cell_type": "markdown",
   "metadata": {},
   "source": [
    "<table style=\"border-style: none; width: 100%\"><tr style=\"border-style: none;\">\n",
    "<td style=\"border-style: none; width: 1%; text-align: left; font-size: 20px; font-weight: bold\">Aufgaben auf Übungsblatt 11</td>\n",
    "<td style=\"border-style: none; width: 1%; text-align: right; font-size: 15px\"></td></tr></table>\n",
    "\n",
    "- **Viele Wege führen nach Pi** [5 Punkte]\n",
    "- Dendriten Wachstum [5 Punkte]\n",
    "- Generierung von Landschaften [10 Bonus-Punkte]"
   ]
  },
  {
   "cell_type": "markdown",
   "metadata": {},
   "source": [
    "<table style=\"border-style: none; width: 100%\"><tr style=\"border-style: none;\">\n",
    "<td style=\"border-style: none; width: 1%; text-align: left; font-size: 20px; font-weight: bold\">Viele Wege führen nach Pi</td>\n",
    "<td style=\"border-style: none; width: 1%; text-align: right; font-size: 15px\">(5 Punkte)</td></tr></table>\n",
    "\n",
    "Die **Zahl ${\\pi}$** fasziniert die Menschen seit geraumer Zeit. Ihre anschaulichste Bedeutung ist wohl, dass sie das Verhältnis des Flächeninhalts eines Quadrats zu dem eines Kreises mit gleichem Durchmesser wie die Seitenlänge des Quadrats angibt. Analytisch berechnen lässt Sie sich auf verschiedenen Wegen im Prinzip beliebig genau.\n",
    "\n",
    "Wir wollen in dieser Aufgabe zwei Methoden kennenlernen, mit denen Sie $\\pi$ auch dann berechnen könnten, wenn Sie einmal auf einer einsamen Insel stranden, alles über $\\pi$ vergessen, aber unbedingt den Flächeninhalt eines Kreises berechnen müssen.\n",
    "\n",
    "In den Sand zeichnen Sie ein Quadrat und darin einen Kreis. Sie werfen nun **Kieselsteine** in das Quadrat und schauen, wie oft Sie in den Kreis treffen (und wie oft nicht). Angenommen Sie könnten so werfen, dass Sie jeden Ort im Quadrat mit gleicher Wahrscheinlichkeit treffen, so ist es leicht nachzuvollziehen, dass das Verhältnis aus Kieseln im Kreis zu den insgesamt Geworfen proportional zu $\\pi$ ist. Berechnen Sie $\\pi$ auf diesem Weg."
   ]
  },
  {
   "cell_type": "code",
   "execution_count": null,
   "metadata": {},
   "outputs": [],
   "source": []
  },
  {
   "cell_type": "markdown",
   "metadata": {},
   "source": [
    "Für die zweite Methode benötigen Sie keine Kiesel, sondern **Stöcke**. Dieses Experiment geht zurück auf Georges Louis Leclerc, Graf von Buffon. Sie stutzen einen Stock auf die Länge $a$ und zeichnen zwei Linien im Abstand $b$ voneinander in den Sand. Nun werfen Sie den Stock mehrere Male auf dieses Muster und zähle wie oft er auf einer Linie liegt. Leclerc hat dieses Verhältnis zu $2a / (\\pi b)$ bestimmt. Schreiben Sie auch für dieses Problem ein Programm. Am einfachsten ist es, wenn Sie $a$ und $b$ gleich 1 setzen."
   ]
  },
  {
   "cell_type": "code",
   "execution_count": null,
   "metadata": {},
   "outputs": [],
   "source": []
  },
  {
   "cell_type": "markdown",
   "metadata": {},
   "source": [
    "Testen Sie bei beiden Methoden, wie sich der **Fehler** mit der Anzahl an geworfenen Stöcken / Kieseln verhält. Plotten Sie dafür die mittlere absolute Abweichung Ihres Sampling von $\\pi$ gegen die Anzahl der geworfenen Elemente in einem doppelt logarithmischen Plot und erklären Sie den Kurvenverlauf mit Ihrem Wissen aus der Vorlesung!"
   ]
  },
  {
   "cell_type": "code",
   "execution_count": null,
   "metadata": {},
   "outputs": [],
   "source": []
  }
 ],
 "metadata": {
  "kernelspec": {
   "display_name": "Julia 1.0.1",
   "language": "julia",
   "name": "julia-1.0"
  },
  "language_info": {
   "file_extension": ".jl",
   "mimetype": "application/julia",
   "name": "julia",
   "version": "1.0.1"
  }
 },
 "nbformat": 4,
 "nbformat_minor": 1
}
