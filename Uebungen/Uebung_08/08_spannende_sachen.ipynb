{
 "cells": [
  {
   "cell_type": "markdown",
   "metadata": {},
   "source": [
    "<table style=\"width: 100%; border-style: none;\">\n",
    "<tr style=\"border-style: none\">\n",
    "<td style=\"border-style: none; width: 1%; text-align: left; font-size: 16px\">Institut f&uuml;r Theoretische Physik<br /> Universit&auml;t zu K&ouml;ln</td>\n",
    "<td style=\"border-style: none; width: 1%; font-size: 16px\">&nbsp;</td>\n",
    "<td style=\"border-style: none; width: 1%; text-align: right; font-size: 16px\">Prof. Dr. Simon Trebst<br />Jan Attig</td>\n",
    "</tr>\n",
    "</table>\n",
    "<hr>\n",
    "<h1 style=\"font-weight:bold; text-align: center; margin: 0px; padding:0px;\">Computerphysik</h1>\n",
    "<h1 style=\"font-weight:bold; text-align: center; margin: 0px; padding:0px;\">&Uuml;bungsblatt 8</h1>\n",
    "<hr>\n",
    "<h3 style=\"font-weight:bold; text-align: center; margin: 0px; padding:0px; margin-bottom: 20px;\">Sommersemester 2019</h3>\n",
    "\n",
    "**Website:** [http://www.thp.uni-koeln.de/trebst/Lectures/2019-CompPhys.shtml](http://www.thp.uni-koeln.de/trebst/Lectures/2019-CompPhys.shtml)\n",
    "\n",
    "**Abgabe**: Montag, 27.5.2019, **vor** der Vorlesung\n",
    "\n",
    "**Besprechung**: 29.5.2019 - 31.5.2019\n",
    "\n",
    "**Name**: <font color=\"red\">Bitte geben Sie ihren Namen an</font>\n",
    "\n",
    "**Matrikelnummer**: <font color=\"red\">Bitte geben Sie ihre Matrikelnummer an</font>"
   ]
  },
  {
   "cell_type": "markdown",
   "metadata": {},
   "source": [
    "<table style=\"border-style: none; width: 100%\"><tr style=\"border-style: none;\">\n",
    "<td style=\"border-style: none; width: 1%; font-size: 20px; font-weight: bold; text-align: left\">Aufgaben auf Übungsblatt 8</td>\n",
    "<td style=\"border-style: none; width: 1%; font-size: 15px; text-align: right\"></td></tr></table>\n",
    "\n",
    "- **Spannende Sachen** [5 Punkte]\n",
    "- Pendeln in der Quantenwelt [5 Punkte]\n",
    "- Hofstadter Butterfly [5 Bonus-Punkte]"
   ]
  },
  {
   "cell_type": "markdown",
   "metadata": {},
   "source": [
    "<table style=\"border-style: none; width: 100%\"><tr style=\"border-style: none;\">\n",
    "<td style=\"border-style: none; width: 1%; text-align: left; font-size: 20px; font-weight: bold\">Spannende Sachen</td>\n",
    "<td style=\"border-style: none; width: 1%; text-align: right; font-size: 15px\">(5 Punkte)</td></tr></table>\n",
    "\n",
    "\n",
    "\n",
    "Die **Relaxationsmethode** eignet sich nicht nur für die Lösung von partiellen Differentialgleichungen sondern auch, um Systeme, die nach der **Minimierung** einer Variablen streben, zu simulieren. In der analytischen Mechanik haben wir dies etwa im Prinzip der kleinsten Wirkung kennengelernt, wo es darum ging, ein (geeignetes) Wirkungsfunktional zu minimieren. \n",
    "\n",
    "In dieser Aufgabe wollen wir ähnliches untersuchen und eine **minimale Oberfläche** mit festem, gegebenen Randprofil berechnen. Für eine Fläche $A(x,y) \\equiv A_{i,j}$, welche als Funktion von zwei-dimensionalen kartesischen Koordinaten beschrieben werden kann, gestaltet sich dies besonders einfach - es genügt, ein Relxationsverfahren zu implementieren, welches in jedem Relaxationsschritt für alle Punkte deren Höhendifferenz zu seinen Nachbarn zu verringert. Dazu bildet man schlicht das arithmetische Mittel der Nachbarn\n",
    "\n",
    "\\begin{equation}\n",
    "A^{(n+1)}_{i,j} = \\frac{1}{4} \\left( A^{(n)}_{i-1,j}+A^{(n)}_{i+1,j}+A^{(n)}_{i,j-1}+A^{(n)}_{i,j+1} \\right) \n",
    "\\end{equation}\n",
    "\n",
    "Diese Verfahren lässt sich auf die Methode des **Überrelaxierens** erweitern, in dem man einen Parameter $\\omega$ einführt, der die Änderungen zum letzten Iterationsschritt gewichtet (für $\\omega = 1$ ergibt sich das bereits diskutierte Relaxationsverfahren).\n",
    "\n",
    "\\begin{equation}\n",
    "A^{(n+1)}_{i,j} = (1-\\omega) A^{(n)}_{i,j} + \\omega \\frac14 \\left( A^{(n)}_{i-1,j}+A^{(n)}_{i+1,j}+A^{(n)}_{i,j-1}+A^{(n)}_{i,j+1} \\right) \n",
    "\\end{equation}"
   ]
  },
  {
   "cell_type": "markdown",
   "metadata": {},
   "source": [
    "### Teil A\n",
    "\n",
    "Der **Kölner Hauptbahnhof** soll im Jahr 2034 zu einem Kreuzungsbahnhof umgebaut werden. Das Gebäude soll einen quadratischen Grundriss haben und benötigt an allen vier Seiten eine Gleiszufahrt. Das Dach des Gebäudes soll an jeder Seite mittig ein Kosinus-förmiges Profil erhalten, was die Zufahrt ermöglicht, rechts und links davon aber genau mit der waagerechten Seitenmauer abschließen. Der Architekt bittet Sie nun, ein Profil des Daches zu berechnen, was die Oberfläche unter den gegebenen Bedingungen auf dem Rand minimiert.\n",
    "\n",
    "\n",
    "##### a) Implementierung in Julia\n",
    "\n",
    "Implementieren Sie das Relaxationsverfahren für ein wählbares $\\omega$ sowie allgemeine Randbedingungen als Julia-Funktion. Beschreiben Sie inwiefern man in Ihrem Code die Randbedingungen übergeben und wählen kann. Im Folgenden werden Sie ihr selbst implementiertes Verfahren benutzen um die Spanndächer verschiedener Bauwerke zu berechnen."
   ]
  },
  {
   "cell_type": "code",
   "execution_count": null,
   "metadata": {},
   "outputs": [],
   "source": []
  },
  {
   "cell_type": "markdown",
   "metadata": {},
   "source": [
    "##### b) Dach des Hauptbahnhofes\n",
    "\n",
    "Nehmen Sie sich dem neuen Plan des Kölner Hauptbahnhofs an. Planen Sie einen 40m $\\times$ 40m großen Grundriss des Daches und legen Sie für die Gesamtbreite der Kosinus-Bögen 20m, sowie als Höhe 8m fest. Verwenden Sie die Relaxationsmethode, um das Dach zu berechnen und stellen Sie es in einem 3D-Plot mittels der PyPlot Funktion `surface` dar. "
   ]
  },
  {
   "cell_type": "code",
   "execution_count": null,
   "metadata": {},
   "outputs": [],
   "source": []
  },
  {
   "cell_type": "markdown",
   "metadata": {},
   "source": [
    "##### c) Konvergenz der Relaxation\n",
    "\n",
    "Untersuchen Sie inwiefern Ihre Relaxation über verschiedene Iterationsschritte in Abhängigkeit von $\\omega$ konvergiert. Dazu sollen Sie die Summe der Abweichungen von der letzten zur aktuellen Konfiguration betrachten und gegen die Iteration für drei representative Werte von $\\omega$ auftragen\n",
    "\n",
    "\\begin{equation}\n",
    " \\delta A^{(n)} = \\sum_i \\sum_j |A^{(n)}_{i,j}-A^{(n-1)}_{i,j}|\n",
    "\\end{equation}\n",
    "\n",
    "Beurteilen Sie wie die Wahl von $\\omega$ die Konvergenz des Algorithmus beinflusst."
   ]
  },
  {
   "cell_type": "code",
   "execution_count": null,
   "metadata": {},
   "outputs": [],
   "source": []
  },
  {
   "cell_type": "markdown",
   "metadata": {},
   "source": [
    "### Teil B\n",
    "\n",
    "Wenden Sie sich nun dem [**Münchener Olympia-Stadion**](https://de.wikipedia.org/wiki/Olympiastadion_M%C3%BCnchen) zu: Nehmen Sie dazu eine rechteckige Grundfläche von 100m $\\times$ 200m an und entwerfen Sie geeignete Randbedingungen für Ihre Relaxation, die die Dachkonstruktion des Stadions (vereinfacht) darstellen. Sie können wie in der vorherigen Aufgabe trigonometrische Funktionen für den Rand des Daches verwenden, oder Pfeiler einer fixen Höhe in der Mitte des Daches. Stellen Sie die relaxierte Dachkonstruktion in einem 3D Plot dar.\n",
    "\n",
    "*Hinweis*: In dieser Aufgabe gibt es keine *richtigen* Randbedingungen, es ist viel mehr Ihre Aufgabe sich Funktionen zu überlegen, die den Bildern des Münchener Stadions nahe kommen und selber kreativ zu werden."
   ]
  },
  {
   "cell_type": "code",
   "execution_count": null,
   "metadata": {},
   "outputs": [],
   "source": []
  }
 ],
 "metadata": {
  "kernelspec": {
   "display_name": "Julia 1.0.1",
   "language": "julia",
   "name": "julia-1.0"
  },
  "language_info": {
   "file_extension": ".jl",
   "mimetype": "application/julia",
   "name": "julia",
   "version": "1.0.1"
  }
 },
 "nbformat": 4,
 "nbformat_minor": 1
}
