{
 "cells": [
  {
   "cell_type": "markdown",
   "metadata": {},
   "source": [
    "<table style=\"width: 100%; border-style: none;\">\n",
    "<tr style=\"border-style: none\">\n",
    "<td style=\"border-style: none; width: 1%; text-align: left; font-size: 16px\">Institut f&uuml;r Theoretische Physik<br /> Universit&auml;t zu K&ouml;ln</td>\n",
    "<td style=\"border-style: none; width: 1%; font-size: 16px\">&nbsp;</td>\n",
    "<td style=\"border-style: none; width: 1%; text-align: right; font-size: 16px\">Prof. Dr. Simon Trebst<br />Jan Attig</td>\n",
    "</tr>\n",
    "</table>\n",
    "<hr>\n",
    "<h1 style=\"font-weight:bold; text-align: center; margin: 0px; padding:0px;\">Computerphysik</h1>\n",
    "<h1 style=\"font-weight:bold; text-align: center; margin: 0px; padding:0px;\">&Uuml;bungsblatt 12</h1>\n",
    "<hr>\n",
    "<h3 style=\"font-weight:bold; text-align: center; margin: 0px; padding:0px; margin-bottom: 20px;\">Sommersemester 2019</h3>\n",
    "\n",
    "**Website:** [http://www.thp.uni-koeln.de/trebst/Lectures/2019-CompPhys.shtml](http://www.thp.uni-koeln.de/trebst/Lectures/2019-CompPhys.shtml)\n",
    "\n",
    "**Abgabe**: Montag, 1.7.2019, **vor** der Vorlesung\n",
    "\n",
    "**Besprechung**: 3.7.2019 - 5.7.2019\n",
    "\n",
    "**Name**: <font color=\"red\">Bitte geben Sie ihren Namen an</font>\n",
    "\n",
    "**Matrikelnummer**: <font color=\"red\">Bitte geben Sie ihre Matrikelnummer an</font>"
   ]
  },
  {
   "cell_type": "markdown",
   "metadata": {},
   "source": [
    "<table style=\"border-style: none; width: 100%\"><tr style=\"border-style: none;\">\n",
    "<td style=\"border-style: none; width: 1%; text-align: left; font-size: 20px; font-weight: bold\">Aufgaben auf Übungsblatt 12</td>\n",
    "<td style=\"border-style: none; width: 1%; text-align: right; font-size: 15px\"></td></tr></table>\n",
    "\n",
    "- Integration auf Irrwegen [4 Punkte]\n",
    "- Integration mit gezinkten Würfeln [4 Punkte]\n",
    "- **Integration auf der Kugel** [2 Punkte]\n",
    "- Die Dynamik von Meinungen [10 Bonus-Punkte]"
   ]
  },
  {
   "cell_type": "markdown",
   "metadata": {},
   "source": [
    "<table style=\"border-style: none; width: 100%\"><tr style=\"border-style: none;\">\n",
    "<td style=\"border-style: none; width: 1%; text-align: left; font-size: 20px; font-weight: bold\">Integration auf der Kugel</td>\n",
    "<td style=\"border-style: none; width: 1%; text-align: right; font-size: 15px\">(2 Punkte)</td></tr></table>\n",
    "\n",
    "\n",
    "Bei den verschiedenen Arten von Monte Carlo Integration, die Sie bisher kennen gelernt haben, war der Ausgangspunkt jeweils eine Menge an Zufallszahlen, die aus einer Verteilung gezogen wurden. Dabei haben Sie bisher verschiedene Möglichkeiten kennengelernt, aus einer Gleichverteilung von Zufallszahlen eine andere Verteilung zu erzeugen, z.b. mittels des Metropolis Algorithmus, oder mittels Rejection Sampling.\n",
    "\n",
    "In dieser Aufgabe wollen wir uns mit dem Ziehen von gleichverteilten Koordinaten $(x,y,z)$ auf der Oberfläche der Einheitsspähre beschäftigen. Wir werden Ihnen zwei verschiedene Verfahren vorstellen und Sie sollen mit dem Wissen aus der Vorlesung beurteilen, welches Verfahren unkorrelierte und gleichverteilte Zufallspunkte auf der Kugeloberfläche erzeugt.\n",
    "\n",
    "#### Verfahren 1\n",
    "\n",
    "Im ersten Verfahren wollen wir die Beschreibung des Punktes auf der Oberfläche durch Kugelkoordinaten verwenden:\n",
    "\n",
    "\\begin{align*}\n",
    "    x &= \\sin(\\theta) \\cos(\\phi) \\\\\n",
    "    x &= \\sin(\\theta) \\sin(\\phi) \\\\\n",
    "    z &= \\cos(\\theta)\n",
    "\\end{align*}\n",
    "\n",
    "Wir samplen dafür die Kugelwinkel $\\theta \\in [-\\pi/2,\\pi/2]$ und $\\phi \\in [0,2\\pi]$ gleichverteilt und berechnen daraus die Koordinaten $(x,y,z)$.\n",
    "\n",
    "\n",
    "#### Verfahren 2\n",
    "\n",
    "Im zweiten Verfahren wollen wir die Beschreibung des Punktes in einer Mischung aus Kugelkoordinaten und kartesischen Koordinaten beschreiben:\n",
    "\n",
    "\\begin{align*}\n",
    "    x &= \\sqrt{1 - z^2} \\cos(\\phi) \\\\\n",
    "    x &= \\sqrt{1 - z^2} \\sin(\\phi) \\\\\n",
    "    z &= z\n",
    "\\end{align*}\n",
    "\n",
    "Wir samplen dafür die Höhe $z \\in [-1,1]$ gleichverteilt und berechnen daraus den Radius in der $xy$ Ebene. Dazu samplen wir noch den Winkel $\\phi \\in [0,2\\pi]$ gleichverteilt und berechnen daraus die Koordinaten $(x,y,z)$.\n",
    "\n",
    "\n",
    "#### Aufgabenstellung\n",
    "\n",
    "Implementieren Sie beide Verfahren und generieren Sie jeweils 2000 Punkte auf der Kugeloberfläche pro Verfahren. Beurteilen Sie dann mit den Mitteln, die Sie in der Vorlesung kennengelernt haben, welches Verfahren geeigneter ist, **gleichverteilte** Punkte auf der Kugeloberfläche zu samplen."
   ]
  },
  {
   "cell_type": "code",
   "execution_count": null,
   "metadata": {},
   "outputs": [],
   "source": []
  }
 ],
 "metadata": {
  "@webio": {
   "lastCommId": null,
   "lastKernelId": null
  },
  "kernelspec": {
   "display_name": "Julia 1.0.0",
   "language": "julia",
   "name": "julia-1.0"
  },
  "language_info": {
   "file_extension": ".jl",
   "mimetype": "application/julia",
   "name": "julia",
   "version": "1.0.0"
  }
 },
 "nbformat": 4,
 "nbformat_minor": 2
}
