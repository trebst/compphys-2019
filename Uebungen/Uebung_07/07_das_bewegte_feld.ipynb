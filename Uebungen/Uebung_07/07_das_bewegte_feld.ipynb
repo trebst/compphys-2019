{
 "cells": [
  {
   "cell_type": "markdown",
   "metadata": {},
   "source": [
    "<table style=\"width: 100%; border-style: none;\">\n",
    "<tr style=\"border-style: none\">\n",
    "<td style=\"border-style: none; width: 1%; text-align: left; font-size: 16px\">Institut f&uuml;r Theoretische Physik<br /> Universit&auml;t zu K&ouml;ln</td>\n",
    "<td style=\"border-style: none; width: 1%; font-size: 16px\">&nbsp;</td>\n",
    "<td style=\"border-style: none; width: 1%; text-align: right; font-size: 16px\">Prof. Dr. Simon Trebst<br />Jan Attig</td>\n",
    "</tr>\n",
    "</table>\n",
    "<hr>\n",
    "<h1 style=\"font-weight:bold; text-align: center; margin: 0px; padding:0px;\">Computerphysik</h1>\n",
    "<h1 style=\"font-weight:bold; text-align: center; margin: 0px; padding:0px;\">&Uuml;bungsblatt 7</h1>\n",
    "<hr>\n",
    "<h3 style=\"font-weight:bold; text-align: center; margin: 0px; padding:0px; margin-bottom: 20px;\">Sommersemester 2019</h3>\n",
    "\n",
    "**Website:** [http://www.thp.uni-koeln.de/trebst/Lectures/2019-CompPhys.shtml](http://www.thp.uni-koeln.de/trebst/Lectures/2019-CompPhys.shtml)\n",
    "\n",
    "**Abgabe**: Montag, 27.5.2019, **vor** der Vorlesung\n",
    "\n",
    "**Besprechung**: 29.5.2019 - 31.5.2019\n",
    "\n",
    "**Name**: <font color=\"red\">Bitte geben Sie ihren Namen an</font>\n",
    "\n",
    "**Matrikelnummer**: <font color=\"red\">Bitte geben Sie ihre Matrikelnummer an</font>"
   ]
  },
  {
   "cell_type": "markdown",
   "metadata": {},
   "source": [
    "<table style=\"border-style: none; width: 100%\"><tr style=\"border-style: none;\">\n",
    "<td style=\"border-style: none; width: 1%; font-size: 20px; font-weight: bold; text-align: left\">Aufgaben auf Übungsblatt 7</td>\n",
    "<td style=\"border-style: none; width: 1%; font-size: 15px; text-align: right\"></td></tr></table>\n",
    "\n",
    "- Relaxen im Plattenkondensator [5 Punkte]\n",
    "- Allerlei aus dem Potentialtopf [5 Punkte]\n",
    "- **Das bewegte Feld** [10 Bonus-Punkte]"
   ]
  },
  {
   "cell_type": "markdown",
   "metadata": {},
   "source": [
    "<table style=\"border-style: none; width: 100%\"><tr style=\"border-style: none;\">\n",
    "<td style=\"border-style: none; width: 1%; text-align: left; font-size: 20px; font-weight: bold\">Das bewegte Feld</td>\n",
    "<td style=\"border-style: none; width: 1%; text-align: right; font-size: 15px\">(10 Bonuspunkte)</td></tr></table>\n",
    "\n",
    "\n",
    "\n",
    "Die **Maxwell-Gleichungen** sind die grundlegenden Gleichungen der Elektrodynamik denen Sie bereits in der Experimentalphysik II begegnet sein werden. Eine exakte Lösung ist oftmals schwierig zu ermitteln und nur in Spezialfällen analytisch möglich. Deshalb bedienen wir uns numerischer Methoden, etwa der in der Praxis sehr erfolgreich eingesetzten **Yee-Vischen Methode**, die in der Vorlesung kurz skizziert wurde. Als eine der Standardmethoden wird sie in kommerziellen Softwarepaketen zur Simulation von verschiedenen Versuchsanordnungen umgesetzt, etwa um kompakte Antennen zu bauen. Das Ziel dieser Aufgabe ist es, die **Feldverteilung einer Dipolantenne** zeitaufgelöst zu bestimmen.\n",
    "\n",
    "Zunächst aber wollen wir noch einmal die wesentlichen Schritte des Yee-Vischen Verfahrens zusammentragen. Grundlage ist die von Yee eingeführte spezielle Art des Diskretisierung der Felder, die in  der folgenden Abbilung dargestellt ist:\n",
    "<img src=\"http://www.thp.uni-koeln.de/trebst/Lectures/CompPhys-2016/07_yee_cell.png\" width=\"500\"/>\n",
    "\n",
    "Der Yee-Vischen-Algorithmus ist eine **Halbschrittmethode**. Konkret bedeutet dies für die Maxwell-Gleichungen, dass das elektrische Feld mit den Informationen vom Zeitpunkt $t$ am Zeitpunkt $t + \\frac{\\Delta t}{2}$ berechnet wird und darauf basierend dann das magnetische Feld zum Zeitpunkt $t + \\Delta t$.\n",
    "\n",
    "Speziell gilt:\n",
    "\n",
    "\\begin{align}\n",
    "E_x (i, j, k, t + \\frac{\\Delta t}{2}) &= C_{E, 1} E_x (i, j, k, t - \\frac{\\Delta t}{2})\\\\\n",
    " &+ C_{E, 2} \\left( \\dfrac{B_z (i, j+1, k, t) - B_z(i, j, k, t)}{\\Delta h} - \\dfrac{B_y(i, j, k+1, t) - B_y(i, j, k, t)}{\\Delta h}\\right)\\\\\n",
    "E_y (i, j, k, t + \\frac{\\Delta t}{2}) &= C_{E, 1} E_y (i, j, k, t - \\frac{\\Delta t}{2})\\\\\n",
    " &+ C_{E, 2} \\left( \\dfrac{B_x (i, j, k+1, t) - B_x(i, j, k, t)}{\\Delta h} - \\dfrac{B_z(i + 1, j, k, t) - B_z(i, j, k, t)}{\\Delta h}\\right)\\\\\n",
    "E_z (i, j, k, t + \\frac{\\Delta t}{2}) &= C_{E, 1} E_z (i, j, k, t - \\frac{\\Delta t}{2})\\\\\n",
    " &+ C_{E, 2} \\left( \\dfrac{B_y (i+1, j, k, t) - B_x(i, j, k, t)}{\\Delta h} - \\dfrac{B_x(i, j + 1, k, t) - B_x(i, j, k, t)}{\\Delta h}\\right)\\\\\n",
    "B_x (i, j, k, t + \\Delta t) &= C_{B, 1} B_x (i, j, k, t)\\\\\n",
    " &+ C_{B, 2} \\left( \\dfrac{E_y (i, j, k+1, t) - E_y(i, j, k, t)}{\\Delta h} - \\dfrac{E_z(i, j+1, k, t) - E_z(i, j, k, t)}{\\Delta h}\\right)\\\\\n",
    "B_y (i, j, k, t + \\Delta t) &= C_{B, 1} B_y (i, j, k, t)\\\\\n",
    " &+ C_{B, 2} \\left( \\dfrac{E_z (i+1, j, k, t) - E_z(i, j, k, t)}{\\Delta h} - \\dfrac{E_x(i, j, k+1, t) - E_x(i, j, k, t)}{\\Delta h}\\right)\\\\\n",
    "B_z (i, j, k, t + \\Delta t) &= C_{B, 1} B_z (i, j, k, t)\\\\\n",
    " &+ C_{B, 2} \\left( \\dfrac{E_x (i, j+1, k, t) - E_x(i, j, k, t)}{\\Delta h} - \\dfrac{E_y(i + 1, j, k, t) - E_y(i, j, k, t)}{\\Delta h}\\right)\n",
    "\\end{align}\n",
    "\n",
    "\n",
    "Die Diskretisierung in Raum und Zeit ist dabei angegeben durch $\\Delta h$ bzw. $\\Delta t$. Noch zu klären ist die genaue Form der Vorfaktoren $C_{(E, B), (1, 2)}$. Diese setzen sich aus der elektrischen und magnetischen Permeabilität $\\varepsilon$ und $\\mu$, sowie zwei Verlusttermen, $\\sigma_E$ und $\\sigma_B$, zusammen. Beide setzen wir auf einen sehr kleinen Wert $10^{-6}$ um den Algorithmus stabil zu machen. Die Konstanten sind dann gegeben durch:\n",
    "\n",
    "\\begin{align}\n",
    "C_{E,1} &= \\dfrac{1 - \\frac{\\sigma_E\\,\\Delta t}{2\\varepsilon}}{1 + \\frac{\\sigma_E\\,\\Delta t}{2\\varepsilon}} &\n",
    "C_{B,1} &= \\dfrac{1 - \\frac{\\sigma_B\\,\\Delta t}{2\\mu}}{1 + \\frac{\\sigma_B\\,\\Delta t}{2\\mu}}\\\\\n",
    "C_{E,2} &= \\dfrac{\\frac{\\Delta t}{\\varepsilon\\,\\Delta h}}{1 + \\frac{\\sigma_E\\,\\Delta t}{2\\varepsilon}} &\n",
    "C_{B,2} &= \\dfrac{\\frac{\\Delta t}{\\mu\\,\\Delta h}}{1 + \\frac{\\sigma_B\\,\\Delta t}{2\\mu}}\\\\\n",
    "\\end{align}\n",
    "\n",
    "Die Quelle unseres Feldes soll ein {\\bf schwingender Dipol} sein, den wir dadurch realisieren, dass die z-Komponente des elektrischen Feldes $E_z$ in der Mitte des Gitters sinusförmig variiert:\n",
    "\n",
    "\\begin{equation}\n",
    "E_z(N/2, N/2, N/2, t) = \\sin{(2\\pi t/T)} \n",
    "\\end{equation}\n",
    "\n",
    "Wir nehmen an, dass die Quelle sehr viel kleiner ist, als der Gitterabstand, wodurch sie sehr einfach zu implementieren ist. Plotten Sie, nachdem Sie den Algorithmus implementiert haben, den Betrag des elektrischen Feldes in der (x, z) und der (x, y) Ebene, die den Ursprung schneiden, zu verschiedenen Zeiten.  Mit Ursprung bezeichnen wir hier den Ort des schwingenden Dipols, das heißt den Punkt $(N/2, N/2, N/2)$. \n",
    "\n",
    "Ein Tipp noch zur praktischen Implementierung: Sie simulieren nun ein drei dimensionales System, das sehr viele Gitterpunkte enthält und entsprechend lange benötigt. Starten Sie daher mit einer kleinen Zahl von Gitterpunkten, wie $N = 40$ und vergewissern Sie sich, dass sich das Feld verhält wie erwartet."
   ]
  },
  {
   "cell_type": "code",
   "execution_count": null,
   "metadata": {},
   "outputs": [],
   "source": [
    "c    = 2.99792458e8   # Lichtgeschwindigkeit\n",
    "eps0 = 8.854e-12      # Dielektrische Permeabilität\n",
    "mu0  = 1.256637061e-6 # magnetische Permeabilität"
   ]
  }
 ],
 "metadata": {
  "kernelspec": {
   "display_name": "Julia 1.0.1",
   "language": "julia",
   "name": "julia-1.0"
  },
  "language_info": {
   "file_extension": ".jl",
   "mimetype": "application/julia",
   "name": "julia",
   "version": "1.0.1"
  }
 },
 "nbformat": 4,
 "nbformat_minor": 1
}
