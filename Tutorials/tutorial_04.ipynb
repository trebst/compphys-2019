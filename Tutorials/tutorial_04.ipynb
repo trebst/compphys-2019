{
 "cells": [
  {
   "cell_type": "markdown",
   "metadata": {},
   "source": [
    "<table style=\"width: 100%; border-style: none;\">\n",
    "<tr style=\"border-style: none\">\n",
    "<td style=\"border-style: none; width: 1%; font-size: 16px\">Institut f&uuml;r Theoretische Physik<br /> Universit&auml;t zu K&ouml;ln</td>\n",
    "<td style=\"border-style: none; width: 1%; font-size: 16px\">&nbsp;</td>\n",
    "<td style=\"border-style: none; width: 1%; text-align: right; font-size: 16px\">Prof. Dr. Simon Trebst<br /><br>M. Sc. Carsten Bauer</td>\n",
    "</tr>\n",
    "</table>\n",
    "<hr>\n",
    "<h1 style=\"font-weight:bold; text-align: center; margin: 0px; padding:0px;\">Computerphysik</h1>\n",
    "<h1 style=\"font-weight:bold; text-align: center; margin: 0px; padding:0px;\">Vorlesung &mdash; Programmiertechniken 4</h1>\n",
    "<hr>\n",
    "<h3 style=\"font-weight:bold; text-align: center; margin: 0px; padding:0px; margin-bottom: 20px;\">Sommersemester 2019</h3>\n",
    "\n",
    "**Website:** [http://www.thp.uni-koeln.de/trebst/Lectures/2019-CompPhys.shtml](http://www.thp.uni-koeln.de/trebst/Lectures/2019-CompPhys.shtml)"
   ]
  },
  {
   "cell_type": "markdown",
   "metadata": {},
   "source": [
    "# 0. Erinnerung letzte Woche"
   ]
  },
  {
   "cell_type": "markdown",
   "metadata": {},
   "source": [
    "## Funktionen (cont'd)"
   ]
  },
  {
   "cell_type": "code",
   "execution_count": null,
   "metadata": {},
   "outputs": [],
   "source": [
    "function myfunc(x)\n",
    "    a = 1 + x\n",
    "    b = a^2\n",
    "    c = b - 3\n",
    "    \n",
    "    return c\n",
    "end"
   ]
  },
  {
   "cell_type": "code",
   "execution_count": null,
   "metadata": {},
   "outputs": [],
   "source": [
    "myfunc(3)"
   ]
  },
  {
   "cell_type": "code",
   "execution_count": null,
   "metadata": {},
   "outputs": [],
   "source": [
    "function myfunc2(x)\n",
    "    a = 1 + x\n",
    "    b = a^2\n",
    "    c = b - 3\n",
    "    \n",
    "    return a, b, c\n",
    "end"
   ]
  },
  {
   "cell_type": "code",
   "execution_count": null,
   "metadata": {},
   "outputs": [],
   "source": [
    "result = myfunc2(3)"
   ]
  },
  {
   "cell_type": "code",
   "execution_count": null,
   "metadata": {},
   "outputs": [],
   "source": [
    "result[1]"
   ]
  },
  {
   "cell_type": "code",
   "execution_count": null,
   "metadata": {},
   "outputs": [],
   "source": [
    "result[3]"
   ]
  },
  {
   "cell_type": "code",
   "execution_count": null,
   "metadata": {},
   "outputs": [],
   "source": [
    "a, b, c = myfunc2(3)"
   ]
  },
  {
   "cell_type": "code",
   "execution_count": null,
   "metadata": {},
   "outputs": [],
   "source": [
    "x = rand(1:10, 10)"
   ]
  },
  {
   "cell_type": "code",
   "execution_count": null,
   "metadata": {},
   "outputs": [],
   "source": [
    "issorted(x)"
   ]
  },
  {
   "cell_type": "code",
   "execution_count": null,
   "metadata": {},
   "outputs": [],
   "source": [
    "sort(x)"
   ]
  },
  {
   "cell_type": "code",
   "execution_count": null,
   "metadata": {},
   "outputs": [],
   "source": [
    "x"
   ]
  },
  {
   "cell_type": "code",
   "execution_count": null,
   "metadata": {},
   "outputs": [],
   "source": [
    "sort!(x)"
   ]
  },
  {
   "cell_type": "code",
   "execution_count": null,
   "metadata": {},
   "outputs": [],
   "source": [
    "x"
   ]
  },
  {
   "cell_type": "markdown",
   "metadata": {},
   "source": [
    "## Selbst sortieren: BubbleSort"
   ]
  },
  {
   "cell_type": "code",
   "execution_count": 1,
   "metadata": {},
   "outputs": [
    {
     "data": {
      "text/plain": [
       "swap! (generic function with 1 method)"
      ]
     },
     "execution_count": 1,
     "metadata": {},
     "output_type": "execute_result"
    }
   ],
   "source": [
    "function swap!(a, i, j) # Das Ausrufezeichen ! zeigt an, dass das Array `a` modifiziert wird.\n",
    "    tmp = a[i]\n",
    "    a[i] = a[j]\n",
    "    a[j] = tmp\n",
    "    return a\n",
    "end"
   ]
  },
  {
   "cell_type": "code",
   "execution_count": 2,
   "metadata": {},
   "outputs": [
    {
     "data": {
      "text/plain": [
       "bubblesort! (generic function with 1 method)"
      ]
     },
     "execution_count": 2,
     "metadata": {},
     "output_type": "execute_result"
    }
   ],
   "source": [
    "function bubblesort!(a)\n",
    "    for rechts in length(a):-1:2 # N, N-1, N-2, ... , 3, 2\n",
    "        \n",
    "        # bubble-Schritt\n",
    "        for i in 1:rechts-1\n",
    "            if a[i]>a[i+1]\n",
    "                swap!(a, i, i+1)\n",
    "            end\n",
    "        end\n",
    "    end\n",
    "    \n",
    "    return a\n",
    "end"
   ]
  },
  {
   "cell_type": "markdown",
   "metadata": {},
   "source": [
    "## Visualisierung"
   ]
  },
  {
   "cell_type": "code",
   "execution_count": null,
   "metadata": {},
   "outputs": [],
   "source": [
    "using PyPlot, Random\n",
    "\n",
    "function show_bubble_schritt(n)\n",
    "    a = shuffle(1:n)\n",
    "    \n",
    "    pygui(true)\n",
    "    fig = figure()\n",
    "    title(\"Bubble-Schritt\")\n",
    "    for rechts = length(a):-1:length(a)\n",
    "        # bubble-Schritt\n",
    "        for i in 1:rechts-1\n",
    "            if a[i]>a[i+1]\n",
    "                swap!(a, i, i+1)\n",
    "            end\n",
    "            fig.clear()\n",
    "            bar(1:length(a), a)\n",
    "            m, mind = findmax(a)\n",
    "            bar(mind, m, color=\"red\")\n",
    "            sleep(0.001)\n",
    "        end\n",
    "    end\n",
    "    pygui(false)\n",
    "    nothing\n",
    "end\n",
    "\n",
    "function show_bubble_sort(n)\n",
    "    a = shuffle(1:n)\n",
    "    \n",
    "    pygui(true)\n",
    "    fig = figure()\n",
    "    title(\"Bubble-Sort\")\n",
    "    for rechts = length(a):-1:2\n",
    "        # bubble-Schritt\n",
    "        for i in 1:rechts-1\n",
    "            if a[i]>a[i+1]\n",
    "                swap!(a, i, i+1)\n",
    "            end\n",
    "        end\n",
    "        fig.clear()\n",
    "        bar(1:length(a), a)\n",
    "        m, mind = findmax(a[1:rechts])\n",
    "        bar(mind, m, color=\"red\")\n",
    "        sleep(0.001)\n",
    "    end\n",
    "    pygui(false)\n",
    "    nothing\n",
    "end"
   ]
  },
  {
   "cell_type": "code",
   "execution_count": null,
   "metadata": {},
   "outputs": [],
   "source": [
    "show_bubble_schritt(40)"
   ]
  },
  {
   "cell_type": "code",
   "execution_count": null,
   "metadata": {},
   "outputs": [],
   "source": [
    "show_bubble_sort(40)"
   ]
  },
  {
   "cell_type": "markdown",
   "metadata": {},
   "source": [
    "# 1. BubbleSort: Timing und Komplexität"
   ]
  },
  {
   "cell_type": "code",
   "execution_count": 3,
   "metadata": {},
   "outputs": [],
   "source": [
    "b = rand(50000);"
   ]
  },
  {
   "cell_type": "code",
   "execution_count": 4,
   "metadata": {},
   "outputs": [
    {
     "name": "stdout",
     "output_type": "stream",
     "text": [
      "  4.137338 seconds (26.29 k allocations: 1.329 MiB)\n"
     ]
    },
    {
     "data": {
      "text/plain": [
       "50000-element Array{Float64,1}:\n",
       " 2.5080783239372906e-5 \n",
       " 3.2776914591581274e-5 \n",
       " 5.295672455329914e-5  \n",
       " 6.820985974376192e-5  \n",
       " 6.851168759047788e-5  \n",
       " 7.687069949868786e-5  \n",
       " 9.148805617309463e-5  \n",
       " 0.00010813920627295026\n",
       " 0.00012213828514529013\n",
       " 0.00014182310972787882\n",
       " 0.000190194226934004  \n",
       " 0.00020578882943267374\n",
       " 0.00026360704956718273\n",
       " ⋮                     \n",
       " 0.9997877789249197    \n",
       " 0.9998151753780931    \n",
       " 0.9998172489253081    \n",
       " 0.9998327416183499    \n",
       " 0.9998617258278741    \n",
       " 0.9998889452406128    \n",
       " 0.9998976711968157    \n",
       " 0.999910760188299     \n",
       " 0.999916158203872     \n",
       " 0.999980130777425     \n",
       " 0.9999937488338497    \n",
       " 0.9999953482015442    "
      ]
     },
     "execution_count": 4,
     "metadata": {},
     "output_type": "execute_result"
    }
   ],
   "source": [
    "@time bubblesort!(b)"
   ]
  },
  {
   "cell_type": "code",
   "execution_count": 5,
   "metadata": {},
   "outputs": [
    {
     "data": {
      "text/plain": [
       "1.437035999"
      ]
     },
     "execution_count": 5,
     "metadata": {},
     "output_type": "execute_result"
    }
   ],
   "source": [
    "@elapsed bubblesort!(b)"
   ]
  },
  {
   "cell_type": "code",
   "execution_count": 6,
   "metadata": {},
   "outputs": [
    {
     "data": {
      "text/plain": [
       "benchmark_bubblesort (generic function with 1 method)"
      ]
     },
     "execution_count": 6,
     "metadata": {},
     "output_type": "execute_result"
    }
   ],
   "source": [
    "function benchmark_bubblesort()\n",
    "    number_count = [0.0]\n",
    "    elapsed_time = [0.0]\n",
    "\n",
    "    for i in 1:16\n",
    "        b = rand(2^i)\n",
    "        t = @elapsed bubblesort!(b)\n",
    "        println(2^i, \"\\t\", t)\n",
    "        push!(number_count, 2^i)\n",
    "        push!(elapsed_time, t)\n",
    "    end\n",
    "    \n",
    "    return number_count, elapsed_time\n",
    "end"
   ]
  },
  {
   "cell_type": "code",
   "execution_count": 7,
   "metadata": {},
   "outputs": [
    {
     "name": "stdout",
     "output_type": "stream",
     "text": [
      "2\t2.99e-7\n",
      "4\t4.0e-7\n",
      "8\t3.0e-7\n",
      "16\t8.0e-7\n",
      "32\t1.999e-6\n",
      "64\t1.9e-5\n",
      "128\t2.33e-5\n",
      "256\t9.39e-5\n",
      "512\t0.0003618\n",
      "1024\t0.0011735\n",
      "2048\t0.003357501\n",
      "4096\t0.0162342\n",
      "8192\t0.0933696\n",
      "16384\t0.4163092\n",
      "32768\t1.8413772\n",
      "65536\t7.253109401\n"
     ]
    }
   ],
   "source": [
    "number_count, elapsed_time = benchmark_bubblesort();"
   ]
  },
  {
   "cell_type": "code",
   "execution_count": 8,
   "metadata": {},
   "outputs": [],
   "source": [
    "using PyPlot"
   ]
  },
  {
   "cell_type": "code",
   "execution_count": 9,
   "metadata": {},
   "outputs": [
    {
     "data": {
      "image/png": "[encoded data removed]",
      "text/plain": [
       "Figure(PyObject <Figure size 640x480 with 1 Axes>)"
      ]
     },
     "metadata": {},
     "output_type": "display_data"
    },
    {
     "data": {
      "text/plain": [
       "PyObject Text(0.5, 1.0, 'Bubble Sort Duration')"
      ]
     },
     "execution_count": 9,
     "metadata": {},
     "output_type": "execute_result"
    }
   ],
   "source": [
    "plot(number_count, elapsed_time, marker=\"o\", label=\"bubblesort\");\n",
    "legend(loc=4);\n",
    "xlabel(\"# number to be sorted\");\n",
    "ylabel(\"elapsed time\");\n",
    "title(\"Bubble Sort Duration\")"
   ]
  },
  {
   "cell_type": "markdown",
   "metadata": {},
   "source": [
    "### Exponenten extrahieren"
   ]
  },
  {
   "cell_type": "code",
   "execution_count": null,
   "metadata": {},
   "outputs": [],
   "source": [
    "] add Polynomials"
   ]
  },
  {
   "cell_type": "code",
   "execution_count": 10,
   "metadata": {},
   "outputs": [],
   "source": [
    "using Polynomials"
   ]
  },
  {
   "cell_type": "code",
   "execution_count": 11,
   "metadata": {},
   "outputs": [
    {
     "data": {
      "text/plain": [
       "1.9449790369163962"
      ]
     },
     "execution_count": 11,
     "metadata": {},
     "output_type": "execute_result"
    }
   ],
   "source": [
    "# fit straight line in loglog space (ignoring first couple of datapoints)\n",
    "# syntax: polyfit(x, y, degree)\n",
    "p = polyfit(log.(number_count[7:end]), log.(elapsed_time[7:end]), 1)\n",
    "m = p.a[2]"
   ]
  },
  {
   "cell_type": "code",
   "execution_count": 12,
   "metadata": {},
   "outputs": [
    {
     "data": {
      "image/png": "[encoded data removed]",
      "text/plain": [
       "Figure(PyObject <Figure size 640x480 with 1 Axes>)"
      ]
     },
     "metadata": {},
     "output_type": "display_data"
    }
   ],
   "source": [
    "plot(number_count, elapsed_time, marker=\"o\", label=\"bubblesort\");\n",
    "plot(number_count, exp.(p.(log.(number_count))), label=\"linear fit (slope ≈ $(round(m, digits=2)))\")\n",
    "legend(loc=4);\n",
    "xscale(\"log\")\n",
    "yscale(\"log\")\n",
    "xlabel(\"# number to be sorted\");\n",
    "ylabel(\"elapsed time\");\n",
    "title(\"Bubble Sort Duration (loglog)\");"
   ]
  },
  {
   "cell_type": "markdown",
   "metadata": {},
   "source": [
    "## Komplexität (asymptotische Skalierung): BubbleSort $\\in \\mathcal{O}(n^2)$\n",
    "\n",
    "O-Notation: https://de.wikipedia.org/wiki/Landau-Symbole#Beispiele_und_Notation"
   ]
  },
  {
   "cell_type": "markdown",
   "metadata": {},
   "source": [
    "**Hinweis:** Die Macros `@time` und `@elapsed` sind hilfreich, sollten jedoch meistens vermieden werden, da Nebeneffekte das Messergebnis verzerren können. Führen Sie beispielsweise `@time sort(rand(1000));` zweimal aus und beobachten Sie, wie sich das Ergebnis ändert.\n",
    "\n",
    "Es ist stattdessen empfehlenswert auf `@btime` und `@belapsed` aus dem Paket [BenchmarkTools.jl](https://github.com/JuliaCI/BenchmarkTools.jl) verwenden."
   ]
  },
  {
   "cell_type": "code",
   "execution_count": 46,
   "metadata": {},
   "outputs": [
    {
     "name": "stdout",
     "output_type": "stream",
     "text": [
      "  0.009080 seconds (6.01 k allocations: 335.917 KiB)\n"
     ]
    },
    {
     "data": {
      "text/plain": [
       "1000-element Array{Float64,1}:\n",
       " 0.001864437008099351\n",
       " 0.006451936797210456\n",
       " 0.007942927544941192\n",
       " 0.008276966760733195\n",
       " 0.008348192521164144\n",
       " 0.009843574459912352\n",
       " 0.01090254593971074 \n",
       " 0.011649210493729578\n",
       " 0.012028332958457622\n",
       " 0.012675761146512698\n",
       " 0.014371013658937892\n",
       " 0.014493519094455065\n",
       " 0.014921332456080183\n",
       " ⋮                   \n",
       " 0.9820439203052729  \n",
       " 0.9833747593189508  \n",
       " 0.9834500875350902  \n",
       " 0.986593846829644   \n",
       " 0.9879695728771314  \n",
       " 0.9886620869242737  \n",
       " 0.99200964545472    \n",
       " 0.9930914251134721  \n",
       " 0.9957816323356532  \n",
       " 0.9969320133432358  \n",
       " 0.9992955076230376  \n",
       " 0.9997824458162705  "
      ]
     },
     "execution_count": 46,
     "metadata": {},
     "output_type": "execute_result"
    }
   ],
   "source": [
    "@time sort(rand(1000))"
   ]
  },
  {
   "cell_type": "code",
   "execution_count": 68,
   "metadata": {},
   "outputs": [
    {
     "name": "stdout",
     "output_type": "stream",
     "text": [
      "  0.000071 seconds (6 allocations: 16.031 KiB)\n"
     ]
    },
    {
     "data": {
      "text/plain": [
       "1000-element Array{Float64,1}:\n",
       " 0.00013299138981714975\n",
       " 0.002669324517655225  \n",
       " 0.002984572310187783  \n",
       " 0.003151665671909276  \n",
       " 0.003920705235302746  \n",
       " 0.0045366207062340624 \n",
       " 0.005648629322552612  \n",
       " 0.005846214409235939  \n",
       " 0.006471501538294788  \n",
       " 0.007176670966885679  \n",
       " 0.007579738044851014  \n",
       " 0.009373677141798042  \n",
       " 0.009536573574773222  \n",
       " ⋮                     \n",
       " 0.9890783438637645    \n",
       " 0.9890844362819071    \n",
       " 0.9903665894990081    \n",
       " 0.9909946422569207    \n",
       " 0.9910465633810281    \n",
       " 0.9936198053815499    \n",
       " 0.9940780517363481    \n",
       " 0.9942050993196201    \n",
       " 0.994326750580732     \n",
       " 0.9984209643459303    \n",
       " 0.9987495565300366    \n",
       " 0.9989159974448751    "
      ]
     },
     "execution_count": 68,
     "metadata": {},
     "output_type": "execute_result"
    }
   ],
   "source": [
    "@time sort(rand(1000))\n"
   ]
  },
  {
   "cell_type": "markdown",
   "metadata": {},
   "source": [
    "# 2. Experimentelle Daten verarbeiten"
   ]
  },
  {
   "cell_type": "markdown",
   "metadata": {},
   "source": [
    "Wir werden ein paar externe Pakete verwenden, die wir an dieser Stelle installieren wollen."
   ]
  },
  {
   "cell_type": "code",
   "execution_count": null,
   "metadata": {},
   "outputs": [],
   "source": [
    "] add CSVFiles ExcelFiles DataFrames Measurements LsqFit"
   ]
  },
  {
   "cell_type": "code",
   "execution_count": 69,
   "metadata": {},
   "outputs": [],
   "source": [
    "using CSVFiles, ExcelFiles, DataFrames, Measurements, LsqFit"
   ]
  },
  {
   "cell_type": "markdown",
   "metadata": {},
   "source": [
    "## Beschreibung des (Gedanken-)Experiments\n",
    "\n",
    "Im Folgenden wollen wir erarbeiten, wie man experimentelle Daten, die zum Beispiel während eines Praktikumsversuchs gewonnen wurden, mit Julia verarbeiten kann. Ein im Grundstudium häufig durchgeführtes Experiment ist das [Pohlsche Rad](https://de.wikipedia.org/wiki/Pohlsches_Rad) als Beispiel für resonante und chaotische Schwingvorgänge.\n",
    "\n",
    "Daran angelehnt betrachten wir die folgende Differentialgleichung eines **getriebenen, gedämpften Oszillators**,\n",
    "\n",
    "$\\quad m\\ddot{x} + \\gamma\\dot{x}+kx = F\\sin(\\omega t).$\n",
    "\n",
    "### Wir machen zwei Versuche:\n",
    "\n",
    "1. Wir schalten Dämpfung und Triebkraft aus ($\\gamma = 0, F = 0$) und bestimmen die Masse $m$ und Schwingungsperiode $T$ des freien Oszillators.\n",
    "2. Wir treiben den gedämpften Oszillator mit der konstanten Kraft $F$ bei variierenden Frequenzen $\\omega$ und messen die Amplitude $A$ der Oszillation.\n",
    "\n",
    "Aus den Ergebnissen zu 1 können wir die Federkonstante $k$ berechnen.\n",
    "\n",
    "Aus den Ergebnissen zu 2 können wir die Dämpfung $\\gamma$ bestimmen."
   ]
  },
  {
   "cell_type": "markdown",
   "metadata": {},
   "source": [
    "### \"Messdaten\" herunterladen:"
   ]
  },
  {
   "cell_type": "markdown",
   "metadata": {},
   "source": [
    "**CSV Datei** (\"Comma-separated values\") mit Daten der Massen- und **Periodenmessung** (Versuch 1): https://tinyurl.com/y3bbrklk\n",
    "\n",
    "**Excel Datei** mit Daten der **Resonanzmessung** (Versuch 2): https://tinyurl.com/y5t3qjkb"
   ]
  },
  {
   "cell_type": "code",
   "execution_count": 71,
   "metadata": {},
   "outputs": [
    {
     "data": {
      "text/plain": [
       "\"resonance.xlsx\""
      ]
     },
     "execution_count": 71,
     "metadata": {},
     "output_type": "execute_result"
    }
   ],
   "source": [
    "download(\"https://tinyurl.com/y3bbrklk\", \"period.csv\")\n",
    "download(\"https://tinyurl.com/y5t3qjkb\", \"resonance.xlsx\")"
   ]
  },
  {
   "cell_type": "code",
   "execution_count": 73,
   "metadata": {},
   "outputs": [],
   "source": [
    "using CSVFiles, DataFrames"
   ]
  },
  {
   "cell_type": "markdown",
   "metadata": {},
   "source": [
    "Links: **[CSVFiles.jl](https://github.com/queryverse/CSVFiles.jl), [DataFrames.jl](https://github.com/JuliaData/DataFrames.jl)** ([Dokumentation](http://juliadata.github.io/DataFrames.jl/stable/))"
   ]
  },
  {
   "cell_type": "code",
   "execution_count": 74,
   "metadata": {},
   "outputs": [
    {
     "data": {
      "text/html": [
       "<table class=\"data-frame\"><thead><tr><th></th><th>Masse</th><th>∆m</th><th>Schwingungsperiode T</th><th>∆T</th></tr><tr><th></th><th>Float64</th><th>Float64</th><th>Float64</th><th>Float64</th></tr></thead><tbody><p>10 rows × 4 columns</p><tr><th>1</th><td>1.33</td><td>0.05</td><td>7.75</td><td>0.05</td></tr><tr><th>2</th><td>1.33</td><td>0.05</td><td>7.51</td><td>0.05</td></tr><tr><th>3</th><td>1.33</td><td>0.05</td><td>7.41</td><td>0.05</td></tr><tr><th>4</th><td>1.34</td><td>0.05</td><td>7.44</td><td>0.05</td></tr><tr><th>5</th><td>1.34</td><td>0.05</td><td>7.48</td><td>0.05</td></tr><tr><th>6</th><td>1.34</td><td>0.05</td><td>7.56</td><td>0.05</td></tr><tr><th>7</th><td>1.37</td><td>0.05</td><td>7.3</td><td>0.05</td></tr><tr><th>8</th><td>1.34</td><td>0.05</td><td>7.6</td><td>0.05</td></tr><tr><th>9</th><td>1.38</td><td>0.05</td><td>7.14</td><td>0.05</td></tr><tr><th>10</th><td>1.37</td><td>0.05</td><td>7.2</td><td>0.05</td></tr></tbody></table>"
      ],
      "text/latex": [
       "\\begin{tabular}{r|cccc}\n",
       "\t& Masse & ∆m & Schwingungsperiode T & ∆T\\\\\n",
       "\t\\hline\n",
       "\t& Float64 & Float64 & Float64 & Float64\\\\\n",
       "\t\\hline\n",
       "\t1 & 1.33 & 0.05 & 7.75 & 0.05 \\\\\n",
       "\t2 & 1.33 & 0.05 & 7.51 & 0.05 \\\\\n",
       "\t3 & 1.33 & 0.05 & 7.41 & 0.05 \\\\\n",
       "\t4 & 1.34 & 0.05 & 7.44 & 0.05 \\\\\n",
       "\t5 & 1.34 & 0.05 & 7.48 & 0.05 \\\\\n",
       "\t6 & 1.34 & 0.05 & 7.56 & 0.05 \\\\\n",
       "\t7 & 1.37 & 0.05 & 7.3 & 0.05 \\\\\n",
       "\t8 & 1.34 & 0.05 & 7.6 & 0.05 \\\\\n",
       "\t9 & 1.38 & 0.05 & 7.14 & 0.05 \\\\\n",
       "\t10 & 1.37 & 0.05 & 7.2 & 0.05 \\\\\n",
       "\\end{tabular}\n"
      ],
      "text/plain": [
       "10×4 DataFrame\n",
       "│ Row │ Masse   │ ∆m      │ Schwingungsperiode T │ ∆T      │\n",
       "│     │ \u001b[90mFloat64\u001b[39m │ \u001b[90mFloat64\u001b[39m │ \u001b[90mFloat64\u001b[39m              │ \u001b[90mFloat64\u001b[39m │\n",
       "├─────┼─────────┼─────────┼──────────────────────┼─────────┤\n",
       "│ 1   │ 1.33    │ 0.05    │ 7.75                 │ 0.05    │\n",
       "│ 2   │ 1.33    │ 0.05    │ 7.51                 │ 0.05    │\n",
       "│ 3   │ 1.33    │ 0.05    │ 7.41                 │ 0.05    │\n",
       "│ 4   │ 1.34    │ 0.05    │ 7.44                 │ 0.05    │\n",
       "│ 5   │ 1.34    │ 0.05    │ 7.48                 │ 0.05    │\n",
       "│ 6   │ 1.34    │ 0.05    │ 7.56                 │ 0.05    │\n",
       "│ 7   │ 1.37    │ 0.05    │ 7.3                  │ 0.05    │\n",
       "│ 8   │ 1.34    │ 0.05    │ 7.6                  │ 0.05    │\n",
       "│ 9   │ 1.38    │ 0.05    │ 7.14                 │ 0.05    │\n",
       "│ 10  │ 1.37    │ 0.05    │ 7.2                  │ 0.05    │"
      ]
     },
     "execution_count": 74,
     "metadata": {},
     "output_type": "execute_result"
    }
   ],
   "source": [
    "period_data = DataFrame(load(\"period.csv\"))"
   ]
  },
  {
   "cell_type": "code",
   "execution_count": 75,
   "metadata": {},
   "outputs": [
    {
     "data": {
      "text/plain": [
       "2×2 Array{Float64,2}:\n",
       " 0.736525  0.455081\n",
       " 0.311895  0.976221"
      ]
     },
     "execution_count": 75,
     "metadata": {},
     "output_type": "execute_result"
    }
   ],
   "source": [
    "x = rand(2,2)"
   ]
  },
  {
   "cell_type": "code",
   "execution_count": 76,
   "metadata": {},
   "outputs": [
    {
     "data": {
      "text/plain": [
       "2-element Array{Float64,1}:\n",
       " 0.45508113038126785\n",
       " 0.9762208313672585 "
      ]
     },
     "execution_count": 76,
     "metadata": {},
     "output_type": "execute_result"
    }
   ],
   "source": [
    "x[:,2]"
   ]
  },
  {
   "cell_type": "code",
   "execution_count": 77,
   "metadata": {},
   "outputs": [
    {
     "data": {
      "text/plain": [
       "10-element Array{Float64,1}:\n",
       " 1.33\n",
       " 1.33\n",
       " 1.33\n",
       " 1.34\n",
       " 1.34\n",
       " 1.34\n",
       " 1.37\n",
       " 1.34\n",
       " 1.38\n",
       " 1.37"
      ]
     },
     "execution_count": 77,
     "metadata": {},
     "output_type": "execute_result"
    }
   ],
   "source": [
    "period_data[:,1]"
   ]
  },
  {
   "cell_type": "code",
   "execution_count": 78,
   "metadata": {},
   "outputs": [],
   "source": [
    "m = period_data[:,1]\n",
    "Δm = period_data[:,2]\n",
    "T = period_data[:,3]\n",
    "ΔT = period_data[:,4];"
   ]
  },
  {
   "cell_type": "markdown",
   "metadata": {},
   "source": [
    "Die Daten zu Versuch 2 (Resonanzmessung) liegen z.B. in einer Excel Datei `daten.xlsx` vor."
   ]
  },
  {
   "cell_type": "code",
   "execution_count": 81,
   "metadata": {},
   "outputs": [],
   "source": [
    "using ExcelFiles"
   ]
  },
  {
   "cell_type": "markdown",
   "metadata": {},
   "source": [
    "Links: **[ExcelFiles.jl](https://github.com/queryverse/ExcelFiles.jl)**"
   ]
  },
  {
   "cell_type": "code",
   "execution_count": 84,
   "metadata": {},
   "outputs": [
    {
     "data": {
      "text/html": [
       "<table class=\"data-frame\"><thead><tr><th></th><th>Motorfrequenz</th><th>Amplitude</th><th>Fehler</th></tr><tr><th></th><th>Float64</th><th>Float64</th><th>Float64</th></tr></thead><tbody><p>83 rows × 3 columns</p><tr><th>1</th><td>0.61</td><td>3.68953</td><td>0.2</td></tr><tr><th>2</th><td>0.62</td><td>3.57177</td><td>0.2</td></tr><tr><th>3</th><td>0.63</td><td>3.90793</td><td>0.2</td></tr><tr><th>4</th><td>0.64</td><td>3.94064</td><td>0.2</td></tr><tr><th>5</th><td>0.65</td><td>4.14521</td><td>0.2</td></tr><tr><th>6</th><td>0.66</td><td>4.41862</td><td>0.2</td></tr><tr><th>7</th><td>0.67</td><td>4.38976</td><td>0.2</td></tr><tr><th>8</th><td>0.68</td><td>4.78046</td><td>0.2</td></tr><tr><th>9</th><td>0.69</td><td>5.09132</td><td>0.2</td></tr><tr><th>10</th><td>0.7</td><td>5.46904</td><td>0.2</td></tr><tr><th>11</th><td>0.71</td><td>5.51621</td><td>0.2</td></tr><tr><th>12</th><td>0.72</td><td>5.87893</td><td>0.2</td></tr><tr><th>13</th><td>0.73</td><td>6.38231</td><td>0.2</td></tr><tr><th>14</th><td>0.74</td><td>6.93426</td><td>0.2</td></tr><tr><th>15</th><td>0.75</td><td>7.33359</td><td>0.2</td></tr><tr><th>16</th><td>0.76</td><td>8.16761</td><td>0.2</td></tr><tr><th>17</th><td>0.77</td><td>8.77377</td><td>0.2</td></tr><tr><th>18</th><td>0.78</td><td>9.89888</td><td>0.2</td></tr><tr><th>19</th><td>0.79</td><td>10.921</td><td>0.2</td></tr><tr><th>20</th><td>0.8</td><td>11.7814</td><td>0.2</td></tr><tr><th>21</th><td>0.81</td><td>12.8066</td><td>0.2</td></tr><tr><th>22</th><td>0.82</td><td>14.0648</td><td>0.2</td></tr><tr><th>23</th><td>0.83</td><td>14.9941</td><td>0.2</td></tr><tr><th>24</th><td>0.84</td><td>15.0129</td><td>0.2</td></tr><tr><th>25</th><td>0.85</td><td>14.9015</td><td>0.2</td></tr><tr><th>26</th><td>0.86</td><td>14.0194</td><td>0.2</td></tr><tr><th>27</th><td>0.87</td><td>12.6848</td><td>0.2</td></tr><tr><th>28</th><td>0.88</td><td>11.2408</td><td>0.2</td></tr><tr><th>29</th><td>0.89</td><td>10.1749</td><td>0.2</td></tr><tr><th>30</th><td>0.9</td><td>9.29254</td><td>0.2</td></tr><tr><th>&vellip;</th><td>&vellip;</td><td>&vellip;</td><td>&vellip;</td></tr></tbody></table>"
      ],
      "text/latex": [
       "\\begin{tabular}{r|ccc}\n",
       "\t& Motorfrequenz & Amplitude & Fehler\\\\\n",
       "\t\\hline\n",
       "\t& Float64 & Float64 & Float64\\\\\n",
       "\t\\hline\n",
       "\t1 & 0.61 & 3.68953 & 0.2 \\\\\n",
       "\t2 & 0.62 & 3.57177 & 0.2 \\\\\n",
       "\t3 & 0.63 & 3.90793 & 0.2 \\\\\n",
       "\t4 & 0.64 & 3.94064 & 0.2 \\\\\n",
       "\t5 & 0.65 & 4.14521 & 0.2 \\\\\n",
       "\t6 & 0.66 & 4.41862 & 0.2 \\\\\n",
       "\t7 & 0.67 & 4.38976 & 0.2 \\\\\n",
       "\t8 & 0.68 & 4.78046 & 0.2 \\\\\n",
       "\t9 & 0.69 & 5.09132 & 0.2 \\\\\n",
       "\t10 & 0.7 & 5.46904 & 0.2 \\\\\n",
       "\t11 & 0.71 & 5.51621 & 0.2 \\\\\n",
       "\t12 & 0.72 & 5.87893 & 0.2 \\\\\n",
       "\t13 & 0.73 & 6.38231 & 0.2 \\\\\n",
       "\t14 & 0.74 & 6.93426 & 0.2 \\\\\n",
       "\t15 & 0.75 & 7.33359 & 0.2 \\\\\n",
       "\t16 & 0.76 & 8.16761 & 0.2 \\\\\n",
       "\t17 & 0.77 & 8.77377 & 0.2 \\\\\n",
       "\t18 & 0.78 & 9.89888 & 0.2 \\\\\n",
       "\t19 & 0.79 & 10.921 & 0.2 \\\\\n",
       "\t20 & 0.8 & 11.7814 & 0.2 \\\\\n",
       "\t21 & 0.81 & 12.8066 & 0.2 \\\\\n",
       "\t22 & 0.82 & 14.0648 & 0.2 \\\\\n",
       "\t23 & 0.83 & 14.9941 & 0.2 \\\\\n",
       "\t24 & 0.84 & 15.0129 & 0.2 \\\\\n",
       "\t25 & 0.85 & 14.9015 & 0.2 \\\\\n",
       "\t26 & 0.86 & 14.0194 & 0.2 \\\\\n",
       "\t27 & 0.87 & 12.6848 & 0.2 \\\\\n",
       "\t28 & 0.88 & 11.2408 & 0.2 \\\\\n",
       "\t29 & 0.89 & 10.1749 & 0.2 \\\\\n",
       "\t30 & 0.9 & 9.29254 & 0.2 \\\\\n",
       "\t$\\dots$ & $\\dots$ & $\\dots$ & $\\dots$ \\\\\n",
       "\\end{tabular}\n"
      ],
      "text/plain": [
       "83×3 DataFrame\n",
       "│ Row │ Motorfrequenz │ Amplitude │ Fehler  │\n",
       "│     │ \u001b[90mFloat64\u001b[39m       │ \u001b[90mFloat64\u001b[39m   │ \u001b[90mFloat64\u001b[39m │\n",
       "├─────┼───────────────┼───────────┼─────────┤\n",
       "│ 1   │ 0.61          │ 3.68953   │ 0.2     │\n",
       "│ 2   │ 0.62          │ 3.57177   │ 0.2     │\n",
       "│ 3   │ 0.63          │ 3.90793   │ 0.2     │\n",
       "│ 4   │ 0.64          │ 3.94064   │ 0.2     │\n",
       "│ 5   │ 0.65          │ 4.14521   │ 0.2     │\n",
       "│ 6   │ 0.66          │ 4.41862   │ 0.2     │\n",
       "│ 7   │ 0.67          │ 4.38976   │ 0.2     │\n",
       "│ 8   │ 0.68          │ 4.78046   │ 0.2     │\n",
       "│ 9   │ 0.69          │ 5.09132   │ 0.2     │\n",
       "│ 10  │ 0.7           │ 5.46904   │ 0.2     │\n",
       "⋮\n",
       "│ 73  │ 1.33          │ 1.2071    │ 0.2     │\n",
       "│ 74  │ 1.34          │ 1.20216   │ 0.2     │\n",
       "│ 75  │ 1.35          │ 1.0389    │ 0.2     │\n",
       "│ 76  │ 1.36          │ 0.965221  │ 0.2     │\n",
       "│ 77  │ 1.37          │ 0.91651   │ 0.2     │\n",
       "│ 78  │ 1.38          │ 1.08663   │ 0.2     │\n",
       "│ 79  │ 1.39          │ 0.934463  │ 0.2     │\n",
       "│ 80  │ 1.4           │ 0.894263  │ 0.2     │\n",
       "│ 81  │ 1.41          │ 0.900934  │ 0.2     │\n",
       "│ 82  │ 1.4           │ 1.07006   │ 0.2     │\n",
       "│ 83  │ 1.5           │ 0.703437  │ 0.2     │"
      ]
     },
     "execution_count": 84,
     "metadata": {},
     "output_type": "execute_result"
    }
   ],
   "source": [
    "resonance_data = DataFrame(load(\"resonance.xlsx\", \"Resonanzmessung!A2:C85\"))"
   ]
  },
  {
   "cell_type": "code",
   "execution_count": 85,
   "metadata": {},
   "outputs": [],
   "source": [
    "ω = resonance_data[:,1]\n",
    "A = resonance_data[:,2]\n",
    "ΔA = resonance_data[:,3];"
   ]
  },
  {
   "cell_type": "markdown",
   "metadata": {},
   "source": [
    "## Visualisieren"
   ]
  },
  {
   "cell_type": "code",
   "execution_count": 86,
   "metadata": {},
   "outputs": [],
   "source": [
    "using PyPlot"
   ]
  },
  {
   "cell_type": "code",
   "execution_count": 87,
   "metadata": {},
   "outputs": [
    {
     "data": {
      "image/png": "[encoded data removed]",
      "text/plain": [
       "Figure(PyObject <Figure size 640x480 with 1 Axes>)"
      ]
     },
     "metadata": {},
     "output_type": "display_data"
    },
    {
     "data": {
      "text/plain": [
       "PyObject Text(28,0.5,'Schwingungsamplitude $A$')"
      ]
     },
     "execution_count": 87,
     "metadata": {},
     "output_type": "execute_result"
    }
   ],
   "source": [
    "errorbar(ω, A, yerr=ΔA, fmt=\".\")\n",
    "\n",
    "title(\"Schwingungsamplitude vs. Motorfrequenz\")\n",
    "xlabel(L\"Motorfrequenz $\\omega$\") # das L vor dem String steht für LaTeX\n",
    "ylabel(L\"Schwingungsamplitude $A$\")"
   ]
  },
  {
   "cell_type": "markdown",
   "metadata": {},
   "source": [
    "# 3. Federkonstante $k$ bestimmen (Automatische Fehlerfortpflanzung)"
   ]
  },
  {
   "cell_type": "code",
   "execution_count": 88,
   "metadata": {},
   "outputs": [],
   "source": [
    "using Measurements\n",
    "import Measurements: value, uncertainty"
   ]
  },
  {
   "cell_type": "markdown",
   "metadata": {},
   "source": [
    "Links: **[Measurements.jl](https://github.com/JuliaPhysics/Measurements.jl)** ([Dokumentation](https://juliaphysics.github.io/Measurements.jl/stable/))"
   ]
  },
  {
   "cell_type": "code",
   "execution_count": 89,
   "metadata": {},
   "outputs": [
    {
     "data": {
      "text/latex": [
       "$1.33 \\pm 0.05$"
      ],
      "text/plain": [
       "1.33 ± 0.05"
      ]
     },
     "execution_count": 89,
     "metadata": {},
     "output_type": "execute_result"
    }
   ],
   "source": [
    "x = measurement(m[1], Δm[1])"
   ]
  },
  {
   "cell_type": "code",
   "execution_count": 90,
   "metadata": {},
   "outputs": [
    {
     "data": {
      "text/latex": [
       "$1.37 \\pm 0.05$"
      ],
      "text/plain": [
       "1.37 ± 0.05"
      ]
     },
     "execution_count": 90,
     "metadata": {},
     "output_type": "execute_result"
    }
   ],
   "source": [
    "y = measurement(m[end], Δm[end])"
   ]
  },
  {
   "cell_type": "code",
   "execution_count": 91,
   "metadata": {},
   "outputs": [
    {
     "data": {
      "text/latex": [
       "$2.7 \\pm 0.071$"
      ],
      "text/plain": [
       "2.7 ± 0.071"
      ]
     },
     "execution_count": 91,
     "metadata": {},
     "output_type": "execute_result"
    }
   ],
   "source": [
    "x + y"
   ]
  },
  {
   "cell_type": "code",
   "execution_count": 92,
   "metadata": {},
   "outputs": [
    {
     "data": {
      "text/latex": [
       "$1.822 \\pm 0.095$"
      ],
      "text/plain": [
       "1.822 ± 0.095"
      ]
     },
     "execution_count": 92,
     "metadata": {},
     "output_type": "execute_result"
    }
   ],
   "source": [
    "x * y"
   ]
  },
  {
   "cell_type": "code",
   "execution_count": 93,
   "metadata": {},
   "outputs": [
    {
     "data": {
      "text/latex": [
       "$1.643 \\pm 0.022$"
      ],
      "text/plain": [
       "1.643 ± 0.022"
      ]
     },
     "execution_count": 93,
     "metadata": {},
     "output_type": "execute_result"
    }
   ],
   "source": [
    "z = sqrt(x + y)"
   ]
  },
  {
   "cell_type": "code",
   "execution_count": 94,
   "metadata": {},
   "outputs": [
    {
     "data": {
      "text/plain": [
       "1.6431676725154984"
      ]
     },
     "execution_count": 94,
     "metadata": {},
     "output_type": "execute_result"
    }
   ],
   "source": [
    "value(z)"
   ]
  },
  {
   "cell_type": "code",
   "execution_count": 95,
   "metadata": {},
   "outputs": [
    {
     "data": {
      "text/plain": [
       "0.02151657414559676"
      ]
     },
     "execution_count": 95,
     "metadata": {},
     "output_type": "execute_result"
    }
   ],
   "source": [
    "uncertainty(z)"
   ]
  },
  {
   "cell_type": "markdown",
   "metadata": {},
   "source": [
    "Wir führen nun die Werte und Fehlerinformationen unserer Daten in `Measurements` zusammen."
   ]
  },
  {
   "cell_type": "code",
   "execution_count": 96,
   "metadata": {},
   "outputs": [
    {
     "data": {
      "text/plain": [
       "10-element Array{Measurement{Float64},1}:\n",
       " 1.33 ± 0.05\n",
       " 1.33 ± 0.05\n",
       " 1.33 ± 0.05\n",
       " 1.34 ± 0.05\n",
       " 1.34 ± 0.05\n",
       " 1.34 ± 0.05\n",
       " 1.37 ± 0.05\n",
       " 1.34 ± 0.05\n",
       " 1.38 ± 0.05\n",
       " 1.37 ± 0.05"
      ]
     },
     "execution_count": 96,
     "metadata": {},
     "output_type": "execute_result"
    }
   ],
   "source": [
    "mass_data = measurement.(m, Δm)"
   ]
  },
  {
   "cell_type": "code",
   "execution_count": 97,
   "metadata": {},
   "outputs": [
    {
     "data": {
      "text/plain": [
       "10-element Array{Measurement{Float64},1}:\n",
       " 7.75 ± 0.05\n",
       " 7.51 ± 0.05\n",
       " 7.41 ± 0.05\n",
       " 7.44 ± 0.05\n",
       " 7.48 ± 0.05\n",
       " 7.56 ± 0.05\n",
       "  7.3 ± 0.05\n",
       "  7.6 ± 0.05\n",
       " 7.14 ± 0.05\n",
       "  7.2 ± 0.05"
      ]
     },
     "execution_count": 97,
     "metadata": {},
     "output_type": "execute_result"
    }
   ],
   "source": [
    "T_data = measurement.(T, ΔT)"
   ]
  },
  {
   "cell_type": "code",
   "execution_count": 101,
   "metadata": {},
   "outputs": [],
   "source": [
    "using Statistics"
   ]
  },
  {
   "cell_type": "markdown",
   "metadata": {},
   "source": [
    "Links: [Statistics](https://docs.julialang.org/en/latest/stdlib/Statistics/) (Standard Library = Paket das mit Julia ausgeliefert wird (keine Installation notwendig))"
   ]
  },
  {
   "cell_type": "code",
   "execution_count": 103,
   "metadata": {},
   "outputs": [
    {
     "data": {
      "text/latex": [
       "$1.347 \\pm 0.016$"
      ],
      "text/plain": [
       "1.347 ± 0.016"
      ]
     },
     "execution_count": 103,
     "metadata": {},
     "output_type": "execute_result"
    }
   ],
   "source": [
    "mass_mean = mean(mass_data)"
   ]
  },
  {
   "cell_type": "code",
   "execution_count": 104,
   "metadata": {},
   "outputs": [
    {
     "data": {
      "text/latex": [
       "$7.439 \\pm 0.016$"
      ],
      "text/plain": [
       "7.439 ± 0.016"
      ]
     },
     "execution_count": 104,
     "metadata": {},
     "output_type": "execute_result"
    }
   ],
   "source": [
    "T_mean = mean(T_data)"
   ]
  },
  {
   "cell_type": "markdown",
   "metadata": {},
   "source": [
    "Aus `mass_mean` und `T_mean` können wir nun die Federkonstante samt Fehler bestimmen."
   ]
  },
  {
   "cell_type": "markdown",
   "metadata": {},
   "source": [
    "$T = 2\\pi\\sqrt{\\dfrac{m}{k}} \\ \\  \\Rightarrow \\ \\ k = \\left( \\dfrac{2\\pi}{T} \\right)^2 m$"
   ]
  },
  {
   "cell_type": "code",
   "execution_count": 108,
   "metadata": {},
   "outputs": [
    {
     "data": {
      "text/latex": [
       "$0.961 \\pm 0.012$"
      ],
      "text/plain": [
       "0.961 ± 0.012"
      ]
     },
     "execution_count": 108,
     "metadata": {},
     "output_type": "execute_result"
    }
   ],
   "source": [
    "k_measurement = (2 * pi / T_mean)^2 * mass_mean"
   ]
  },
  {
   "cell_type": "markdown",
   "metadata": {},
   "source": [
    "## 4. Bestimmen von $\\gamma$ (Fitten)"
   ]
  },
  {
   "cell_type": "markdown",
   "metadata": {},
   "source": [
    "Aus der exakten Lösung der Bewegungsgleichung wissen wir, dass die Amplitude die folgende Form besitzt:\n",
    "\n",
    "$\\quad A = \\dfrac{F}{\\sqrt{m^2 (\\frac{k}{m} - \\omega^2)^2 + \\gamma^2 \\omega^2}}$\n",
    "\n",
    "Bis auf die Dämpfung $\\gamma$ kennen wir alle Größen. Wir können diese Relation also an die Daten fitten und $\\gamma$ extrahieren."
   ]
  },
  {
   "cell_type": "code",
   "execution_count": 106,
   "metadata": {},
   "outputs": [],
   "source": [
    "using LsqFit # LsqFit steht für Least squares fit (Methode der kleinsten Quadrate)"
   ]
  },
  {
   "cell_type": "markdown",
   "metadata": {},
   "source": [
    "Links: [LsqFit.jl](https://github.com/JuliaNLSolvers/LsqFit.jl)"
   ]
  },
  {
   "cell_type": "code",
   "execution_count": 109,
   "metadata": {},
   "outputs": [
    {
     "data": {
      "text/plain": [
       "model (generic function with 1 method)"
      ]
     },
     "execution_count": 109,
     "metadata": {},
     "output_type": "execute_result"
    }
   ],
   "source": [
    "F = 1.69 # konstante Kraft\n",
    "m = value(mass_mean)\n",
    "k = value(k_measurement)\n",
    "\n",
    "# Model definieren\n",
    "# p = Parameter des Modells (Array)\n",
    "function model(ω, p)\n",
    "    γ = p[1]\n",
    "    @. F / sqrt(m^2 * (k / m - ω^2)^2 + γ^2 * ω^2)\n",
    "end"
   ]
  },
  {
   "cell_type": "code",
   "execution_count": 110,
   "metadata": {},
   "outputs": [
    {
     "data": {
      "text/plain": [
       "LsqFit.LsqFitResult{Array{Float64,1},Array{Float64,1},Array{Float64,2},Array{Float64,1}}([0.133724], [-0.0699642, 0.176739, -0.0189726, 0.101773, 0.0654512, -0.0228252, 0.210521, 0.0466439, -0.0115031, -0.106304  …  -0.0514871, 0.0841517, 0.131302, 0.154526, -0.0401, 0.0884876, 0.105986, 0.0774447, -0.0698119, 0.109258], [-0.826164; -0.947968; … ; -0.0918367; -0.0565458], true, Float64[])"
      ]
     },
     "execution_count": 110,
     "metadata": {},
     "output_type": "execute_result"
    }
   ],
   "source": [
    "fit = curve_fit(model, ω, A, [0.5])"
   ]
  },
  {
   "cell_type": "code",
   "execution_count": 111,
   "metadata": {},
   "outputs": [
    {
     "name": "stdout",
     "output_type": "stream",
     "text": [
      "γ = 0.13372402632840724\n",
      "γ_err = 0.0006452932270736695\n"
     ]
    }
   ],
   "source": [
    "# Ermittelte Parameter und dessen Standardfehler auslesen\n",
    "γ = coef(fit)[1]\n",
    "println(\"γ = \", γ)\n",
    "\n",
    "γ_err = stderror(fit)[1]\n",
    "println(\"γ_err = \", γ_err)"
   ]
  },
  {
   "cell_type": "markdown",
   "metadata": {},
   "source": [
    "# 5. Darstellung der Ergebnisse im $\\LaTeX$ - Look + Speichern als PDF Datei"
   ]
  },
  {
   "cell_type": "code",
   "execution_count": 112,
   "metadata": {},
   "outputs": [
    {
     "data": {
      "image/png": "[encoded data removed]",
      "text/plain": [
       "Figure(PyObject <Figure size 640x480 with 1 Axes>)"
      ]
     },
     "metadata": {},
     "output_type": "display_data"
    }
   ],
   "source": [
    "# LaTeX einschalten\n",
    "rc(\"text\", usetex=true)\n",
    "rc(\"font\", family=\"serif\")\n",
    "\n",
    "# Plot\n",
    "errorbar(ω, A, yerr=ΔA, fmt=\".\", label=\"Messdaten\")\n",
    "plot(ω, model(ω, γ), label=\"Fit\")\n",
    "\n",
    "title(\"Schwingungsamplitude vs. Motorfrequenz\")\n",
    "xlabel(L\"Motorfrequenz $\\omega$\")\n",
    "ylabel(L\"Schwingungsamplitude $A$\")\n",
    "legend()\n",
    "\n",
    "#  Als PDF Datei speichern\n",
    "savefig(\"Schwingungsamplitude.pdf\")"
   ]
  },
  {
   "cell_type": "code",
   "execution_count": null,
   "metadata": {},
   "outputs": [],
   "source": [
    "# Wir verwenden matplotlib"
   ]
  },
  {
   "cell_type": "code",
   "execution_count": null,
   "metadata": {},
   "outputs": [],
   "source": [
    "# LaTeX ausschalten\n",
    "# rc(\"text\", usetex=false)\n",
    "# rc(\"font\", family=\"sans-serif\")"
   ]
  },
  {
   "cell_type": "code",
   "execution_count": null,
   "metadata": {},
   "outputs": [],
   "source": []
  },
  {
   "cell_type": "markdown",
   "metadata": {},
   "source": [
    "# 6. Wo findet man externe Julia Pakete?"
   ]
  },
  {
   "cell_type": "markdown",
   "metadata": {},
   "source": [
    "Eine Übersicht von Paketen gibt es z.B. unter https://juliaobserver.com/ und https://pkg.julialang.org/docs/.\n",
    "\n",
    "Viele Pakete sind in sogenannten GitHub Organisationen, z.B. JuliaMath oder JuliaQuantum, zusammengefasst. Diese sind auf https://julialang.org/community/ unter *Julia GitHub Groups* gelistet.\n",
    "\n",
    "Hilfe und Informationen zu Paketen findet man auf deren Webseiten (auf github). Diese findet man z.B. indem man nach \"**Paketname jl**\" sucht.\n",
    "\n",
    "Beispiel DataFrames: https://github.com/JuliaData/DataFrames.jl"
   ]
  },
  {
   "cell_type": "code",
   "execution_count": 113,
   "metadata": {},
   "outputs": [
    {
     "data": {
      "text/html": [
       "curve_fit(model, xdata::<b>AbstractArray</b>, ydata::<b>AbstractArray</b>, p0::<b>AbstractArray</b>) in LsqFit at <a href=\"file://C:/Users/carsten/.julia/packages/LsqFit/2vmeX/src/curve_fit.jl\" target=\"_blank\">C:\\Users\\carsten\\.julia\\packages\\LsqFit\\2vmeX\\src\\curve_fit.jl:104</a>"
      ],
      "text/plain": [
       "curve_fit(model, xdata::AbstractArray, ydata::AbstractArray, p0::AbstractArray) in LsqFit at C:\\Users\\carsten\\.julia\\packages\\LsqFit\\2vmeX\\src\\curve_fit.jl:104"
      ]
     },
     "execution_count": 113,
     "metadata": {},
     "output_type": "execute_result"
    }
   ],
   "source": [
    "@which curve_fit(model, ω, A, [0.5])"
   ]
  },
  {
   "cell_type": "code",
   "execution_count": 114,
   "metadata": {},
   "outputs": [],
   "source": [
    "@edit curve_fit(model, ω, A, [0.5])"
   ]
  },
  {
   "cell_type": "code",
   "execution_count": null,
   "metadata": {},
   "outputs": [],
   "source": []
  }
 ],
 "metadata": {
  "kernelspec": {
   "display_name": "Julia 1.1.0",
   "language": "julia",
   "name": "julia-1.1"
  },
  "language_info": {
   "file_extension": ".jl",
   "mimetype": "application/julia",
   "name": "julia",
   "version": "1.1.0"
  }
 },
 "nbformat": 4,
 "nbformat_minor": 2
}
