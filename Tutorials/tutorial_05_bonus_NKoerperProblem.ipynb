{
 "cells": [
  {
   "cell_type": "markdown",
   "metadata": {},
   "source": [
    "<table style=\"width: 100%; border-style: none;\">\n",
    "<tr style=\"border-style: none\">\n",
    "<td style=\"border-style: none; width: 1%; font-size: 16px\">Institut f&uuml;r Theoretische Physik<br /> Universit&auml;t zu K&ouml;ln</td>\n",
    "<td style=\"border-style: none; width: 1%; font-size: 16px\">&nbsp;</td>\n",
    "<td style=\"border-style: none; width: 1%; text-align: right; font-size: 16px\">Prof. Dr. Simon Trebst<br /><br>M. Sc. Carsten Bauer</td>\n",
    "</tr>\n",
    "</table>\n",
    "<hr>\n",
    "<h1 style=\"font-weight:bold; text-align: center; margin: 0px; padding:0px;\">Computerphysik</h1>\n",
    "<h1 style=\"font-weight:bold; text-align: center; margin: 0px; padding:0px;\">Vorlesung &mdash; Programmiertechniken 5</h1>\n",
    "<hr>\n",
    "<h3 style=\"font-weight:bold; text-align: center; margin: 0px; padding:0px; margin-bottom: 20px;\">Sommersemester 2019</h3>\n",
    "\n",
    "**Website:** [http://www.thp.uni-koeln.de/trebst/Lectures/2019-CompPhys.shtml](http://www.thp.uni-koeln.de/trebst/Lectures/2019-CompPhys.shtml)"
   ]
  },
  {
   "cell_type": "code",
   "execution_count": null,
   "metadata": {},
   "outputs": [],
   "source": [
    "using DifferentialEquations, PyPlot"
   ]
  },
  {
   "cell_type": "markdown",
   "metadata": {},
   "source": [
    "Links: [DifferentialEquations.jl](https://github.com/JuliaDiffEq/DifferentialEquations.jl) ([Dokumentation](https://docs.juliadiffeq.org/latest/index.html))"
   ]
  },
  {
   "cell_type": "markdown",
   "metadata": {},
   "source": [
    "# Das N-Körper-Problem in 2 Dimensionen"
   ]
  },
  {
   "cell_type": "markdown",
   "metadata": {},
   "source": [
    "Wir untersuchen ein System aus $N$ Massen, die sich gravitativ nach dem Gesetz\n",
    "\\begin{equation}\n",
    "F_{ij} = -Gm_im_j\\dfrac{\\vec{r}_i - \\vec{r}_j}{r^3}\n",
    "\\end{equation}\n",
    "anziehen.\n",
    "Die Gravitationskonstante sowie alle Massen setzen wir auf $1$."
   ]
  },
  {
   "cell_type": "code",
   "execution_count": null,
   "metadata": {},
   "outputs": [],
   "source": [
    "function flow(u, p, t)\n",
    "    N = div(length(u), 4)\n",
    "    return_vec = zeros(4 * N)\n",
    "    \n",
    "    # Zerlege den Vektor\n",
    "    xs = u[1:N]\n",
    "    ys = u[N+1 : 2*N]\n",
    "    \n",
    "    v_xs = u[2 * N + 1:3 * N]        \n",
    "    v_ys = u[3 * N + 1:4 * N]\n",
    "    return_vec[1:N] = v_xs\n",
    "    return_vec[N + 1:2*N] = v_ys\n",
    "    \n",
    "    for i in 1:N\n",
    "        for j in 1:N\n",
    "            if i == j continue end\n",
    "            r = sqrt((xs[i] - xs[j])^2 + (ys[i] - ys[j])^2)\n",
    "            return_vec[2 * N + i] += - (xs[i] - xs[j]) / r^3\n",
    "            return_vec[3 * N + i] += - (ys[i] - ys[j]) / r^3\n",
    "        end\n",
    "    end\n",
    "\n",
    "    return return_vec\n",
    "end"
   ]
  },
  {
   "cell_type": "markdown",
   "metadata": {},
   "source": [
    "## 3-Körper\n",
    "\n",
    "Anfangsbedingungen:\n",
    "\n",
    "\\begin{aligned}\n",
    "\\vec{x}_1 &= (0.97000436, -0.24308753) \\\\\n",
    "\\vec{x}_2 &= - \\vec{x}_1  \\\\\n",
    "\\vec{x}_3 &= (0, 0) \n",
    "\\end{aligned}\n",
    "\n",
    "\\begin{aligned}\n",
    "\\vec{v}_1 &= ( 0.466203685, 0.43236573 )\\\\\n",
    "\\vec{v}_2 &= \\vec{v}_1\\\\\n",
    "\\vec{v}_3 &= -2\\vec{v}_1\n",
    "\\end{aligned}"
   ]
  },
  {
   "cell_type": "code",
   "execution_count": null,
   "metadata": {},
   "outputs": [],
   "source": [
    "ts = (1.0, 100)\n",
    "\n",
    "initial_xs = [0.97000436, -0.97000436, 0.]\n",
    "initial_ys = [-0.24307853, 0.24307853, 0.]\n",
    "initial_v_xs = [0.466203685, 0.466203685, -2 * 0.466203685]\n",
    "initial_v_ys = [0.43236573, 0.43236573, -2 * 0.43236573]\n",
    "initial = [initial_xs; initial_ys; initial_v_xs; initial_v_ys]\n",
    "\n",
    "prob = ODEProblem(flow, initial, ts)\n",
    "sol = solve(prob, saveat=0.005);"
   ]
  },
  {
   "cell_type": "code",
   "execution_count": null,
   "metadata": {},
   "outputs": [],
   "source": [
    "# Visualisierung\n",
    "x1s = getindex.(sol.u, 1)\n",
    "x2s = getindex.(sol.u, 2)\n",
    "x3s = getindex.(sol.u, 3)\n",
    "y1s = getindex.(sol.u, 4)\n",
    "y2s = getindex.(sol.u, 5)\n",
    "y3s = getindex.(sol.u, 6);\n",
    "\n",
    "\n",
    "fig = figure(facecolor=\"white\")\n",
    "plot(x1s, y1s, color=\"C0\", alpha=.4, linewidth=0.8)\n",
    "plot(x2s, y2s, color=\"C1\", alpha=.4, linewidth=0.8)\n",
    "plot(x3s, y3s, color=\"C2\", alpha=.4, linewidth=0.8)\n",
    "\n",
    "p1 = plot(x1s[1], y1s[1], \"o\", markeredgecolor=\"none\", markersize=20)[1]\n",
    "p2 = plot(x2s[1], y2s[1], \"o\", markeredgecolor=\"none\", markersize=20)[1]\n",
    "p3 = plot(x3s[1], y3s[1], \"o\", markeredgecolor=\"none\", markersize=20)[1]\n",
    "\n",
    "xlim([minimum([x1s; x2s; x3s]) * 1.1, maximum([x1s; x2s; x3s]) * 1.1])\n",
    "ylim([minimum([y1s; y2s; y3s]) * 1.1, maximum([y1s; y2s; y3s]) * 1.1])\n",
    "axis(\"off\")"
   ]
  },
  {
   "cell_type": "code",
   "execution_count": null,
   "metadata": {},
   "outputs": [],
   "source": [
    "# Animation\n",
    "using PyPlot, PyCall, ProgressMeter\n",
    "\n",
    "# general animation creation\n",
    "function generateAnimation(fig, update, frames, fps)\n",
    "    anim = pyimport(\"matplotlib.animation\")\n",
    "    HTML = pyimport(\"IPython.display\").HTML\n",
    "\n",
    "    # init ProgressMeter\n",
    "    progressbar = Progress(frames, 1, \"Generating animation ... \")\n",
    "\n",
    "    # animate function for creating frame i\n",
    "    function animate(i)\n",
    "        update(i)\n",
    "        ProgressMeter.update!(progressbar, i+1)\n",
    "        return (Union{})\n",
    "    end\n",
    "\n",
    "    # create animation object\n",
    "    animation = anim.FuncAnimation(fig, animate, frames=frames, interval=fps)\n",
    "    # animation.save(filename_output)\n",
    "    # close(gcf())\n",
    "    HTML(animation.to_html5_video())\n",
    "end\n",
    "\n",
    "up(i) = begin\n",
    "    i = i+1\n",
    "    p1.set_data(x1s[i], y1s[i])\n",
    "    p2.set_data(x2s[i], y2s[i])\n",
    "    p3.set_data(x3s[i], y3s[i])\n",
    "end;\n",
    "\n",
    "generateAnimation(fig, up, 1000, 2)"
   ]
  },
  {
   "cell_type": "markdown",
   "metadata": {},
   "source": [
    "Wie wir sehen können, ist das System stabil.\n",
    "\n",
    "Die mathematisch Interessierten finden die Herleitung dieses stabilen $3$-Körper-Systems in [diesem Artikel](http://arxiv.org/pdf/math/0011268.pdf) aus dem Jahre 2000."
   ]
  },
  {
   "cell_type": "markdown",
   "metadata": {},
   "source": [
    "### 4 Körper"
   ]
  },
  {
   "cell_type": "code",
   "execution_count": null,
   "metadata": {},
   "outputs": [],
   "source": [
    "ts = (1.0, 100)\n",
    "\n",
    "initial_xs = [1.382857, 0., -1.382857, 0.]\n",
    "initial_ys = [0., 0.157030, 0., -0.157030]\n",
    "initial_v_xs = [0, 1.871935, 0, -1.871935]\n",
    "initial_v_ys = [0.584873, 0., -0.584873, 0.]\n",
    "initial = [initial_xs; initial_ys; initial_v_xs; initial_v_ys]\n",
    "\n",
    "prob = ODEProblem(flow, initial, ts)\n",
    "sol = solve(prob, saveat=0.001);"
   ]
  },
  {
   "cell_type": "code",
   "execution_count": null,
   "metadata": {},
   "outputs": [],
   "source": []
  },
  {
   "cell_type": "code",
   "execution_count": null,
   "metadata": {},
   "outputs": [],
   "source": [
    "# Visualisierung\n",
    "x1s = getindex.(sol.u, 1)\n",
    "x2s = getindex.(sol.u, 2)\n",
    "x3s = getindex.(sol.u, 3)\n",
    "x4s = getindex.(sol.u, 4)\n",
    "y1s = getindex.(sol.u, 5)\n",
    "y2s = getindex.(sol.u, 6)\n",
    "y3s = getindex.(sol.u, 7);\n",
    "y4s = getindex.(sol.u, 8);\n",
    "\n",
    "fig = figure(facecolor=\"white\")\n",
    "plot(x1s[1:10000], y1s[1:10000], color=\"C0\", alpha=.4, linewidth=0.8)\n",
    "plot(x2s[1:10000], y2s[1:10000], color=\"C1\", alpha=.4, linewidth=0.8)\n",
    "plot(x3s[1:10000], y3s[1:10000], color=\"C2\", alpha=.4, linewidth=0.8)\n",
    "plot(x4s[1:10000], y4s[1:10000], color=\"C3\", alpha=.4, linewidth=0.8)\n",
    "\n",
    "p1 = plot(x1s[1], y1s[1], \"o\", markeredgecolor=\"none\", markersize=20)[1]\n",
    "p2 = plot(x2s[1], y2s[1], \"o\", markeredgecolor=\"none\", markersize=20)[1]\n",
    "p3 = plot(x3s[1], y3s[1], \"o\", markeredgecolor=\"none\", markersize=20)[1]\n",
    "p4 = plot(x4s[1], y4s[1], \"o\", markeredgecolor=\"none\", markersize=20)[1]\n",
    "\n",
    "# xlim([minimum([x1s; x2s; x3s; x4s]) * 1.1, maximum([x1s; x2s; x3s; x4s]) * 1.1])\n",
    "# ylim([minimum([y1s; y2s; y3s; y4s]) * 1.1, maximum([y1s; y2s; y3s; y4s]) * 1.1])\n",
    "axis(\"off\");"
   ]
  },
  {
   "cell_type": "code",
   "execution_count": null,
   "metadata": {},
   "outputs": [],
   "source": [
    "# Animation\n",
    "up(i) = begin\n",
    "    i = i+1\n",
    "    p1.set_data(x1s[i], y1s[i])\n",
    "    p2.set_data(x2s[i], y2s[i])\n",
    "    p3.set_data(x3s[i], y3s[i])\n",
    "    p3.set_data(x4s[i], y4s[i])\n",
    "end;\n",
    "\n",
    "generateAnimation(fig, up, 10000, 1)"
   ]
  },
  {
   "cell_type": "markdown",
   "metadata": {},
   "source": [
    "Wie wir sehen ist das System numerisch instabil. Kleine Fehler in der Integration wirken sich schnell stark aus."
   ]
  }
 ],
 "metadata": {
  "@webio": {
   "lastCommId": null,
   "lastKernelId": null
  },
  "kernelspec": {
   "display_name": "Julia 1.1.0",
   "language": "julia",
   "name": "julia-1.1"
  },
  "language_info": {
   "file_extension": ".jl",
   "mimetype": "application/julia",
   "name": "julia",
   "version": "1.1.0"
  }
 },
 "nbformat": 4,
 "nbformat_minor": 2
}
