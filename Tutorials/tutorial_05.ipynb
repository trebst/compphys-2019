{
 "cells": [
  {
   "cell_type": "markdown",
   "metadata": {},
   "source": [
    "<table style=\"width: 100%; border-style: none;\">\n",
    "<tr style=\"border-style: none\">\n",
    "<td style=\"border-style: none; width: 1%; font-size: 16px\">Institut f&uuml;r Theoretische Physik<br /> Universit&auml;t zu K&ouml;ln</td>\n",
    "<td style=\"border-style: none; width: 1%; font-size: 16px\">&nbsp;</td>\n",
    "<td style=\"border-style: none; width: 1%; text-align: right; font-size: 16px\">Prof. Dr. Simon Trebst<br /><br>M. Sc. Carsten Bauer</td>\n",
    "</tr>\n",
    "</table>\n",
    "<hr>\n",
    "<h1 style=\"font-weight:bold; text-align: center; margin: 0px; padding:0px;\">Computerphysik</h1>\n",
    "<h1 style=\"font-weight:bold; text-align: center; margin: 0px; padding:0px;\">Vorlesung &mdash; Programmiertechniken 5</h1>\n",
    "<hr>\n",
    "<h3 style=\"font-weight:bold; text-align: center; margin: 0px; padding:0px; margin-bottom: 20px;\">Sommersemester 2019</h3>\n",
    "\n",
    "**Website:** [http://www.thp.uni-koeln.de/trebst/Lectures/2019-CompPhys.shtml](http://www.thp.uni-koeln.de/trebst/Lectures/2019-CompPhys.shtml)"
   ]
  },
  {
   "cell_type": "markdown",
   "metadata": {},
   "source": [
    "<span style=\"color: red; font-weight: bold; font-size: 16pt;\">Wir werden heute ein größeres Paket benötigen, dessen Installation einige Minuten in Anspruch nimmt.\n",
    "Es ist daher empfehlenswert, die Installation jetzt gleich zu starten.</span>"
   ]
  },
  {
   "cell_type": "code",
   "execution_count": null,
   "metadata": {},
   "outputs": [],
   "source": [
    "] add DifferentialEquations"
   ]
  },
  {
   "cell_type": "code",
   "execution_count": null,
   "metadata": {},
   "outputs": [],
   "source": [
    "using DifferentialEquations"
   ]
  },
  {
   "cell_type": "markdown",
   "metadata": {},
   "source": [
    "# 0. Erinnerung letzte Vorlesung"
   ]
  },
  {
   "cell_type": "markdown",
   "metadata": {},
   "source": [
    "## Komplexität und $O$-Notation"
   ]
  },
  {
   "cell_type": "code",
   "execution_count": 3,
   "metadata": {},
   "outputs": [
    {
     "name": "stdout",
     "output_type": "stream",
     "text": [
      "  0.000009 seconds (5 allocations: 208 bytes)\n"
     ]
    },
    {
     "data": {
      "text/plain": [
       "8"
      ]
     },
     "execution_count": 3,
     "metadata": {},
     "output_type": "execute_result"
    }
   ],
   "source": [
    "@time 4+4"
   ]
  },
  {
   "cell_type": "code",
   "execution_count": 4,
   "metadata": {},
   "outputs": [
    {
     "data": {
      "text/plain": [
       "4.499e-6"
      ]
     },
     "execution_count": 4,
     "metadata": {},
     "output_type": "execute_result"
    }
   ],
   "source": [
    "@elapsed 4+4"
   ]
  },
  {
   "cell_type": "markdown",
   "metadata": {},
   "source": [
    "Bubblesort ist ein $O(N^2)$ Sortierverfahren, d.h. die Laufzeit skaliert (asymptotisch) wie $N^2$."
   ]
  },
  {
   "cell_type": "markdown",
   "metadata": {},
   "source": [
    "Julias internes `sort!` ist fast (aber nicht ganz) $O(N)$. Welches [Sortierverfahren](https://de.wikipedia.org/wiki/Sortierverfahren) verwendet Julia intern?"
   ]
  },
  {
   "cell_type": "code",
   "execution_count": 5,
   "metadata": {},
   "outputs": [
    {
     "data": {
      "text/html": [
       "sort!(v::<b>AbstractArray{T,1} where T</b>) in Base.Sort at <a href=\"https://github.com/JuliaLang/julia/tree/80516ca20297a67b996caa08c38786332379b6a5/base/sort.jl#L682\" target=\"_blank\">sort.jl:682</a>"
      ],
      "text/plain": [
       "sort!(v::AbstractArray{T,1} where T) in Base.Sort at sort.jl:682"
      ]
     },
     "execution_count": 5,
     "metadata": {},
     "output_type": "execute_result"
    }
   ],
   "source": [
    "@which sort!(rand(100))"
   ]
  },
  {
   "cell_type": "markdown",
   "metadata": {},
   "source": [
    "## Externe Pakete"
   ]
  },
  {
   "cell_type": "markdown",
   "metadata": {},
   "source": [
    "Beispiel: [Measurement.jl](https://juliaphysics.github.io/Measurements.jl/stable/)"
   ]
  },
  {
   "cell_type": "code",
   "execution_count": 6,
   "metadata": {},
   "outputs": [],
   "source": [
    "using Measurements"
   ]
  },
  {
   "cell_type": "code",
   "execution_count": 8,
   "metadata": {},
   "outputs": [
    {
     "data": {
      "text/latex": [
       "$3.2 \\pm 0.1$"
      ],
      "text/plain": [
       "3.2 ± 0.1"
      ]
     },
     "execution_count": 8,
     "metadata": {},
     "output_type": "execute_result"
    }
   ],
   "source": [
    "x = measurement(3.2, 0.1)"
   ]
  },
  {
   "cell_type": "code",
   "execution_count": 9,
   "metadata": {},
   "outputs": [
    {
     "data": {
      "text/latex": [
       "$1.0 \\pm 0.05$"
      ],
      "text/plain": [
       "1.0 ± 0.05"
      ]
     },
     "execution_count": 9,
     "metadata": {},
     "output_type": "execute_result"
    }
   ],
   "source": [
    "y = 1.0 ± 0.05"
   ]
  },
  {
   "cell_type": "code",
   "execution_count": 10,
   "metadata": {},
   "outputs": [
    {
     "data": {
      "text/latex": [
       "$3.2 \\pm 0.19$"
      ],
      "text/plain": [
       "3.2 ± 0.19"
      ]
     },
     "execution_count": 10,
     "metadata": {},
     "output_type": "execute_result"
    }
   ],
   "source": [
    "x * y"
   ]
  },
  {
   "cell_type": "markdown",
   "metadata": {},
   "source": [
    "## Standard Libraries (Pakete, die mit Julia ausgeliefert werden)"
   ]
  },
  {
   "cell_type": "code",
   "execution_count": 11,
   "metadata": {},
   "outputs": [],
   "source": [
    "using Statistics"
   ]
  },
  {
   "cell_type": "markdown",
   "metadata": {},
   "source": [
    "Links: [Statistics](https://docs.julialang.org/en/latest/stdlib/Statistics/#)"
   ]
  },
  {
   "cell_type": "code",
   "execution_count": 12,
   "metadata": {},
   "outputs": [
    {
     "data": {
      "text/plain": [
       "200-element Array{Float64,1}:\n",
       " 0.994393662094202   \n",
       " 0.08779193604037738 \n",
       " 0.4184891525018517  \n",
       " 0.20333703984953422 \n",
       " 0.22415779968999727 \n",
       " 0.6415330519581091  \n",
       " 0.753688389237934   \n",
       " 0.5510187022206741  \n",
       " 0.8592424169890989  \n",
       " 0.9209370314077547  \n",
       " 0.33554665430324637 \n",
       " 0.053051085859611824\n",
       " 0.23007672383810607 \n",
       " ⋮                   \n",
       " 0.03987067588488258 \n",
       " 0.5518873407005032  \n",
       " 0.3266460992053608  \n",
       " 0.419723851287102   \n",
       " 0.8402890086451413  \n",
       " 0.8536712543934948  \n",
       " 0.70572241852739    \n",
       " 0.3040947312861695  \n",
       " 0.5486130835841527  \n",
       " 0.428641856217469   \n",
       " 0.047712351203718306\n",
       " 0.30439792792016984 "
      ]
     },
     "execution_count": 12,
     "metadata": {},
     "output_type": "execute_result"
    }
   ],
   "source": [
    "x = rand(200)"
   ]
  },
  {
   "cell_type": "code",
   "execution_count": 13,
   "metadata": {},
   "outputs": [
    {
     "data": {
      "text/plain": [
       "0.4693033828560531"
      ]
     },
     "execution_count": 13,
     "metadata": {},
     "output_type": "execute_result"
    }
   ],
   "source": [
    "mean(x)"
   ]
  },
  {
   "cell_type": "code",
   "execution_count": 14,
   "metadata": {},
   "outputs": [
    {
     "data": {
      "text/plain": [
       "0.0787363873080993"
      ]
     },
     "execution_count": 14,
     "metadata": {},
     "output_type": "execute_result"
    }
   ],
   "source": [
    "var(x)"
   ]
  },
  {
   "cell_type": "markdown",
   "metadata": {},
   "source": [
    "# 1. Differentialgleichung lösen"
   ]
  },
  {
   "cell_type": "code",
   "execution_count": 15,
   "metadata": {},
   "outputs": [],
   "source": [
    "using DifferentialEquations"
   ]
  },
  {
   "cell_type": "markdown",
   "metadata": {},
   "source": [
    "Links: [DifferentialEquations.jl](https://github.com/JuliaDiffEq/DifferentialEquations.jl) ([Dokumentation](https://docs.juliadiffeq.org/latest/index.html))"
   ]
  },
  {
   "cell_type": "markdown",
   "metadata": {},
   "source": [
    "### Beispiel Problem: Kohlenstoffzerfall"
   ]
  },
  {
   "cell_type": "markdown",
   "metadata": {},
   "source": [
    "Der Zerfall von Kohlenstoff-14 folgt der folgenden gewöhnlichen Differentialgleichung erster Ordnung\n",
    "\n",
    "$$ \\frac{du(t)}{dt} = −c u(t) = f(u, p ,t)$$\n",
    "\n",
    "wobei $u(t)$ die Kohlenstoffkonzentration darstellt und $c=5730$ Jahre die Halbwertszeit von C14 ist."
   ]
  },
  {
   "cell_type": "markdown",
   "metadata": {},
   "source": [
    "### Allgemeine Schritte um das Problem in Julia zu lösen\n",
    "\n",
    "1. Problem definieren\n",
    "2. Problem lösen\n",
    "3. Lösung analysieren/visualisieren"
   ]
  },
  {
   "cell_type": "markdown",
   "metadata": {},
   "source": [
    "## Schritt 1: Problem definieren"
   ]
  },
  {
   "cell_type": "markdown",
   "metadata": {},
   "source": [
    "Das **Anfangswertproblem** ist charakteresiert durch\n",
    "* einen Anfangswert $u_0$,\n",
    "* eine Zeitspanne $t_{span}$ und\n",
    "* die Differentialgleichung $\\frac{du}{dt} = f(u,p,t)$."
   ]
  },
  {
   "cell_type": "code",
   "execution_count": 16,
   "metadata": {},
   "outputs": [
    {
     "data": {
      "text/plain": [
       "\u001b[36mODEProblem\u001b[0m with uType \u001b[36mFloat64\u001b[0m and tType \u001b[36mFloat64\u001b[0m. In-place: \u001b[36mfalse\u001b[0m\n",
       "timespan: (0.0, 1.0)\n",
       "u0: 1.0"
      ]
     },
     "execution_count": 16,
     "metadata": {},
     "output_type": "execute_result"
    }
   ],
   "source": [
    "# Anfangswert & Zeitspanne\n",
    "u0 = 1.0\n",
    "tspan = (0.0, 1.0)\n",
    "\n",
    "# Differentialgleichung\n",
    "f(u, p, t) = - 5.730 * u\n",
    "\n",
    "# ODE Problem\n",
    "problem = ODEProblem(f, u0, tspan)"
   ]
  },
  {
   "cell_type": "markdown",
   "metadata": {},
   "source": [
    "## Schritt 2: Problem lösen"
   ]
  },
  {
   "cell_type": "code",
   "execution_count": 17,
   "metadata": {},
   "outputs": [
    {
     "data": {
      "text/plain": [
       "retcode: Success\n",
       "Interpolation: Automatic order switching interpolation\n",
       "t: 12-element Array{Float64,1}:\n",
       " 0.0                \n",
       " 0.0497536522894885 \n",
       " 0.10705970310084381\n",
       " 0.17811921361859132\n",
       " 0.25811384814284366\n",
       " 0.34843185700982904\n",
       " 0.4465160102060756 \n",
       " 0.552035751198497  \n",
       " 0.6634798881930261 \n",
       " 0.7801928441938321 \n",
       " 0.9013306881395161 \n",
       " 1.0                \n",
       "u: 12-element Array{Float64,1}:\n",
       " 1.0                  \n",
       " 0.7519478110084717   \n",
       " 0.5414785397148167   \n",
       " 0.36037071375687324  \n",
       " 0.2278678607690813   \n",
       " 0.13580882743232403  \n",
       " 0.07741915037207427  \n",
       " 0.04229292859083828  \n",
       " 0.022333004681040325 \n",
       " 0.011442440679109465 \n",
       " 0.005715875714947843 \n",
       " 0.0032474850624780484"
      ]
     },
     "execution_count": 17,
     "metadata": {},
     "output_type": "execute_result"
    }
   ],
   "source": [
    "sol = solve(problem)"
   ]
  },
  {
   "cell_type": "markdown",
   "metadata": {},
   "source": [
    "## Schritt 3: Problem analysieren/visualisieren"
   ]
  },
  {
   "cell_type": "code",
   "execution_count": 18,
   "metadata": {},
   "outputs": [
    {
     "data": {
      "text/plain": [
       "12-element Array{Float64,1}:\n",
       " 0.0                \n",
       " 0.0497536522894885 \n",
       " 0.10705970310084381\n",
       " 0.17811921361859132\n",
       " 0.25811384814284366\n",
       " 0.34843185700982904\n",
       " 0.4465160102060756 \n",
       " 0.552035751198497  \n",
       " 0.6634798881930261 \n",
       " 0.7801928441938321 \n",
       " 0.9013306881395161 \n",
       " 1.0                "
      ]
     },
     "execution_count": 18,
     "metadata": {},
     "output_type": "execute_result"
    }
   ],
   "source": [
    "sol.t"
   ]
  },
  {
   "cell_type": "code",
   "execution_count": 19,
   "metadata": {},
   "outputs": [
    {
     "data": {
      "text/plain": [
       "12-element Array{Float64,1}:\n",
       " 1.0                  \n",
       " 0.7519478110084717   \n",
       " 0.5414785397148167   \n",
       " 0.36037071375687324  \n",
       " 0.2278678607690813   \n",
       " 0.13580882743232403  \n",
       " 0.07741915037207427  \n",
       " 0.04229292859083828  \n",
       " 0.022333004681040325 \n",
       " 0.011442440679109465 \n",
       " 0.005715875714947843 \n",
       " 0.0032474850624780484"
      ]
     },
     "execution_count": 19,
     "metadata": {},
     "output_type": "execute_result"
    }
   ],
   "source": [
    "sol.u"
   ]
  },
  {
   "cell_type": "markdown",
   "metadata": {},
   "source": [
    "Das Lösungsobjekt `sol` ist eine Funktion, die automatisch zwischen den berechneten Funktionswerten interpoliert:"
   ]
  },
  {
   "cell_type": "code",
   "execution_count": 20,
   "metadata": {},
   "outputs": [
    {
     "data": {
      "text/plain": [
       "0.0444891486453217"
      ]
     },
     "execution_count": 20,
     "metadata": {},
     "output_type": "execute_result"
    }
   ],
   "source": [
    "sol(0.5432)"
   ]
  },
  {
   "cell_type": "code",
   "execution_count": 23,
   "metadata": {},
   "outputs": [
    {
     "data": {
      "text/plain": [
       "12-element Array{Float64,1}:\n",
       " 1.0                  \n",
       " 0.7519477584296727   \n",
       " 0.5414784020389519   \n",
       " 0.36037032560224214  \n",
       " 0.22786718313851745  \n",
       " 0.13580781187404758  \n",
       " 0.077417940295537    \n",
       " 0.04229168203913233  \n",
       " 0.02233188593263336  \n",
       " 0.01144153644711691  \n",
       " 0.005715206536379227 \n",
       " 0.0032470772336105863"
      ]
     },
     "execution_count": 23,
     "metadata": {},
     "output_type": "execute_result"
    }
   ],
   "source": [
    "u = @. u0 * exp(-5.730 * sol.t)"
   ]
  },
  {
   "cell_type": "code",
   "execution_count": 25,
   "metadata": {},
   "outputs": [],
   "source": [
    "using PyPlot"
   ]
  },
  {
   "cell_type": "code",
   "execution_count": 24,
   "metadata": {},
   "outputs": [
    {
     "data": {
      "image/png": "[encoded data removed]",
      "text/plain": [
       "Figure(PyObject <Figure size 640x480 with 1 Axes>)"
      ]
     },
     "metadata": {},
     "output_type": "display_data"
    }
   ],
   "source": [
    "# Visualisierung\n",
    "plot(sol.t, u, \"--\", color=\"black\", linewidth=2, label=\"analytisch\")\n",
    "plot(sol.t, sol.u, \"o-\", color=\"red\", alpha=.7, label=\"numerisch\")\n",
    "legend()\n",
    "ylabel(\"u(t)\")\n",
    "xlabel(\"t\");"
   ]
  },
  {
   "cell_type": "markdown",
   "metadata": {},
   "source": [
    "# Einschub: DifferentialEquations.jl + Measurements.jl"
   ]
  },
  {
   "cell_type": "code",
   "execution_count": 26,
   "metadata": {},
   "outputs": [
    {
     "data": {
      "text/plain": [
       "\u001b[36mODEProblem\u001b[0m with uType \u001b[36mMeasurement{Float64}\u001b[0m and tType \u001b[36mMeasurement{Float64}\u001b[0m. In-place: \u001b[36mfalse\u001b[0m\n",
       "timespan: (0.0 ± 0.0, 1.0 ± 0.0)\n",
       "u0: 1.0 ± 0.1"
      ]
     },
     "execution_count": 26,
     "metadata": {},
     "output_type": "execute_result"
    }
   ],
   "source": [
    "# Anfangswert & Zeitspanne\n",
    "u0 = 1.0 ± 0.1\n",
    "tspan = (0.0 ± 0.0, 1.0 ± 0.0)\n",
    "\n",
    "# Differentialgleichung\n",
    "f(u,p,t) = - (5.730 ± 2) * u\n",
    "\n",
    "# ODE Problem definieren\n",
    "problem = ODEProblem(f, u0, tspan)"
   ]
  },
  {
   "cell_type": "code",
   "execution_count": 27,
   "metadata": {},
   "outputs": [
    {
     "data": {
      "image/png": "[encoded data removed]",
      "text/plain": [
       "Figure(PyObject <Figure size 640x480 with 1 Axes>)"
      ]
     },
     "metadata": {},
     "output_type": "display_data"
    }
   ],
   "source": [
    "sol = solve(problem, saveat=0.025)\n",
    "\n",
    "# analytic solution\n",
    "u = u0 .* exp.(-(5.730 ± 2) .* sol.t);\n",
    "\n",
    "# plot solution\n",
    "ts = getfield.(sol.t, :val)\n",
    "solvals = getfield.(sol, :val)\n",
    "solerrs = getfield.(sol, :err);\n",
    "\n",
    "errorbar(ts, solvals, yerr=solerrs)\n",
    "plot(ts, getfield.(u, :val), color=\"red\", lw=2)\n",
    "ylabel(\"u(t)\")\n",
    "xlabel(\"t\");"
   ]
  },
  {
   "cell_type": "markdown",
   "metadata": {},
   "source": [
    "Das Beeindruckende ist hier, dass die Autoren von DifferentialEquations.jl und Measurements.jl [nie zusammengearbeitet haben](https://discourse.julialang.org/t/differentialequations-jl-and-measurements-jl/6350). Das Feature wurde durch Julias Konstruktionsprinzip \"automatisch\" erzeugt. Mehr dazu im Workhop (siehe unten)."
   ]
  },
  {
   "cell_type": "markdown",
   "metadata": {},
   "source": [
    "# 2. Differentialgleichungen höherer Ordnungen"
   ]
  },
  {
   "cell_type": "markdown",
   "metadata": {},
   "source": [
    "### Beispiel Problem: Klassisches Pendel"
   ]
  },
  {
   "cell_type": "markdown",
   "metadata": {},
   "source": [
    "$$\n",
    "\\ddot{\\theta} + \\frac{g}{L}{\\sin(\\theta)} = 0\n",
    "$$\n",
    "\n",
    "Analytisch lösen wir diese Differentialgleichung typischerweise in der \"Kleine Winkel Näherung\", d.h. $ sin(\\theta) \\approx \\theta$, da wir sonst Elliptische Integrale erhalten die keine geschlossene analytische Lösung haben.\n",
    "\n",
    "In Julia haben wir aber numerische Integratoren zur Hand! Wieso dann nicht die volle Differentialgleichung lösen?\n",
    "\n"
   ]
  },
  {
   "cell_type": "code",
   "execution_count": 28,
   "metadata": {},
   "outputs": [
    {
     "data": {
      "text/plain": [
       "2-element Array{Float64,1}:\n",
       " 9.81\n",
       " 1.0 "
      ]
     },
     "execution_count": 28,
     "metadata": {},
     "output_type": "execute_result"
    }
   ],
   "source": [
    "# Konstanten\n",
    "g = 9.81\n",
    "L = 1.0\n",
    "\n",
    "# Anfangsbedingungen & Zeitspanne\n",
    "u0 = [pi/2, 0]\n",
    "tspan = (0.0, 6.3)\n",
    "params = [g, L]"
   ]
  },
  {
   "cell_type": "code",
   "execution_count": 29,
   "metadata": {},
   "outputs": [
    {
     "data": {
      "text/plain": [
       "pendulum! (generic function with 1 method)"
      ]
     },
     "execution_count": 29,
     "metadata": {},
     "output_type": "execute_result"
    }
   ],
   "source": [
    "function pendulum!(du, u, p, t)\n",
    "    g, L = p # Parameter \"auspacken\"\n",
    "    θ = u[1]\n",
    "    dθ = u[2]\n",
    "    \n",
    "    du[1] = dθ\n",
    "    du[2] = - (g/L) * sin(θ)\n",
    "end"
   ]
  },
  {
   "cell_type": "code",
   "execution_count": null,
   "metadata": {},
   "outputs": [],
   "source": [
    "# function pendulum(u, p, t)\n",
    "#     g, L = p # Parameter \"auspacken\"\n",
    "#     θ = u[1]\n",
    "#     dθ = u[2]\n",
    "    \n",
    "#     return [dθ, - (g/L) * sin(θ)]\n",
    "# end"
   ]
  },
  {
   "cell_type": "code",
   "execution_count": 30,
   "metadata": {},
   "outputs": [
    {
     "data": {
      "text/plain": [
       "\u001b[36mODEProblem\u001b[0m with uType \u001b[36mArray{Float64,1}\u001b[0m and tType \u001b[36mFloat64\u001b[0m. In-place: \u001b[36mtrue\u001b[0m\n",
       "timespan: (0.0, 6.3)\n",
       "u0: [1.5708, 0.0]"
      ]
     },
     "execution_count": 30,
     "metadata": {},
     "output_type": "execute_result"
    }
   ],
   "source": [
    "prob = ODEProblem(pendulum!, u0, tspan, params)"
   ]
  },
  {
   "cell_type": "code",
   "execution_count": 33,
   "metadata": {},
   "outputs": [],
   "source": [
    "sol = solve(prob, saveat=0.05);"
   ]
  },
  {
   "cell_type": "code",
   "execution_count": 34,
   "metadata": {},
   "outputs": [
    {
     "data": {
      "text/plain": [
       "10-element Array{Float64,1}:\n",
       " 0.6443312186181427 \n",
       " 0.4192211355675344 \n",
       " 0.6118341117527704 \n",
       " 0.8334953761670723 \n",
       " 0.12330572423639397\n",
       " 0.6411173842081075 \n",
       " 0.6371458802647416 \n",
       " 0.8410357474180892 \n",
       " 0.5326663036068471 \n",
       " 0.6992082405470461 "
      ]
     },
     "execution_count": 34,
     "metadata": {},
     "output_type": "execute_result"
    }
   ],
   "source": [
    "x = rand(10)"
   ]
  },
  {
   "cell_type": "code",
   "execution_count": 35,
   "metadata": {},
   "outputs": [
    {
     "data": {
      "text/plain": [
       "0.6118341117527704"
      ]
     },
     "execution_count": 35,
     "metadata": {},
     "output_type": "execute_result"
    }
   ],
   "source": [
    "# x[3] = getindex(x, 3)\n",
    "getindex.(x,3)"
   ]
  },
  {
   "cell_type": "code",
   "execution_count": 32,
   "metadata": {},
   "outputs": [
    {
     "data": {
      "image/png": "[encoded data removed]",
      "text/plain": [
       "Figure(PyObject <Figure size 640x480 with 1 Axes>)"
      ]
     },
     "metadata": {},
     "output_type": "display_data"
    }
   ],
   "source": [
    "# Visualisierung\n",
    "plot(sol.t, getindex.(sol.u, 1), \"bo-\",);\n",
    "xlabel(\"t\")\n",
    "ylabel(\"θ(t)\");"
   ]
  },
  {
   "cell_type": "code",
   "execution_count": 37,
   "metadata": {},
   "outputs": [
    {
     "data": {
      "image/png": "[encoded data removed]",
      "text/plain": [
       "Figure(PyObject <Figure size 640x480 with 1 Axes>)"
      ]
     },
     "metadata": {},
     "output_type": "display_data"
    }
   ],
   "source": [
    "figure()\n",
    "for u in sol.u\n",
    "    polar(u[1], L, \"bo\")\n",
    "end\n",
    "\n",
    "# Rotate polar plot such that zero is \"in the south\"\n",
    "gca().set_theta_zero_location(\"S\")"
   ]
  },
  {
   "cell_type": "markdown",
   "metadata": {},
   "source": [
    "# 3. Differentialgleichungssysteme: Der Lorenz-Attraktor"
   ]
  },
  {
   "cell_type": "markdown",
   "metadata": {},
   "source": [
    "Für die Simulation eines einfachen **Wetter-Modells** hat der Meteorologe Edward Lorenz 1963 eine Beschreibung von \n",
    "Luftströmungen entworfen. Dazu hat er ein Gleichungssystem von drei gekoppelten Differentialgleichungen betrachtet:\n",
    "\n",
    "$$\n",
    "\\begin{align}\n",
    "\\frac{d x}{d t} &= \\sigma(y-x) \\\\\n",
    "\\frac{d y}{d t} &= x(\\rho-z)-y \\\\\n",
    "\\frac{d z}{d t} &= x y-\\beta z\n",
    "\\end{align}\n",
    "$$\n",
    "\n",
    "Im folgenden wollen wir dieses Differentialgleichungssytem lösen."
   ]
  },
  {
   "cell_type": "code",
   "execution_count": 40,
   "metadata": {},
   "outputs": [
    {
     "data": {
      "text/plain": [
       "lorenz! (generic function with 1 method)"
      ]
     },
     "execution_count": 40,
     "metadata": {},
     "output_type": "execute_result"
    }
   ],
   "source": [
    "σ = 10.0\n",
    "ρ = 28.0\n",
    "β = 8/3\n",
    "\n",
    "params = [σ, ρ, β]\n",
    "\n",
    "function lorenz!(du,u,p,t)\n",
    "    σ, ρ, β = p\n",
    "    du[1] = σ * (u[2] - u[1])\n",
    "    du[2] = u[1] * (ρ - u[3]) - u[2]\n",
    "    du[3] = u[1] * u[2] - β * u[3]\n",
    "end"
   ]
  },
  {
   "cell_type": "code",
   "execution_count": 43,
   "metadata": {
    "scrolled": false
   },
   "outputs": [
    {
     "data": {
      "text/plain": [
       "retcode: Success\n",
       "Interpolation: 1st order linear\n",
       "t: 10001-element Array{Float64,1}:\n",
       "   0.0 \n",
       "   0.01\n",
       "   0.02\n",
       "   0.03\n",
       "   0.04\n",
       "   0.05\n",
       "   0.06\n",
       "   0.07\n",
       "   0.08\n",
       "   0.09\n",
       "   0.1 \n",
       "   0.11\n",
       "   0.12\n",
       "   ⋮   \n",
       "  99.89\n",
       "  99.9 \n",
       "  99.91\n",
       "  99.92\n",
       "  99.93\n",
       "  99.94\n",
       "  99.95\n",
       "  99.96\n",
       "  99.97\n",
       "  99.98\n",
       "  99.99\n",
       " 100.0 \n",
       "u: 10001-element Array{Array{Float64,1},1}:\n",
       " [1.0, 0.0, 0.0]                 \n",
       " [0.917924, 0.26634, 0.0012639]  \n",
       " [0.867919, 0.511741, 0.00465545]\n",
       " [0.84536, 0.744654, 0.00983587] \n",
       " [0.846806, 0.972332, 0.0167345] \n",
       " [0.869786, 1.20113, 0.0254862]  \n",
       " [0.912641, 1.43677, 0.0364012]  \n",
       " [0.974385, 1.68452, 0.0499584]  \n",
       " [1.05462, 1.9494, 0.0668157]    \n",
       " [1.15346, 2.23634, 0.08784]     \n",
       " [1.27146, 2.55025, 0.114138]    \n",
       " [1.40961, 2.89616, 0.14713]     \n",
       " [1.56929, 3.27935, 0.188616]    \n",
       " ⋮                               \n",
       " [14.5376, 9.61993, 39.5324]     \n",
       " [13.9841, 7.87141, 39.7244]     \n",
       " [13.3213, 6.20466, 39.6301]     \n",
       " [12.5693, 4.66392, 39.2822]     \n",
       " [11.7492, 3.28145, 38.7203]     \n",
       " [10.8831, 2.07757, 37.9914]     \n",
       " [9.994, 1.06053, 37.1485]       \n",
       " [9.10211, 0.22393, 36.2307]     \n",
       " [8.22359, -0.446963, 35.2669]   \n",
       " [7.37208, -0.968807, 34.2835]   \n",
       " [6.55837, -1.36029, 33.3008]    \n",
       " [5.79036, -1.64216, 32.3329]    "
      ]
     },
     "execution_count": 43,
     "metadata": {},
     "output_type": "execute_result"
    }
   ],
   "source": [
    "u0 = [1.0; 0.0; 0.0]\n",
    "\n",
    "tspan = (0.0, 100.0)\n",
    "\n",
    "prob = ODEProblem(lorenz!, u0, tspan, params)\n",
    "\n",
    "sol = solve(prob, saveat=0.01)"
   ]
  },
  {
   "cell_type": "markdown",
   "metadata": {},
   "source": [
    "Da haben wir wohl einen Fehler gemacht. Der **Stacktrace** hilft uns ihn effizient zu finden."
   ]
  },
  {
   "cell_type": "code",
   "execution_count": 46,
   "metadata": {},
   "outputs": [
    {
     "data": {
      "image/png": "[encoded data removed]",
      "text/plain": [
       "Figure(PyObject <Figure size 640x480 with 1 Axes>)"
      ]
     },
     "metadata": {},
     "output_type": "display_data"
    }
   ],
   "source": [
    "ux = getindex.(sol.u, 1) # getindex(x, i) == x[i]\n",
    "uy = getindex.(sol.u, 2)\n",
    "uz = getindex.(sol.u, 3)\n",
    "\n",
    "pygui(true)\n",
    "plot3D(ux, uy, uz);"
   ]
  },
  {
   "cell_type": "code",
   "execution_count": 45,
   "metadata": {},
   "outputs": [],
   "source": [
    "pygui(false);"
   ]
  },
  {
   "cell_type": "markdown",
   "metadata": {},
   "source": [
    "# 4. Endliche Machinenpräzision"
   ]
  },
  {
   "cell_type": "markdown",
   "metadata": {},
   "source": [
    "Wie Objekte im Computer repräsentiert werden, d.h. wie sie in Nullen und Einsen kodiert werden, ist durch ihren Typ bestimmt. Wir können den Typ einer Variable mit Hilfer der Funktion `typeof` herausfinden."
   ]
  },
  {
   "cell_type": "code",
   "execution_count": 47,
   "metadata": {},
   "outputs": [
    {
     "data": {
      "text/plain": [
       "5"
      ]
     },
     "execution_count": 47,
     "metadata": {},
     "output_type": "execute_result"
    }
   ],
   "source": [
    "a = 5"
   ]
  },
  {
   "cell_type": "code",
   "execution_count": 48,
   "metadata": {},
   "outputs": [
    {
     "data": {
      "text/plain": [
       "Int64"
      ]
     },
     "execution_count": 48,
     "metadata": {},
     "output_type": "execute_result"
    }
   ],
   "source": [
    "typeof(a)"
   ]
  },
  {
   "cell_type": "code",
   "execution_count": 49,
   "metadata": {},
   "outputs": [
    {
     "data": {
      "text/plain": [
       "\"5\""
      ]
     },
     "execution_count": 49,
     "metadata": {},
     "output_type": "execute_result"
    }
   ],
   "source": [
    "c = \"5\""
   ]
  },
  {
   "cell_type": "code",
   "execution_count": 50,
   "metadata": {},
   "outputs": [
    {
     "data": {
      "text/plain": [
       "String"
      ]
     },
     "execution_count": 50,
     "metadata": {},
     "output_type": "execute_result"
    }
   ],
   "source": [
    "typeof(c)"
   ]
  },
  {
   "cell_type": "code",
   "execution_count": 51,
   "metadata": {},
   "outputs": [
    {
     "data": {
      "text/plain": [
       "5.0"
      ]
     },
     "execution_count": 51,
     "metadata": {},
     "output_type": "execute_result"
    }
   ],
   "source": [
    "a = 5.0"
   ]
  },
  {
   "cell_type": "code",
   "execution_count": 52,
   "metadata": {},
   "outputs": [
    {
     "data": {
      "text/plain": [
       "Float64"
      ]
     },
     "execution_count": 52,
     "metadata": {},
     "output_type": "execute_result"
    }
   ],
   "source": [
    "typeof(a)"
   ]
  },
  {
   "cell_type": "code",
   "execution_count": 54,
   "metadata": {},
   "outputs": [
    {
     "data": {
      "text/plain": [
       "true"
      ]
     },
     "execution_count": 54,
     "metadata": {},
     "output_type": "execute_result"
    }
   ],
   "source": [
    "5 == 5.0 # Werte-äquivalent"
   ]
  },
  {
   "cell_type": "code",
   "execution_count": 56,
   "metadata": {},
   "outputs": [
    {
     "data": {
      "text/plain": [
       "false"
      ]
     },
     "execution_count": 56,
     "metadata": {},
     "output_type": "execute_result"
    }
   ],
   "source": [
    "5 === 5.0 # aber nicht identisch"
   ]
  },
  {
   "cell_type": "markdown",
   "metadata": {},
   "source": [
    "Julia ist eine sogenannte <b>dynamisch typisierte Sprache</b>, was bedeutet, dass Objekte ihren Typ dynamisch je nach Kontext verändern können. Zu jedem Zeitpunkt hat jedes Objekt jedoch einen bestimmten Typ."
   ]
  },
  {
   "cell_type": "code",
   "execution_count": 57,
   "metadata": {},
   "outputs": [
    {
     "name": "stdout",
     "output_type": "stream",
     "text": [
      "Int64\n",
      "String\n"
     ]
    }
   ],
   "source": [
    "a = 3\n",
    "println(typeof(a))\n",
    "\n",
    "a = \"test\"\n",
    "println(typeof(a))"
   ]
  },
  {
   "cell_type": "markdown",
   "metadata": {},
   "source": [
    "Die herkömmlichen Datentypen wie `Int64` und `Float64` stellen Zahlen durch eine endliche Anzahl von 64 Bits (Einsen und Nullen) dar. Daraus folgt direkt, dass z.B. nicht jede Fließkommazahl exakt repräsentiert werden kann."
   ]
  },
  {
   "cell_type": "code",
   "execution_count": 58,
   "metadata": {},
   "outputs": [
    {
     "data": {
      "text/plain": [
       "1.3199999999999998"
      ]
     },
     "execution_count": 58,
     "metadata": {},
     "output_type": "execute_result"
    }
   ],
   "source": [
    "1.2 + 0.12"
   ]
  },
  {
   "cell_type": "code",
   "execution_count": null,
   "metadata": {},
   "outputs": [],
   "source": [
    "x - 0.0 < 1e-12"
   ]
  },
  {
   "cell_type": "markdown",
   "metadata": {},
   "source": [
    "Ein weiterer Effekt der endlichen Repräsentation von Zahlen ist der sogenannt *Integer-Overflow*."
   ]
  },
  {
   "cell_type": "code",
   "execution_count": 59,
   "metadata": {},
   "outputs": [
    {
     "data": {
      "text/plain": [
       "9223372036854775807"
      ]
     },
     "execution_count": 59,
     "metadata": {},
     "output_type": "execute_result"
    }
   ],
   "source": [
    "x = typemax(Int64)"
   ]
  },
  {
   "cell_type": "code",
   "execution_count": 60,
   "metadata": {},
   "outputs": [
    {
     "data": {
      "text/plain": [
       "-9223372036854775808"
      ]
     },
     "execution_count": 60,
     "metadata": {},
     "output_type": "execute_result"
    }
   ],
   "source": [
    "x + 1"
   ]
  },
  {
   "cell_type": "markdown",
   "metadata": {},
   "source": [
    "In den allermeisten Fällen ist die endliche Machinenpräzision kein Problem. Falls doch kann man, auf Kosten der Laufzeit, Datentypen mit beliebiger Präzision verwenden:"
   ]
  },
  {
   "cell_type": "code",
   "execution_count": 61,
   "metadata": {},
   "outputs": [
    {
     "data": {
      "text/plain": [
       "1.200000000000000000000000000000000000000000000000000000000000000000000000000007"
      ]
     },
     "execution_count": 61,
     "metadata": {},
     "output_type": "execute_result"
    }
   ],
   "source": [
    "x = big\"1.2\""
   ]
  },
  {
   "cell_type": "code",
   "execution_count": 62,
   "metadata": {},
   "outputs": [
    {
     "data": {
      "text/plain": [
       "BigFloat"
      ]
     },
     "execution_count": 62,
     "metadata": {},
     "output_type": "execute_result"
    }
   ],
   "source": [
    "typeof(x)"
   ]
  },
  {
   "cell_type": "code",
   "execution_count": 63,
   "metadata": {},
   "outputs": [
    {
     "data": {
      "text/plain": [
       "1.320000000000000000000000000000000000000000000000000000000000000000000000000004"
      ]
     },
     "execution_count": 63,
     "metadata": {},
     "output_type": "execute_result"
    }
   ],
   "source": [
    "big\"1.2\" + big\"0.12\""
   ]
  },
  {
   "cell_type": "markdown",
   "metadata": {},
   "source": [
    "# 5. Offene Fragerunde"
   ]
  },
  {
   "cell_type": "markdown",
   "metadata": {},
   "source": [
    "Beispiele:\n",
    " * Was sind Methoden (im Unterschied zu Funktionen)?\n",
    " * Wo bekomme ich Hilfe, wenn ich Julia-Fragen habe?\n",
    " * Warum ist der erste Funktionsaufrauf besonders (langsam)?\n",
    " * Wie update/deinstalliere ich Pakete?\n",
    " * ...."
   ]
  },
  {
   "cell_type": "markdown",
   "metadata": {},
   "source": [
    "# 6. Ankündigung: Fortgeschrittener Julia Workshop"
   ]
  },
  {
   "cell_type": "markdown",
   "metadata": {},
   "source": [
    "In den Semesterferien wird ein auf der Vorlesung aufbauender **fortgeschrittener Julia Workshop** stattfinden. Weitere Informationen und eine Umfrage bzgl. Teilnahme und Themen werden gegen Ende des Semesters folgen."
   ]
  },
  {
   "cell_type": "markdown",
   "metadata": {},
   "source": [
    "<img src=\"https://sjc1.discourse-cdn.com/business5/uploads/julialang/original/2X/f/fde5f66b7e2e70279be1944c48c1e3c213842a9c.png\"></img>"
   ]
  }
 ],
 "metadata": {
  "kernelspec": {
   "display_name": "Julia 1.1.0",
   "language": "julia",
   "name": "julia-1.1"
  },
  "language_info": {
   "file_extension": ".jl",
   "mimetype": "application/julia",
   "name": "julia",
   "version": "1.1.0"
  }
 },
 "nbformat": 4,
 "nbformat_minor": 2
}
