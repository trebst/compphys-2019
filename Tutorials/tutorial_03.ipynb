{
 "cells": [
  {
   "cell_type": "markdown",
   "metadata": {},
   "source": [
    "<table style=\"width: 100%; border-style: none;\">\n",
    "<tr style=\"border-style: none\">\n",
    "<td style=\"border-style: none; width: 1%; font-size: 16px\">Institut f&uuml;r Theoretische Physik<br /> Universit&auml;t zu K&ouml;ln</td>\n",
    "<td style=\"border-style: none; width: 1%; font-size: 16px\">&nbsp;</td>\n",
    "<td style=\"border-style: none; width: 1%; text-align: right; font-size: 16px\">Prof. Dr. Simon Trebst<br /><br>M.Sc. Carsten Bauer</td>\n",
    "</tr>\n",
    "</table>\n",
    "<hr>\n",
    "<h1 style=\"font-weight:bold; text-align: center; margin: 0px; padding:0px;\">Computerphysik</h1>\n",
    "<h1 style=\"font-weight:bold; text-align: center; margin: 0px; padding:0px;\">Vorlesung &mdash; Programmiertechniken 3</h1>\n",
    "<hr>\n",
    "<h3 style=\"font-weight:bold; text-align: center; margin: 0px; padding:0px; margin-bottom: 20px;\">Sommersemester 2019</h3>\n",
    "\n",
    "**Website:** [http://www.thp.uni-koeln.de/trebst/Lectures/2019-CompPhys.shtml](http://www.thp.uni-koeln.de/trebst/Lectures/2019-CompPhys.shtml)"
   ]
  },
  {
   "cell_type": "markdown",
   "metadata": {},
   "source": [
    "# 0. Erinnerung"
   ]
  },
  {
   "cell_type": "markdown",
   "metadata": {},
   "source": [
    "## Schleifen"
   ]
  },
  {
   "cell_type": "code",
   "execution_count": 6,
   "metadata": {},
   "outputs": [
    {
     "name": "stdout",
     "output_type": "stream",
     "text": [
      "1\n",
      "2\n",
      "3\n",
      "4\n",
      "5\n",
      "6\n",
      "7\n",
      "8\n",
      "9\n",
      "10\n"
     ]
    }
   ],
   "source": [
    "for i in 1:10\n",
    "    println(i)\n",
    "end"
   ]
  },
  {
   "cell_type": "code",
   "execution_count": 7,
   "metadata": {},
   "outputs": [
    {
     "name": "stdout",
     "output_type": "stream",
     "text": [
      "1\n",
      "2\n",
      "3\n",
      "4\n",
      "5\n",
      "6\n",
      "7\n",
      "8\n",
      "9\n",
      "10\n"
     ]
    }
   ],
   "source": [
    "i = 1\n",
    "while i <= 10\n",
    "    println(i)\n",
    "    i += 1\n",
    "end"
   ]
  },
  {
   "cell_type": "markdown",
   "metadata": {},
   "source": [
    "## Verzweigungen"
   ]
  },
  {
   "cell_type": "code",
   "execution_count": 9,
   "metadata": {},
   "outputs": [
    {
     "name": "stdout",
     "output_type": "stream",
     "text": [
      "Die Variable ist größer als 10.\n"
     ]
    }
   ],
   "source": [
    "v = 11\n",
    "\n",
    "if v > 10\n",
    "    println(\"Die Variable ist größer als 10.\")\n",
    "elseif v < 5\n",
    "    println(\"Die Variable ist kleiner als 5.\")\n",
    "else\n",
    "    println(\"Die Variable ist irgendwo dazwischen.\")\n",
    "end"
   ]
  },
  {
   "cell_type": "markdown",
   "metadata": {},
   "source": [
    "## Arrays"
   ]
  },
  {
   "cell_type": "code",
   "execution_count": 10,
   "metadata": {},
   "outputs": [
    {
     "data": {
      "text/plain": [
       "6-element Array{Int64,1}:\n",
       " 5\n",
       " 1\n",
       " 8\n",
       " 9\n",
       " 3\n",
       " 7"
      ]
     },
     "execution_count": 10,
     "metadata": {},
     "output_type": "execute_result"
    }
   ],
   "source": [
    "a = [5, 1, 8, 9, 3, 7]"
   ]
  },
  {
   "cell_type": "code",
   "execution_count": 11,
   "metadata": {},
   "outputs": [
    {
     "data": {
      "text/plain": [
       "8"
      ]
     },
     "execution_count": 11,
     "metadata": {},
     "output_type": "execute_result"
    }
   ],
   "source": [
    "a[3]"
   ]
  },
  {
   "cell_type": "code",
   "execution_count": 12,
   "metadata": {},
   "outputs": [
    {
     "data": {
      "text/plain": [
       "0"
      ]
     },
     "execution_count": 12,
     "metadata": {},
     "output_type": "execute_result"
    }
   ],
   "source": [
    "a[3] = 0"
   ]
  },
  {
   "cell_type": "code",
   "execution_count": 13,
   "metadata": {},
   "outputs": [
    {
     "data": {
      "text/plain": [
       "6-element Array{Int64,1}:\n",
       " 5\n",
       " 1\n",
       " 0\n",
       " 9\n",
       " 3\n",
       " 7"
      ]
     },
     "execution_count": 13,
     "metadata": {},
     "output_type": "execute_result"
    }
   ],
   "source": [
    "a"
   ]
  },
  {
   "cell_type": "code",
   "execution_count": 14,
   "metadata": {},
   "outputs": [
    {
     "ename": "BoundsError",
     "evalue": "BoundsError: attempt to access 6-element Array{Int64,1} at index [100]",
     "output_type": "error",
     "traceback": [
      "BoundsError: attempt to access 6-element Array{Int64,1} at index [100]",
      "",
      "Stacktrace:",
      " [1] getindex(::Array{Int64,1}, ::Int64) at .\\array.jl:729",
      " [2] top-level scope at In[14]:1"
     ]
    }
   ],
   "source": [
    "a[100]"
   ]
  },
  {
   "cell_type": "code",
   "execution_count": 15,
   "metadata": {},
   "outputs": [
    {
     "data": {
      "text/plain": [
       "6"
      ]
     },
     "execution_count": 15,
     "metadata": {},
     "output_type": "execute_result"
    }
   ],
   "source": [
    "length(a)"
   ]
  },
  {
   "cell_type": "code",
   "execution_count": 1,
   "metadata": {},
   "outputs": [
    {
     "name": "stdout",
     "output_type": "stream",
     "text": [
      "search: \u001b[0m\u001b[1ml\u001b[22m\u001b[0m\u001b[1me\u001b[22m\u001b[0m\u001b[1mn\u001b[22m\u001b[0m\u001b[1mg\u001b[22m\u001b[0m\u001b[1mt\u001b[22m\u001b[0m\u001b[1mh\u001b[22m\n",
      "\n"
     ]
    },
    {
     "data": {
      "text/latex": [
       "\\begin{verbatim}\n",
       "length(collection) -> Integer\n",
       "\\end{verbatim}\n",
       "Return the number of elements in the collection.\n",
       "\n",
       "Use \\href{@ref}{\\texttt{lastindex}} to get the last valid index of an indexable collection.\n",
       "\n",
       "\\section{Examples}\n",
       "\\begin{verbatim}\n",
       "julia> length(1:5)\n",
       "5\n",
       "\n",
       "julia> length([1, 2, 3, 4])\n",
       "4\n",
       "\n",
       "julia> length([1 2; 3 4])\n",
       "4\n",
       "\\end{verbatim}\n",
       "\\rule{\\textwidth}{1pt}\n",
       "\\begin{verbatim}\n",
       "length(A::AbstractArray)\n",
       "\\end{verbatim}\n",
       "Return the number of elements in the array, defaults to \\texttt{prod(size(A))}.\n",
       "\n",
       "\\section{Examples}\n",
       "\\begin{verbatim}\n",
       "julia> length([1, 2, 3, 4])\n",
       "4\n",
       "\n",
       "julia> length([1 2; 3 4])\n",
       "4\n",
       "\\end{verbatim}\n",
       "\\rule{\\textwidth}{1pt}\n",
       "\\begin{verbatim}\n",
       "length(s::AbstractString) -> Int\n",
       "length(s::AbstractString, i::Integer, j::Integer) -> Int\n",
       "\\end{verbatim}\n",
       "The number of characters in string \\texttt{s} from indices \\texttt{i} through \\texttt{j}. This is computed as the number of code unit indices from \\texttt{i} to \\texttt{j} which are valid character indices. With only a single string argument, this computes the number of characters in the entire string. With \\texttt{i} and \\texttt{j} arguments it computes the number of indices between \\texttt{i} and \\texttt{j} inclusive that are valid indices in the string \\texttt{s}. In addition to in-bounds values, \\texttt{i} may take the out-of-bounds value \\texttt{ncodeunits(s) + 1} and \\texttt{j} may take the out-of-bounds value \\texttt{0}.\n",
       "\n",
       "See also: \\href{@ref}{\\texttt{isvalid}}, \\href{@ref}{\\texttt{ncodeunits}}, \\href{@ref}{\\texttt{lastindex}}, \\href{@ref}{\\texttt{thisind}}, \\href{@ref}{\\texttt{nextind}}, \\href{@ref}{\\texttt{prevind}}\n",
       "\n",
       "\\section{Examples}\n",
       "\\begin{verbatim}\n",
       "julia> length(\"jμΛIα\")\n",
       "5\n",
       "\\end{verbatim}\n"
      ],
      "text/markdown": [
       "```\n",
       "length(collection) -> Integer\n",
       "```\n",
       "\n",
       "Return the number of elements in the collection.\n",
       "\n",
       "Use [`lastindex`](@ref) to get the last valid index of an indexable collection.\n",
       "\n",
       "# Examples\n",
       "\n",
       "```jldoctest\n",
       "julia> length(1:5)\n",
       "5\n",
       "\n",
       "julia> length([1, 2, 3, 4])\n",
       "4\n",
       "\n",
       "julia> length([1 2; 3 4])\n",
       "4\n",
       "```\n",
       "\n",
       "---\n",
       "\n",
       "```\n",
       "length(A::AbstractArray)\n",
       "```\n",
       "\n",
       "Return the number of elements in the array, defaults to `prod(size(A))`.\n",
       "\n",
       "# Examples\n",
       "\n",
       "```jldoctest\n",
       "julia> length([1, 2, 3, 4])\n",
       "4\n",
       "\n",
       "julia> length([1 2; 3 4])\n",
       "4\n",
       "```\n",
       "\n",
       "---\n",
       "\n",
       "```\n",
       "length(s::AbstractString) -> Int\n",
       "length(s::AbstractString, i::Integer, j::Integer) -> Int\n",
       "```\n",
       "\n",
       "The number of characters in string `s` from indices `i` through `j`. This is computed as the number of code unit indices from `i` to `j` which are valid character indices. With only a single string argument, this computes the number of characters in the entire string. With `i` and `j` arguments it computes the number of indices between `i` and `j` inclusive that are valid indices in the string `s`. In addition to in-bounds values, `i` may take the out-of-bounds value `ncodeunits(s) + 1` and `j` may take the out-of-bounds value `0`.\n",
       "\n",
       "See also: [`isvalid`](@ref), [`ncodeunits`](@ref), [`lastindex`](@ref), [`thisind`](@ref), [`nextind`](@ref), [`prevind`](@ref)\n",
       "\n",
       "# Examples\n",
       "\n",
       "```jldoctest\n",
       "julia> length(\"jμΛIα\")\n",
       "5\n",
       "```\n"
      ],
      "text/plain": [
       "\u001b[36m  length(collection) -> Integer\u001b[39m\n",
       "\n",
       "  Return the number of elements in the collection.\n",
       "\n",
       "  Use \u001b[36mlastindex\u001b[39m to get the last valid index of an indexable collection.\n",
       "\n",
       "\u001b[1m  Examples\u001b[22m\n",
       "\u001b[1m  ≡≡≡≡≡≡≡≡≡≡\u001b[22m\n",
       "\n",
       "\u001b[36m  julia> length(1:5)\u001b[39m\n",
       "\u001b[36m  5\u001b[39m\n",
       "\u001b[36m  \u001b[39m\n",
       "\u001b[36m  julia> length([1, 2, 3, 4])\u001b[39m\n",
       "\u001b[36m  4\u001b[39m\n",
       "\u001b[36m  \u001b[39m\n",
       "\u001b[36m  julia> length([1 2; 3 4])\u001b[39m\n",
       "\u001b[36m  4\u001b[39m\n",
       "\n",
       "  ────────────────────────────────────────────────────────────────────────────\n",
       "\n",
       "\u001b[36m  length(A::AbstractArray)\u001b[39m\n",
       "\n",
       "  Return the number of elements in the array, defaults to \u001b[36mprod(size(A))\u001b[39m.\n",
       "\n",
       "\u001b[1m  Examples\u001b[22m\n",
       "\u001b[1m  ≡≡≡≡≡≡≡≡≡≡\u001b[22m\n",
       "\n",
       "\u001b[36m  julia> length([1, 2, 3, 4])\u001b[39m\n",
       "\u001b[36m  4\u001b[39m\n",
       "\u001b[36m  \u001b[39m\n",
       "\u001b[36m  julia> length([1 2; 3 4])\u001b[39m\n",
       "\u001b[36m  4\u001b[39m\n",
       "\n",
       "  ────────────────────────────────────────────────────────────────────────────\n",
       "\n",
       "\u001b[36m  length(s::AbstractString) -> Int\u001b[39m\n",
       "\u001b[36m  length(s::AbstractString, i::Integer, j::Integer) -> Int\u001b[39m\n",
       "\n",
       "  The number of characters in string \u001b[36ms\u001b[39m from indices \u001b[36mi\u001b[39m through \u001b[36mj\u001b[39m. This is\n",
       "  computed as the number of code unit indices from \u001b[36mi\u001b[39m to \u001b[36mj\u001b[39m which are valid\n",
       "  character indices. With only a single string argument, this computes the\n",
       "  number of characters in the entire string. With \u001b[36mi\u001b[39m and \u001b[36mj\u001b[39m arguments it\n",
       "  computes the number of indices between \u001b[36mi\u001b[39m and \u001b[36mj\u001b[39m inclusive that are valid\n",
       "  indices in the string \u001b[36ms\u001b[39m. In addition to in-bounds values, \u001b[36mi\u001b[39m may take the\n",
       "  out-of-bounds value \u001b[36mncodeunits(s) + 1\u001b[39m and \u001b[36mj\u001b[39m may take the out-of-bounds value\n",
       "  \u001b[36m0\u001b[39m.\n",
       "\n",
       "  See also: \u001b[36misvalid\u001b[39m, \u001b[36mncodeunits\u001b[39m, \u001b[36mlastindex\u001b[39m, \u001b[36mthisind\u001b[39m, \u001b[36mnextind\u001b[39m, \u001b[36mprevind\u001b[39m\n",
       "\n",
       "\u001b[1m  Examples\u001b[22m\n",
       "\u001b[1m  ≡≡≡≡≡≡≡≡≡≡\u001b[22m\n",
       "\n",
       "\u001b[36m  julia> length(\"jμΛIα\")\u001b[39m\n",
       "\u001b[36m  5\u001b[39m"
      ]
     },
     "execution_count": 1,
     "metadata": {},
     "output_type": "execute_result"
    }
   ],
   "source": [
    "?length"
   ]
  },
  {
   "cell_type": "code",
   "execution_count": 17,
   "metadata": {},
   "outputs": [
    {
     "data": {
      "text/plain": [
       "(6,)"
      ]
     },
     "execution_count": 17,
     "metadata": {},
     "output_type": "execute_result"
    }
   ],
   "source": [
    "size(a)"
   ]
  },
  {
   "cell_type": "code",
   "execution_count": 20,
   "metadata": {},
   "outputs": [
    {
     "data": {
      "text/plain": [
       "2×4×8 Array{Float64,3}:\n",
       "[:, :, 1] =\n",
       " 0.152435  0.979689  0.0074239  0.420801\n",
       " 0.354892  0.150715  0.39802    0.564168\n",
       "\n",
       "[:, :, 2] =\n",
       " 0.618326  0.546292  0.561061  0.122623\n",
       " 0.476645  0.131552  0.920055  0.241142\n",
       "\n",
       "[:, :, 3] =\n",
       " 0.952622  0.994377  0.783856  0.856578\n",
       " 0.683555  0.737067  0.144527  0.793784\n",
       "\n",
       "[:, :, 4] =\n",
       " 0.828183  0.57101    0.995672  0.589804\n",
       " 0.961323  0.0506661  0.272348  0.563574\n",
       "\n",
       "[:, :, 5] =\n",
       " 0.261386  0.466898  0.899692  0.030649\n",
       " 0.753715  0.185559  0.48811   0.743139\n",
       "\n",
       "[:, :, 6] =\n",
       " 0.736457  0.263446  0.51642   0.0545521\n",
       " 0.773255  0.647353  0.152371  0.354608 \n",
       "\n",
       "[:, :, 7] =\n",
       " 0.670055  0.797061  0.298981   0.391179\n",
       " 0.301899  0.83288   0.0433871  0.172567\n",
       "\n",
       "[:, :, 8] =\n",
       " 0.761125  0.995194  0.676004  0.459685\n",
       " 0.234348  0.507026  0.111185  0.740016"
      ]
     },
     "execution_count": 20,
     "metadata": {},
     "output_type": "execute_result"
    }
   ],
   "source": [
    "Y = rand(2,4,8)"
   ]
  },
  {
   "cell_type": "code",
   "execution_count": 21,
   "metadata": {},
   "outputs": [
    {
     "data": {
      "text/plain": [
       "(2, 4, 8)"
      ]
     },
     "execution_count": 21,
     "metadata": {},
     "output_type": "execute_result"
    }
   ],
   "source": [
    "size(Y)"
   ]
  },
  {
   "cell_type": "code",
   "execution_count": 18,
   "metadata": {},
   "outputs": [
    {
     "data": {
      "text/plain": [
       "2×2 Array{Float64,2}:\n",
       " 0.409139  0.590969\n",
       " 0.776841  0.329583"
      ]
     },
     "execution_count": 18,
     "metadata": {},
     "output_type": "execute_result"
    }
   ],
   "source": [
    "X = rand(2,2)"
   ]
  },
  {
   "cell_type": "code",
   "execution_count": 19,
   "metadata": {},
   "outputs": [
    {
     "data": {
      "text/plain": [
       "(2, 2)"
      ]
     },
     "execution_count": 19,
     "metadata": {},
     "output_type": "execute_result"
    }
   ],
   "source": [
    "size(X)"
   ]
  },
  {
   "cell_type": "code",
   "execution_count": 22,
   "metadata": {},
   "outputs": [
    {
     "data": {
      "text/plain": [
       "2×2 Array{Float64,2}:\n",
       " 0.739909  0.0670009\n",
       " 0.997385  0.708088 "
      ]
     },
     "execution_count": 22,
     "metadata": {},
     "output_type": "execute_result"
    }
   ],
   "source": [
    "M = rand(2,2)"
   ]
  },
  {
   "cell_type": "code",
   "execution_count": 23,
   "metadata": {},
   "outputs": [
    {
     "data": {
      "text/plain": [
       "2×2 Array{Float64,2}:\n",
       " 0.354775  0.459345\n",
       " 0.958141  0.822797"
      ]
     },
     "execution_count": 23,
     "metadata": {},
     "output_type": "execute_result"
    }
   ],
   "source": [
    "M * X # Matrix Multiplikation"
   ]
  },
  {
   "cell_type": "code",
   "execution_count": 24,
   "metadata": {},
   "outputs": [
    {
     "data": {
      "text/plain": [
       "2×2 Array{Float64,2}:\n",
       " 0.302726  0.0395955\n",
       " 0.77481   0.233374 "
      ]
     },
     "execution_count": 24,
     "metadata": {},
     "output_type": "execute_result"
    }
   ],
   "source": [
    "M .* X # Elementweise Multiplikation"
   ]
  },
  {
   "cell_type": "markdown",
   "metadata": {},
   "source": [
    "## Funktionen"
   ]
  },
  {
   "cell_type": "code",
   "execution_count": 25,
   "metadata": {},
   "outputs": [
    {
     "data": {
      "text/plain": [
       "quadrat (generic function with 1 method)"
      ]
     },
     "execution_count": 25,
     "metadata": {},
     "output_type": "execute_result"
    }
   ],
   "source": [
    "quadrat(x) = x^2"
   ]
  },
  {
   "cell_type": "code",
   "execution_count": 26,
   "metadata": {},
   "outputs": [
    {
     "data": {
      "text/plain": [
       "9"
      ]
     },
     "execution_count": 26,
     "metadata": {},
     "output_type": "execute_result"
    }
   ],
   "source": [
    "quadrat(3)"
   ]
  },
  {
   "cell_type": "code",
   "execution_count": 27,
   "metadata": {},
   "outputs": [
    {
     "data": {
      "text/plain": [
       "-2.0:0.04040404040404041:2.0"
      ]
     },
     "execution_count": 27,
     "metadata": {},
     "output_type": "execute_result"
    }
   ],
   "source": [
    "x = range(-2, stop=2, length=100)"
   ]
  },
  {
   "cell_type": "code",
   "execution_count": 30,
   "metadata": {},
   "outputs": [
    {
     "data": {
      "text/plain": [
       "100-element Array{Float64,1}:\n",
       " 4.0               \n",
       " 3.8400163248648096\n",
       " 3.683297622691562 \n",
       " 3.5298438934802574\n",
       " 3.379655137230895 \n",
       " 3.232731353943475 \n",
       " 3.089072543617998 \n",
       " 2.9486787062544635\n",
       " 2.8115498418528717\n",
       " 2.6776859504132235\n",
       " 2.5470870319355168\n",
       " 2.419753086419753 \n",
       " 2.295684113865932 \n",
       " ⋮                 \n",
       " 2.419753086419753 \n",
       " 2.5470870319355168\n",
       " 2.6776859504132235\n",
       " 2.8115498418528717\n",
       " 2.9486787062544635\n",
       " 3.089072543617998 \n",
       " 3.232731353943475 \n",
       " 3.379655137230895 \n",
       " 3.5298438934802574\n",
       " 3.683297622691562 \n",
       " 3.8400163248648096\n",
       " 4.0               "
      ]
     },
     "execution_count": 30,
     "metadata": {},
     "output_type": "execute_result"
    }
   ],
   "source": [
    "y = quadrat.(x)"
   ]
  },
  {
   "cell_type": "markdown",
   "metadata": {},
   "source": [
    "## Plots"
   ]
  },
  {
   "cell_type": "code",
   "execution_count": 29,
   "metadata": {},
   "outputs": [],
   "source": [
    "using PyPlot"
   ]
  },
  {
   "cell_type": "code",
   "execution_count": 31,
   "metadata": {},
   "outputs": [
    {
     "data": {
      "image/png": "[encoded data removed]",
      "text/plain": [
       "Figure(PyObject <Figure size 640x480 with 1 Axes>)"
      ]
     },
     "metadata": {},
     "output_type": "display_data"
    },
    {
     "data": {
      "text/plain": [
       "1-element Array{PyCall.PyObject,1}:\n",
       " PyObject <matplotlib.lines.Line2D object at 0x0000000002284400>"
      ]
     },
     "execution_count": 31,
     "metadata": {},
     "output_type": "execute_result"
    }
   ],
   "source": [
    "plot(x,y)"
   ]
  },
  {
   "cell_type": "code",
   "execution_count": null,
   "metadata": {},
   "outputs": [],
   "source": []
  },
  {
   "cell_type": "markdown",
   "metadata": {},
   "source": [
    "# 1. Funktionen (cont'd)"
   ]
  },
  {
   "cell_type": "markdown",
   "metadata": {},
   "source": [
    "**Mehrzeilige Funktionen**"
   ]
  },
  {
   "cell_type": "code",
   "execution_count": 32,
   "metadata": {},
   "outputs": [
    {
     "data": {
      "text/plain": [
       "shortfunc (generic function with 1 method)"
      ]
     },
     "execution_count": 32,
     "metadata": {},
     "output_type": "execute_result"
    }
   ],
   "source": [
    "shortfunc(x) = 2x + 3"
   ]
  },
  {
   "cell_type": "code",
   "execution_count": 33,
   "metadata": {},
   "outputs": [
    {
     "data": {
      "text/plain": [
       "7"
      ]
     },
     "execution_count": 33,
     "metadata": {},
     "output_type": "execute_result"
    }
   ],
   "source": [
    "shortfunc(2)"
   ]
  },
  {
   "cell_type": "code",
   "execution_count": 34,
   "metadata": {},
   "outputs": [
    {
     "data": {
      "text/plain": [
       "shortfunc2 (generic function with 1 method)"
      ]
     },
     "execution_count": 34,
     "metadata": {},
     "output_type": "execute_result"
    }
   ],
   "source": [
    "function shortfunc2(x)\n",
    "    2x + 3\n",
    "end"
   ]
  },
  {
   "cell_type": "code",
   "execution_count": 35,
   "metadata": {},
   "outputs": [
    {
     "data": {
      "text/plain": [
       "7"
      ]
     },
     "execution_count": 35,
     "metadata": {},
     "output_type": "execute_result"
    }
   ],
   "source": [
    "shortfunc2(2)"
   ]
  },
  {
   "cell_type": "code",
   "execution_count": 36,
   "metadata": {},
   "outputs": [
    {
     "data": {
      "text/plain": [
       "longfunc (generic function with 1 method)"
      ]
     },
     "execution_count": 36,
     "metadata": {},
     "output_type": "execute_result"
    }
   ],
   "source": [
    "function longfunc(x)\n",
    "    a = 2x\n",
    "    a + 3\n",
    "end"
   ]
  },
  {
   "cell_type": "code",
   "execution_count": 37,
   "metadata": {},
   "outputs": [
    {
     "data": {
      "text/plain": [
       "7"
      ]
     },
     "execution_count": 37,
     "metadata": {},
     "output_type": "execute_result"
    }
   ],
   "source": [
    "longfunc(2)"
   ]
  },
  {
   "cell_type": "markdown",
   "metadata": {},
   "source": [
    "Eine Funktion *returned* automatisch den Wert der letzten Zeile. Oft ist es besser explizit anzugeben, was zurückgegeben wird."
   ]
  },
  {
   "cell_type": "code",
   "execution_count": 38,
   "metadata": {},
   "outputs": [
    {
     "data": {
      "text/plain": [
       "longfunc2 (generic function with 1 method)"
      ]
     },
     "execution_count": 38,
     "metadata": {},
     "output_type": "execute_result"
    }
   ],
   "source": [
    "function longfunc2(x)\n",
    "    a = 2x\n",
    "    return a + 3\n",
    "end"
   ]
  },
  {
   "cell_type": "code",
   "execution_count": 39,
   "metadata": {},
   "outputs": [
    {
     "data": {
      "text/plain": [
       "7"
      ]
     },
     "execution_count": 39,
     "metadata": {},
     "output_type": "execute_result"
    }
   ],
   "source": [
    "longfunc2(2)"
   ]
  },
  {
   "cell_type": "code",
   "execution_count": 40,
   "metadata": {},
   "outputs": [
    {
     "data": {
      "text/plain": [
       "longfunc3 (generic function with 1 method)"
      ]
     },
     "execution_count": 40,
     "metadata": {},
     "output_type": "execute_result"
    }
   ],
   "source": [
    "function longfunc3(x)\n",
    "    a = 2x\n",
    "    return a + 3\n",
    "    4 + 4\n",
    "end"
   ]
  },
  {
   "cell_type": "code",
   "execution_count": 41,
   "metadata": {},
   "outputs": [
    {
     "data": {
      "text/plain": [
       "7"
      ]
     },
     "execution_count": 41,
     "metadata": {},
     "output_type": "execute_result"
    }
   ],
   "source": [
    "longfunc3(2)"
   ]
  },
  {
   "cell_type": "code",
   "execution_count": null,
   "metadata": {},
   "outputs": [],
   "source": [
    "function machtwasanderes(x)\n",
    "    if x > 10\n",
    "        println(\"x > 10\")\n",
    "        return 1\n",
    "    else\n",
    "        println(\"x <= 10\")\n",
    "        return 0\n",
    "    end\n",
    "end"
   ]
  },
  {
   "cell_type": "markdown",
   "metadata": {},
   "source": [
    "**Mehrere Rückgabewerte**"
   ]
  },
  {
   "cell_type": "code",
   "execution_count": 42,
   "metadata": {},
   "outputs": [
    {
     "data": {
      "text/plain": [
       "longfunc_multiple (generic function with 1 method)"
      ]
     },
     "execution_count": 42,
     "metadata": {},
     "output_type": "execute_result"
    }
   ],
   "source": [
    "function longfunc_multiple(x)\n",
    "    a = 2x\n",
    "    b = a + 3\n",
    "    return a, b\n",
    "end"
   ]
  },
  {
   "cell_type": "code",
   "execution_count": 43,
   "metadata": {},
   "outputs": [
    {
     "data": {
      "text/plain": [
       "(4, 7)"
      ]
     },
     "execution_count": 43,
     "metadata": {},
     "output_type": "execute_result"
    }
   ],
   "source": [
    "longfunc_multiple(2)"
   ]
  },
  {
   "cell_type": "code",
   "execution_count": 44,
   "metadata": {},
   "outputs": [
    {
     "data": {
      "text/plain": [
       "(4, 7)"
      ]
     },
     "execution_count": 44,
     "metadata": {},
     "output_type": "execute_result"
    }
   ],
   "source": [
    "a, b = longfunc_multiple(2)"
   ]
  },
  {
   "cell_type": "code",
   "execution_count": 45,
   "metadata": {},
   "outputs": [
    {
     "data": {
      "text/plain": [
       "4"
      ]
     },
     "execution_count": 45,
     "metadata": {},
     "output_type": "execute_result"
    }
   ],
   "source": [
    "a"
   ]
  },
  {
   "cell_type": "code",
   "execution_count": 46,
   "metadata": {},
   "outputs": [
    {
     "data": {
      "text/plain": [
       "7"
      ]
     },
     "execution_count": 46,
     "metadata": {},
     "output_type": "execute_result"
    }
   ],
   "source": [
    "b"
   ]
  },
  {
   "cell_type": "code",
   "execution_count": 47,
   "metadata": {},
   "outputs": [
    {
     "data": {
      "text/plain": [
       "(4, 7)"
      ]
     },
     "execution_count": 47,
     "metadata": {},
     "output_type": "execute_result"
    }
   ],
   "source": [
    "c = longfunc_multiple(2)"
   ]
  },
  {
   "cell_type": "code",
   "execution_count": 48,
   "metadata": {},
   "outputs": [
    {
     "data": {
      "text/plain": [
       "4"
      ]
     },
     "execution_count": 48,
     "metadata": {},
     "output_type": "execute_result"
    }
   ],
   "source": [
    "c[1]"
   ]
  },
  {
   "cell_type": "code",
   "execution_count": 49,
   "metadata": {},
   "outputs": [
    {
     "data": {
      "text/plain": [
       "7"
      ]
     },
     "execution_count": 49,
     "metadata": {},
     "output_type": "execute_result"
    }
   ],
   "source": [
    "c[2]"
   ]
  },
  {
   "cell_type": "code",
   "execution_count": 50,
   "metadata": {},
   "outputs": [
    {
     "data": {
      "text/plain": [
       "(6, 9)"
      ]
     },
     "execution_count": 50,
     "metadata": {},
     "output_type": "execute_result"
    }
   ],
   "source": [
    "d, e = longfunc_multiple(3)"
   ]
  },
  {
   "cell_type": "markdown",
   "metadata": {},
   "source": [
    "**Globale und lokale Variablen**"
   ]
  },
  {
   "cell_type": "markdown",
   "metadata": {},
   "source": [
    "Eine Funktion sollte *autonom* sein und nur mit den Eingabeparametern arbeiten."
   ]
  },
  {
   "cell_type": "code",
   "execution_count": 51,
   "metadata": {},
   "outputs": [
    {
     "data": {
      "text/plain": [
       "f (generic function with 1 method)"
      ]
     },
     "execution_count": 51,
     "metadata": {},
     "output_type": "execute_result"
    }
   ],
   "source": [
    "function f(x)\n",
    "    2x + 3\n",
    "end"
   ]
  },
  {
   "cell_type": "code",
   "execution_count": 52,
   "metadata": {},
   "outputs": [
    {
     "data": {
      "text/plain": [
       "13"
      ]
     },
     "execution_count": 52,
     "metadata": {},
     "output_type": "execute_result"
    }
   ],
   "source": [
    "f(5)"
   ]
  },
  {
   "cell_type": "code",
   "execution_count": 53,
   "metadata": {},
   "outputs": [
    {
     "data": {
      "text/plain": [
       "7"
      ]
     },
     "execution_count": 53,
     "metadata": {},
     "output_type": "execute_result"
    }
   ],
   "source": [
    "# Schlecht!!!!!!!!!!\n",
    "\n",
    "x = 2\n",
    "\n",
    "function f()\n",
    "    2x + 3\n",
    "end\n",
    "\n",
    "f()"
   ]
  },
  {
   "cell_type": "markdown",
   "metadata": {},
   "source": [
    "**Übung: Elemente in einem Array vertauschen**"
   ]
  },
  {
   "cell_type": "code",
   "execution_count": 54,
   "metadata": {},
   "outputs": [
    {
     "data": {
      "text/plain": [
       "swap (generic function with 1 method)"
      ]
     },
     "execution_count": 54,
     "metadata": {},
     "output_type": "execute_result"
    }
   ],
   "source": [
    "function swap(a, i, j)\n",
    "    tmp = a[i]\n",
    "    a[i] = a[j]\n",
    "    a[j] = tmp\n",
    "    return a\n",
    "end"
   ]
  },
  {
   "cell_type": "code",
   "execution_count": 55,
   "metadata": {},
   "outputs": [
    {
     "data": {
      "text/plain": [
       "10-element Array{Int64,1}:\n",
       "  1\n",
       "  2\n",
       "  3\n",
       "  4\n",
       "  5\n",
       "  6\n",
       "  7\n",
       "  8\n",
       "  9\n",
       " 10"
      ]
     },
     "execution_count": 55,
     "metadata": {},
     "output_type": "execute_result"
    }
   ],
   "source": [
    "a = collect(1:10)"
   ]
  },
  {
   "cell_type": "code",
   "execution_count": 56,
   "metadata": {},
   "outputs": [
    {
     "data": {
      "text/plain": [
       "10-element Array{Int64,1}:\n",
       "  1\n",
       "  2\n",
       "  3\n",
       "  4\n",
       "  5\n",
       " 10\n",
       "  7\n",
       "  8\n",
       "  9\n",
       "  6"
      ]
     },
     "execution_count": 56,
     "metadata": {},
     "output_type": "execute_result"
    }
   ],
   "source": [
    "swap(a, 6, 10)"
   ]
  },
  {
   "cell_type": "code",
   "execution_count": 57,
   "metadata": {},
   "outputs": [
    {
     "data": {
      "text/plain": [
       "10-element Array{Int64,1}:\n",
       "  1\n",
       "  2\n",
       "  3\n",
       "  4\n",
       "  5\n",
       " 10\n",
       "  7\n",
       "  8\n",
       "  9\n",
       "  6"
      ]
     },
     "execution_count": 57,
     "metadata": {},
     "output_type": "execute_result"
    }
   ],
   "source": [
    "a"
   ]
  },
  {
   "cell_type": "markdown",
   "metadata": {},
   "source": [
    "In Julia gibt es die Konvention, dass Funktionen die mindestens eines ihrer Funktionsargumente modifizieren, mit einem Ausrufezeichen am Ende versehen werden."
   ]
  },
  {
   "cell_type": "code",
   "execution_count": 58,
   "metadata": {},
   "outputs": [
    {
     "data": {
      "text/plain": [
       "swap! (generic function with 1 method)"
      ]
     },
     "execution_count": 58,
     "metadata": {},
     "output_type": "execute_result"
    }
   ],
   "source": [
    "function swap!(a, i, j)\n",
    "    tmp = a[i]\n",
    "    a[i] = a[j]\n",
    "    a[j] = tmp\n",
    "    return a\n",
    "end"
   ]
  },
  {
   "cell_type": "code",
   "execution_count": 59,
   "metadata": {},
   "outputs": [
    {
     "data": {
      "text/plain": [
       "10-element Array{Int64,1}:\n",
       "  1\n",
       "  3\n",
       "  2\n",
       "  4\n",
       "  5\n",
       " 10\n",
       "  7\n",
       "  8\n",
       "  9\n",
       "  6"
      ]
     },
     "execution_count": 59,
     "metadata": {},
     "output_type": "execute_result"
    }
   ],
   "source": [
    "swap!(a, 2,3)"
   ]
  },
  {
   "cell_type": "code",
   "execution_count": 60,
   "metadata": {},
   "outputs": [
    {
     "data": {
      "text/plain": [
       "10-element Array{Int64,1}:\n",
       "  1\n",
       "  3\n",
       "  2\n",
       "  4\n",
       "  5\n",
       " 10\n",
       "  7\n",
       "  8\n",
       "  9\n",
       "  6"
      ]
     },
     "execution_count": 60,
     "metadata": {},
     "output_type": "execute_result"
    }
   ],
   "source": [
    "a"
   ]
  },
  {
   "cell_type": "code",
   "execution_count": 61,
   "metadata": {},
   "outputs": [
    {
     "data": {
      "text/plain": [
       "false"
      ]
     },
     "execution_count": 61,
     "metadata": {},
     "output_type": "execute_result"
    }
   ],
   "source": [
    "issorted(a)"
   ]
  },
  {
   "cell_type": "code",
   "execution_count": 62,
   "metadata": {},
   "outputs": [
    {
     "data": {
      "text/plain": [
       "10-element Array{Int64,1}:\n",
       "  1\n",
       "  2\n",
       "  3\n",
       "  4\n",
       "  5\n",
       "  6\n",
       "  7\n",
       "  8\n",
       "  9\n",
       " 10"
      ]
     },
     "execution_count": 62,
     "metadata": {},
     "output_type": "execute_result"
    }
   ],
   "source": [
    "sort(a)"
   ]
  },
  {
   "cell_type": "code",
   "execution_count": 63,
   "metadata": {},
   "outputs": [
    {
     "data": {
      "text/plain": [
       "10-element Array{Int64,1}:\n",
       "  1\n",
       "  3\n",
       "  2\n",
       "  4\n",
       "  5\n",
       " 10\n",
       "  7\n",
       "  8\n",
       "  9\n",
       "  6"
      ]
     },
     "execution_count": 63,
     "metadata": {},
     "output_type": "execute_result"
    }
   ],
   "source": [
    "a"
   ]
  },
  {
   "cell_type": "code",
   "execution_count": 64,
   "metadata": {},
   "outputs": [
    {
     "data": {
      "text/plain": [
       "10-element Array{Int64,1}:\n",
       "  1\n",
       "  2\n",
       "  3\n",
       "  4\n",
       "  5\n",
       "  6\n",
       "  7\n",
       "  8\n",
       "  9\n",
       " 10"
      ]
     },
     "execution_count": 64,
     "metadata": {},
     "output_type": "execute_result"
    }
   ],
   "source": [
    "sort!(a)"
   ]
  },
  {
   "cell_type": "code",
   "execution_count": 65,
   "metadata": {},
   "outputs": [
    {
     "data": {
      "text/plain": [
       "10-element Array{Int64,1}:\n",
       "  1\n",
       "  2\n",
       "  3\n",
       "  4\n",
       "  5\n",
       "  6\n",
       "  7\n",
       "  8\n",
       "  9\n",
       " 10"
      ]
     },
     "execution_count": 65,
     "metadata": {},
     "output_type": "execute_result"
    }
   ],
   "source": [
    "a"
   ]
  },
  {
   "cell_type": "code",
   "execution_count": 70,
   "metadata": {},
   "outputs": [
    {
     "data": {
      "text/plain": [
       "2×2 Array{Float64,2}:\n",
       " 0.080248  0.76882  \n",
       " 0.416823  0.0826709"
      ]
     },
     "execution_count": 70,
     "metadata": {},
     "output_type": "execute_result"
    }
   ],
   "source": [
    "a = rand(2,2)"
   ]
  },
  {
   "cell_type": "code",
   "execution_count": 71,
   "metadata": {},
   "outputs": [
    {
     "data": {
      "text/plain": [
       "2×2 Array{Float64,2}:\n",
       " 0.080248  0.76882  \n",
       " 0.416823  0.0826709"
      ]
     },
     "execution_count": 71,
     "metadata": {},
     "output_type": "execute_result"
    }
   ],
   "source": [
    "b = a"
   ]
  },
  {
   "cell_type": "code",
   "execution_count": 72,
   "metadata": {},
   "outputs": [
    {
     "data": {
      "text/plain": [
       "123"
      ]
     },
     "execution_count": 72,
     "metadata": {},
     "output_type": "execute_result"
    }
   ],
   "source": [
    "b[1] = 123"
   ]
  },
  {
   "cell_type": "code",
   "execution_count": 73,
   "metadata": {},
   "outputs": [
    {
     "data": {
      "text/plain": [
       "2×2 Array{Float64,2}:\n",
       " 123.0       0.76882  \n",
       "   0.416823  0.0826709"
      ]
     },
     "execution_count": 73,
     "metadata": {},
     "output_type": "execute_result"
    }
   ],
   "source": [
    "b"
   ]
  },
  {
   "cell_type": "code",
   "execution_count": 74,
   "metadata": {},
   "outputs": [
    {
     "data": {
      "text/plain": [
       "2×2 Array{Float64,2}:\n",
       " 123.0       0.76882  \n",
       "   0.416823  0.0826709"
      ]
     },
     "execution_count": 74,
     "metadata": {},
     "output_type": "execute_result"
    }
   ],
   "source": [
    "a"
   ]
  },
  {
   "cell_type": "code",
   "execution_count": 66,
   "metadata": {},
   "outputs": [
    {
     "data": {
      "text/plain": [
       "swap (generic function with 1 method)"
      ]
     },
     "execution_count": 66,
     "metadata": {},
     "output_type": "execute_result"
    }
   ],
   "source": [
    "function swap(b, i, j)\n",
    "    a = copy(b)\n",
    "    tmp = a[i]\n",
    "    a[i] = a[j]\n",
    "    a[j] = tmp\n",
    "    return a\n",
    "end"
   ]
  },
  {
   "cell_type": "code",
   "execution_count": 67,
   "metadata": {},
   "outputs": [
    {
     "data": {
      "text/plain": [
       "10-element Array{Int64,1}:\n",
       "  1\n",
       "  2\n",
       "  3\n",
       "  4\n",
       "  5\n",
       "  6\n",
       "  7\n",
       "  8\n",
       "  9\n",
       " 10"
      ]
     },
     "execution_count": 67,
     "metadata": {},
     "output_type": "execute_result"
    }
   ],
   "source": [
    "a"
   ]
  },
  {
   "cell_type": "code",
   "execution_count": 68,
   "metadata": {},
   "outputs": [
    {
     "data": {
      "text/plain": [
       "10-element Array{Int64,1}:\n",
       "  1\n",
       "  2\n",
       "  7\n",
       "  4\n",
       "  5\n",
       "  6\n",
       "  3\n",
       "  8\n",
       "  9\n",
       " 10"
      ]
     },
     "execution_count": 68,
     "metadata": {},
     "output_type": "execute_result"
    }
   ],
   "source": [
    "swap(a, 3, 7)"
   ]
  },
  {
   "cell_type": "code",
   "execution_count": 69,
   "metadata": {},
   "outputs": [
    {
     "data": {
      "text/plain": [
       "10-element Array{Int64,1}:\n",
       "  1\n",
       "  2\n",
       "  3\n",
       "  4\n",
       "  5\n",
       "  6\n",
       "  7\n",
       "  8\n",
       "  9\n",
       " 10"
      ]
     },
     "execution_count": 69,
     "metadata": {},
     "output_type": "execute_result"
    }
   ],
   "source": [
    "a"
   ]
  },
  {
   "cell_type": "markdown",
   "metadata": {},
   "source": [
    "# 2. Selbst sortieren: BubbleSort"
   ]
  },
  {
   "cell_type": "markdown",
   "metadata": {},
   "source": [
    "\"Größte Elemente steigen nacheinander ans Ende des Arrays auf\""
   ]
  },
  {
   "cell_type": "code",
   "execution_count": 78,
   "metadata": {},
   "outputs": [
    {
     "data": {
      "text/plain": [
       "10-element Array{Int64,1}:\n",
       "  1\n",
       "  2\n",
       "  3\n",
       "  4\n",
       "  5\n",
       "  6\n",
       "  7\n",
       "  8\n",
       "  9\n",
       " 10"
      ]
     },
     "execution_count": 78,
     "metadata": {},
     "output_type": "execute_result"
    }
   ],
   "source": [
    "collect(1:10) # start:ende"
   ]
  },
  {
   "cell_type": "code",
   "execution_count": 79,
   "metadata": {},
   "outputs": [
    {
     "data": {
      "text/plain": [
       "91-element Array{Float64,1}:\n",
       "  1.0\n",
       "  1.1\n",
       "  1.2\n",
       "  1.3\n",
       "  1.4\n",
       "  1.5\n",
       "  1.6\n",
       "  1.7\n",
       "  1.8\n",
       "  1.9\n",
       "  2.0\n",
       "  2.1\n",
       "  2.2\n",
       "  ⋮  \n",
       "  8.9\n",
       "  9.0\n",
       "  9.1\n",
       "  9.2\n",
       "  9.3\n",
       "  9.4\n",
       "  9.5\n",
       "  9.6\n",
       "  9.7\n",
       "  9.8\n",
       "  9.9\n",
       " 10.0"
      ]
     },
     "execution_count": 79,
     "metadata": {},
     "output_type": "execute_result"
    }
   ],
   "source": [
    "collect(1:0.1:10) # start:schrittweite:ende"
   ]
  },
  {
   "cell_type": "code",
   "execution_count": 80,
   "metadata": {},
   "outputs": [
    {
     "data": {
      "text/plain": [
       "10-element Array{Int64,1}:\n",
       " 10\n",
       "  9\n",
       "  8\n",
       "  7\n",
       "  6\n",
       "  5\n",
       "  4\n",
       "  3\n",
       "  2\n",
       "  1"
      ]
     },
     "execution_count": 80,
     "metadata": {},
     "output_type": "execute_result"
    }
   ],
   "source": [
    "collect(10:-1:1)"
   ]
  },
  {
   "cell_type": "code",
   "execution_count": 94,
   "metadata": {},
   "outputs": [
    {
     "data": {
      "text/plain": [
       "bubblesort! (generic function with 1 method)"
      ]
     },
     "execution_count": 94,
     "metadata": {},
     "output_type": "execute_result"
    }
   ],
   "source": [
    "function bubblesort!(a)\n",
    "    N = length(a)\n",
    "    \n",
    "    for rechts in N:-1:2\n",
    "        for i in 1:(rechts-1)\n",
    "            if a[i] > a[i+1] # wenn links größer als rechts\n",
    "                swap!(a, i, i+1)\n",
    "            end\n",
    "        end\n",
    "    end\n",
    "    \n",
    "    return a\n",
    "end"
   ]
  },
  {
   "cell_type": "code",
   "execution_count": 82,
   "metadata": {},
   "outputs": [
    {
     "data": {
      "text/plain": [
       "10-element Array{Int64,1}:\n",
       "  2\n",
       "  3\n",
       "  2\n",
       "  6\n",
       "  8\n",
       " 10\n",
       "  2\n",
       "  3\n",
       "  4\n",
       " 10"
      ]
     },
     "execution_count": 82,
     "metadata": {},
     "output_type": "execute_result"
    }
   ],
   "source": [
    "a = rand(1:10, 10)"
   ]
  },
  {
   "cell_type": "code",
   "execution_count": 84,
   "metadata": {},
   "outputs": [
    {
     "data": {
      "text/plain": [
       "7-element Array{String,1}:\n",
       " \"köln\"        \n",
       " \"wasauchimmer\"\n",
       " \"hallo\"       \n",
       " \"wasauchimmer\"\n",
       " \"hallo\"       \n",
       " \"wasauchimmer\"\n",
       " \"köln\"        "
      ]
     },
     "execution_count": 84,
     "metadata": {},
     "output_type": "execute_result"
    }
   ],
   "source": [
    "rand([\"hallo\", \"köln\", \"wasauchimmer\"], 7)"
   ]
  },
  {
   "cell_type": "code",
   "execution_count": 95,
   "metadata": {},
   "outputs": [
    {
     "data": {
      "text/plain": [
       "10-element Array{Int64,1}:\n",
       "  9\n",
       "  8\n",
       "  1\n",
       "  4\n",
       " 10\n",
       "  4\n",
       "  5\n",
       "  3\n",
       " 10\n",
       "  7"
      ]
     },
     "execution_count": 95,
     "metadata": {},
     "output_type": "execute_result"
    }
   ],
   "source": [
    "a = rand(1:10, 10)"
   ]
  },
  {
   "cell_type": "code",
   "execution_count": 96,
   "metadata": {},
   "outputs": [
    {
     "data": {
      "text/plain": [
       "10-element Array{Int64,1}:\n",
       "  1\n",
       "  3\n",
       "  4\n",
       "  4\n",
       "  5\n",
       "  7\n",
       "  8\n",
       "  9\n",
       " 10\n",
       " 10"
      ]
     },
     "execution_count": 96,
     "metadata": {},
     "output_type": "execute_result"
    }
   ],
   "source": [
    "bubblesort!(a)"
   ]
  },
  {
   "cell_type": "code",
   "execution_count": 97,
   "metadata": {},
   "outputs": [
    {
     "data": {
      "text/plain": [
       "10-element Array{Int64,1}:\n",
       "  1\n",
       "  3\n",
       "  4\n",
       "  4\n",
       "  5\n",
       "  7\n",
       "  8\n",
       "  9\n",
       " 10\n",
       " 10"
      ]
     },
     "execution_count": 97,
     "metadata": {},
     "output_type": "execute_result"
    }
   ],
   "source": [
    "a"
   ]
  },
  {
   "cell_type": "markdown",
   "metadata": {},
   "source": [
    "## Visualisierung"
   ]
  },
  {
   "cell_type": "code",
   "execution_count": 98,
   "metadata": {},
   "outputs": [
    {
     "data": {
      "text/plain": [
       "show_bubble_sort (generic function with 1 method)"
      ]
     },
     "execution_count": 98,
     "metadata": {},
     "output_type": "execute_result"
    }
   ],
   "source": [
    "using PyPlot, Random\n",
    "\n",
    "function show_bubble_schritt(n)\n",
    "    a = shuffle(1:n)\n",
    "    \n",
    "    pygui(true)\n",
    "    fig = figure()\n",
    "    title(\"Bubble-Schritt\")\n",
    "    for rechts = length(a):-1:length(a)\n",
    "        # bubble-Schritt\n",
    "        for i in 1:rechts-1\n",
    "            if a[i]>a[i+1]\n",
    "                swap!(a, i, i+1)\n",
    "            end\n",
    "            fig.clear()\n",
    "            bar(1:length(a), a)\n",
    "            m, mind = findmax(a)\n",
    "            bar(mind, m, color=\"red\")\n",
    "            sleep(0.001)\n",
    "        end\n",
    "    end\n",
    "    pygui(false)\n",
    "    nothing\n",
    "end\n",
    "\n",
    "function show_bubble_sort(n)\n",
    "    a = shuffle(1:n)\n",
    "    \n",
    "    pygui(true)\n",
    "    fig = figure()\n",
    "    title(\"Bubble-Sort\")\n",
    "    for rechts = length(a):-1:2\n",
    "        # bubble-Schritt\n",
    "        for i in 1:rechts-1\n",
    "            if a[i]>a[i+1]\n",
    "                swap!(a, i, i+1)\n",
    "            end\n",
    "        end\n",
    "        fig.clear()\n",
    "        bar(1:length(a), a)\n",
    "        m, mind = findmax(a[1:rechts])\n",
    "        bar(mind, m, color=\"red\")\n",
    "        sleep(0.001)\n",
    "    end\n",
    "    pygui(false)\n",
    "    nothing\n",
    "end"
   ]
  },
  {
   "cell_type": "code",
   "execution_count": 100,
   "metadata": {},
   "outputs": [],
   "source": [
    "show_bubble_schritt(40)"
   ]
  },
  {
   "cell_type": "code",
   "execution_count": 101,
   "metadata": {},
   "outputs": [],
   "source": [
    "show_bubble_sort(40)"
   ]
  },
  {
   "cell_type": "markdown",
   "metadata": {},
   "source": [
    "## 3. Timing und Komplexität"
   ]
  },
  {
   "cell_type": "code",
   "execution_count": 6,
   "metadata": {},
   "outputs": [],
   "source": [
    "b = rand(50000);"
   ]
  },
  {
   "cell_type": "code",
   "execution_count": 7,
   "metadata": {},
   "outputs": [
    {
     "name": "stdout",
     "output_type": "stream",
     "text": [
      "  4.237893 seconds (26.33 k allocations: 1.333 MiB, 0.08% gc time)\n"
     ]
    }
   ],
   "source": [
    "@time bubblesort!(b);"
   ]
  },
  {
   "cell_type": "code",
   "execution_count": 8,
   "metadata": {},
   "outputs": [
    {
     "data": {
      "text/plain": [
       "benchmark_bubblesort (generic function with 1 method)"
      ]
     },
     "execution_count": 8,
     "metadata": {},
     "output_type": "execute_result"
    }
   ],
   "source": [
    "function benchmark_bubblesort()\n",
    "    number_count = [0.0]\n",
    "    elapsed_time = [0.0]\n",
    "\n",
    "    for i in 1:16\n",
    "        b = rand(2^i)\n",
    "        t = @elapsed bubblesort!(b)\n",
    "        println(2^i, \"\\t\", t)\n",
    "        push!(number_count, 2^i)\n",
    "        push!(elapsed_time, t)\n",
    "    end\n",
    "    \n",
    "    return number_count, elapsed_time\n",
    "end"
   ]
  },
  {
   "cell_type": "code",
   "execution_count": 9,
   "metadata": {},
   "outputs": [
    {
     "name": "stdout",
     "output_type": "stream",
     "text": [
      "2\t4.99e-7\n",
      "4\t4.0e-7\n",
      "8\t2.99e-7\n",
      "16\t6.0e-7\n",
      "32\t1.599e-6\n",
      "64\t5.899e-6\n",
      "128\t1.67e-5\n",
      "256\t0.000196\n",
      "512\t0.0002221\n",
      "1024\t0.0008542\n",
      "2048\t0.003413601\n",
      "4096\t0.0172408\n",
      "8192\t0.090724101\n",
      "16384\t0.416059101\n",
      "32768\t1.7874153\n",
      "65536\t7.7880827\n"
     ]
    }
   ],
   "source": [
    "number_count, elapsed_time = benchmark_bubblesort();"
   ]
  },
  {
   "cell_type": "code",
   "execution_count": 10,
   "metadata": {},
   "outputs": [
    {
     "data": {
      "image/png": "[encoded data removed]",
      "text/plain": [
       "Figure(PyObject <Figure size 640x480 with 1 Axes>)"
      ]
     },
     "metadata": {},
     "output_type": "display_data"
    },
    {
     "data": {
      "text/plain": [
       "PyObject Text(0.5, 1.0, 'Bubble Sort Duration')"
      ]
     },
     "execution_count": 10,
     "metadata": {},
     "output_type": "execute_result"
    }
   ],
   "source": [
    "using PyPlot\n",
    "\n",
    "plot(number_count, elapsed_time, marker=\"o\", label=\"bubblesort\");\n",
    "legend(loc=4);\n",
    "xlabel(\"# number to be sorted\");\n",
    "ylabel(\"elapsed time\");\n",
    "title(\"Bubble Sort Duration\")"
   ]
  },
  {
   "cell_type": "code",
   "execution_count": 11,
   "metadata": {},
   "outputs": [
    {
     "data": {
      "image/png": "[encoded data removed]",
      "text/plain": [
       "Figure(PyObject <Figure size 640x480 with 1 Axes>)"
      ]
     },
     "metadata": {},
     "output_type": "display_data"
    }
   ],
   "source": [
    "using PyPlot, Polynomials\n",
    "\n",
    "# fit straight line in loglog space (ignoring first couple of datapoints)\n",
    "p = polyfit(log.(number_count[7:end]), log.(elapsed_time[7:end]), 1)\n",
    "m = p.a[2]\n",
    "\n",
    "plot(number_count, elapsed_time, marker=\"o\", label=\"bubblesort\");\n",
    "plot(number_count, exp.(p.(log.(number_count))), label=\"linear fit (slope ≈ $(round(m, digits=2)))\")\n",
    "legend(loc=4);\n",
    "xscale(\"log\")\n",
    "yscale(\"log\")\n",
    "xlabel(\"# number to be sorted\");\n",
    "ylabel(\"elapsed time\");\n",
    "title(\"Bubble Sort Duration (loglog)\");"
   ]
  },
  {
   "cell_type": "markdown",
   "metadata": {},
   "source": [
    "### Komplexität (asymptotisches Verhalten): BubbleSort $\\in \\mathcal{O}(n^2)$\n",
    "\n",
    "O-Notation: https://de.wikipedia.org/wiki/Landau-Symbole#Beispiele_und_Notation"
   ]
  },
  {
   "cell_type": "markdown",
   "metadata": {},
   "source": [
    "## Vergleich mit Julias `sort!`"
   ]
  },
  {
   "cell_type": "code",
   "execution_count": 12,
   "metadata": {},
   "outputs": [
    {
     "data": {
      "text/plain": [
       "benchmark_juliasort (generic function with 1 method)"
      ]
     },
     "execution_count": 12,
     "metadata": {},
     "output_type": "execute_result"
    }
   ],
   "source": [
    "function benchmark_juliasort()\n",
    "    number_count = [0.0]\n",
    "    elapsed_time = [0.0]\n",
    "\n",
    "    for i in 1:16\n",
    "        b = rand(2^i)\n",
    "        t = @elapsed sort!(b)\n",
    "        println(2^i, \"\\t\", t)\n",
    "        push!(number_count, 2^i)\n",
    "        push!(elapsed_time, t)\n",
    "    end\n",
    "    \n",
    "    return number_count, elapsed_time\n",
    "end"
   ]
  },
  {
   "cell_type": "code",
   "execution_count": 13,
   "metadata": {},
   "outputs": [
    {
     "name": "stdout",
     "output_type": "stream",
     "text": [
      "2\t1.01e-7\n",
      "4\t4.0e-7\n",
      "8\t5.01e-7\n",
      "16\t4.0e-7\n",
      "32\t8.0e-7\n",
      "64\t1.699e-6\n",
      "128\t3.101e-6\n",
      "256\t7.099e-6\n",
      "512\t1.61e-5\n",
      "1024\t5.01e-5\n",
      "2048\t0.000156601\n",
      "4096\t0.000178901\n",
      "8192\t0.000422901\n",
      "16384\t0.000766699\n",
      "32768\t0.0016012\n",
      "65536\t0.003472799\n"
     ]
    }
   ],
   "source": [
    "number_count, elapsed_time = benchmark_juliasort();"
   ]
  },
  {
   "cell_type": "code",
   "execution_count": 14,
   "metadata": {},
   "outputs": [
    {
     "data": {
      "image/png": "[encoded data removed]",
      "text/plain": [
       "Figure(PyObject <Figure size 640x480 with 1 Axes>)"
      ]
     },
     "metadata": {},
     "output_type": "display_data"
    }
   ],
   "source": [
    "using PyPlot, Polynomials\n",
    "\n",
    "# fit straight line in loglog space (ignoring first couple of datapoints)\n",
    "p = polyfit(log.(number_count[7:end]), log.(elapsed_time[7:end]), 1)\n",
    "m = p.a[2]\n",
    "\n",
    "plot(number_count, elapsed_time, marker=\"o\", label=\"bubblesort\");\n",
    "plot(number_count, exp.(p.(log.(number_count))), label=\"linear fit (slope ≈ $(round(m, digits=2)))\")\n",
    "legend(loc=4);\n",
    "xscale(\"log\")\n",
    "yscale(\"log\")\n",
    "xlabel(\"# number to be sorted\");\n",
    "ylabel(\"elapsed time\");\n",
    "title(\"Julia's Internal Sort Duration (loglog)\");"
   ]
  },
  {
   "cell_type": "markdown",
   "metadata": {},
   "source": [
    "Übersicht der Komplexität verschiedener Sortierverfahren: https://de.wikipedia.org/wiki/Sortierverfahren"
   ]
  },
  {
   "cell_type": "markdown",
   "metadata": {},
   "source": [
    "**Randnotiz:** Die Macros `@time` und `@elapsed` sind hilfreich, sollten jedoch meistens vermieden werden, da Nebeneffekte das Messergebnis verzerren können. Führen Sie beispielsweise `@time sort(rand(1000));` zweimal aus und beobachten Sie, wie sich das Ergebnis ändert.\n",
    "\n",
    "Es ist stattdessen empfehlenswert auf `@btime` und `@belapsed` aus dem Paket [BenchmarkTools.jl](https://github.com/JuliaCI/BenchmarkTools.jl) verwenden."
   ]
  },
  {
   "cell_type": "code",
   "execution_count": 15,
   "metadata": {},
   "outputs": [
    {
     "name": "stdout",
     "output_type": "stream",
     "text": [
      "  0.004349 seconds (6.02 k allocations: 336.401 KiB)\n"
     ]
    }
   ],
   "source": [
    "@time sort(rand(1000));"
   ]
  },
  {
   "cell_type": "code",
   "execution_count": 16,
   "metadata": {},
   "outputs": [
    {
     "name": "stdout",
     "output_type": "stream",
     "text": [
      "  0.000041 seconds (6 allocations: 16.031 KiB)\n"
     ]
    }
   ],
   "source": [
    "@time sort(rand(1000));"
   ]
  },
  {
   "cell_type": "code",
   "execution_count": null,
   "metadata": {},
   "outputs": [],
   "source": [
    "] add BenchmarkTools"
   ]
  },
  {
   "cell_type": "code",
   "execution_count": 17,
   "metadata": {},
   "outputs": [],
   "source": [
    "using BenchmarkTools"
   ]
  },
  {
   "cell_type": "code",
   "execution_count": 18,
   "metadata": {},
   "outputs": [
    {
     "name": "stdout",
     "output_type": "stream",
     "text": [
      "  30.499 μs (2 allocations: 15.88 KiB)\n"
     ]
    }
   ],
   "source": [
    "@btime sort(rand(1000));"
   ]
  },
  {
   "cell_type": "code",
   "execution_count": 19,
   "metadata": {},
   "outputs": [
    {
     "name": "stdout",
     "output_type": "stream",
     "text": [
      "  31.800 μs (2 allocations: 15.88 KiB)\n"
     ]
    }
   ],
   "source": [
    "@btime sort(rand(1000));"
   ]
  }
 ],
 "metadata": {
  "@webio": {
   "lastCommId": null,
   "lastKernelId": null
  },
  "kernelspec": {
   "display_name": "Julia 1.1.0",
   "language": "julia",
   "name": "julia-1.1"
  },
  "language_info": {
   "file_extension": ".jl",
   "mimetype": "application/julia",
   "name": "julia",
   "version": "1.1.0"
  }
 },
 "nbformat": 4,
 "nbformat_minor": 2
}
